{
 "cells": [
  {
   "cell_type": "code",
   "execution_count": 1,
   "id": "c2ef9b47",
   "metadata": {
    "id": "c2ef9b47"
   },
   "outputs": [],
   "source": [
    "import numpy as np\n",
    "import pandas as pd\n",
    "from tensorflow.keras.models import Sequential\n",
    "from tensorflow.keras.layers import LSTM\n",
    "from tensorflow.keras.layers import Dense\n",
    "from tensorflow.keras.layers import Flatten\n",
    "import matplotlib.pyplot as plt\n",
    "import warnings\n",
    "warnings.filterwarnings('ignore')\n",
    "%matplotlib inline"
   ]
  },
  {
   "cell_type": "code",
   "execution_count": 2,
   "id": "iGQk9lcRmucZ",
   "metadata": {
    "colab": {
     "base_uri": "https://localhost:8080/"
    },
    "id": "iGQk9lcRmucZ",
    "outputId": "34e08e47-324e-4366-eeff-9af3db6bb529"
   },
   "outputs": [
    {
     "name": "stdout",
     "output_type": "stream",
     "text": [
      "Mounted at /content/drive\n"
     ]
    }
   ],
   "source": [
    "from google.colab import drive\n",
    "drive.mount('/content/drive')"
   ]
  },
  {
   "cell_type": "code",
   "execution_count": null,
   "id": "BxDZtfokj6Da",
   "metadata": {
    "colab": {
     "base_uri": "https://localhost:8080/",
     "height": 35
    },
    "id": "BxDZtfokj6Da",
    "outputId": "b20dcdbd-c02a-48ad-a576-4ba9370acae1"
   },
   "outputs": [
    {
     "data": {
      "application/vnd.google.colaboratory.intrinsic+json": {
       "type": "string"
      },
      "text/plain": [
       "'/device:GPU:0'"
      ]
     },
     "execution_count": 5,
     "metadata": {},
     "output_type": "execute_result"
    }
   ],
   "source": [
    "import tensorflow as tf\n",
    "tf.test.gpu_device_name()"
   ]
  },
  {
   "cell_type": "code",
   "execution_count": null,
   "id": "UDt4KrAxj6JS",
   "metadata": {
    "colab": {
     "base_uri": "https://localhost:8080/"
    },
    "id": "UDt4KrAxj6JS",
    "outputId": "9d528187-3aea-4259-a635-0d1eddbc47d0"
   },
   "outputs": [
    {
     "data": {
      "text/plain": [
       "[name: \"/device:CPU:0\"\n",
       " device_type: \"CPU\"\n",
       " memory_limit: 268435456\n",
       " locality {\n",
       " }\n",
       " incarnation: 14494480343520806349\n",
       " xla_global_id: -1, name: \"/device:GPU:0\"\n",
       " device_type: \"GPU\"\n",
       " memory_limit: 11320098816\n",
       " locality {\n",
       "   bus_id: 1\n",
       "   links {\n",
       "   }\n",
       " }\n",
       " incarnation: 1229225032833911937\n",
       " physical_device_desc: \"device: 0, name: Tesla K80, pci bus id: 0000:00:04.0, compute capability: 3.7\"\n",
       " xla_global_id: 416903419]"
      ]
     },
     "execution_count": 6,
     "metadata": {},
     "output_type": "execute_result"
    }
   ],
   "source": [
    "from tensorflow.python.client import device_lib\n",
    "device_lib.list_local_devices()"
   ]
  },
  {
   "cell_type": "code",
   "execution_count": 9,
   "id": "30d066a0",
   "metadata": {
    "colab": {
     "base_uri": "https://localhost:8080/",
     "height": 206
    },
    "id": "30d066a0",
    "outputId": "84bcda79-06bb-4949-c176-b61eb0e526ac"
   },
   "outputs": [
    {
     "data": {
      "text/html": [
       "\n",
       "  <div id=\"df-7ea24fb2-4e66-4cba-a528-5e187b037320\">\n",
       "    <div class=\"colab-df-container\">\n",
       "      <div>\n",
       "<style scoped>\n",
       "    .dataframe tbody tr th:only-of-type {\n",
       "        vertical-align: middle;\n",
       "    }\n",
       "\n",
       "    .dataframe tbody tr th {\n",
       "        vertical-align: top;\n",
       "    }\n",
       "\n",
       "    .dataframe thead th {\n",
       "        text-align: right;\n",
       "    }\n",
       "</style>\n",
       "<table border=\"1\" class=\"dataframe\">\n",
       "  <thead>\n",
       "    <tr style=\"text-align: right;\">\n",
       "      <th></th>\n",
       "      <th>date</th>\n",
       "      <th>country</th>\n",
       "      <th>cumulative_total_cases</th>\n",
       "      <th>daily_new_cases</th>\n",
       "      <th>active_cases</th>\n",
       "      <th>cumulative_total_deaths</th>\n",
       "      <th>daily_new_deaths</th>\n",
       "    </tr>\n",
       "  </thead>\n",
       "  <tbody>\n",
       "    <tr>\n",
       "      <th>0</th>\n",
       "      <td>2020-2-15</td>\n",
       "      <td>Afghanistan</td>\n",
       "      <td>0.0</td>\n",
       "      <td>NaN</td>\n",
       "      <td>0.0</td>\n",
       "      <td>0.0</td>\n",
       "      <td>NaN</td>\n",
       "    </tr>\n",
       "    <tr>\n",
       "      <th>1</th>\n",
       "      <td>2020-2-16</td>\n",
       "      <td>Afghanistan</td>\n",
       "      <td>0.0</td>\n",
       "      <td>NaN</td>\n",
       "      <td>0.0</td>\n",
       "      <td>0.0</td>\n",
       "      <td>NaN</td>\n",
       "    </tr>\n",
       "    <tr>\n",
       "      <th>2</th>\n",
       "      <td>2020-2-17</td>\n",
       "      <td>Afghanistan</td>\n",
       "      <td>0.0</td>\n",
       "      <td>NaN</td>\n",
       "      <td>0.0</td>\n",
       "      <td>0.0</td>\n",
       "      <td>NaN</td>\n",
       "    </tr>\n",
       "    <tr>\n",
       "      <th>3</th>\n",
       "      <td>2020-2-18</td>\n",
       "      <td>Afghanistan</td>\n",
       "      <td>0.0</td>\n",
       "      <td>NaN</td>\n",
       "      <td>0.0</td>\n",
       "      <td>0.0</td>\n",
       "      <td>NaN</td>\n",
       "    </tr>\n",
       "    <tr>\n",
       "      <th>4</th>\n",
       "      <td>2020-2-19</td>\n",
       "      <td>Afghanistan</td>\n",
       "      <td>0.0</td>\n",
       "      <td>NaN</td>\n",
       "      <td>0.0</td>\n",
       "      <td>0.0</td>\n",
       "      <td>NaN</td>\n",
       "    </tr>\n",
       "  </tbody>\n",
       "</table>\n",
       "</div>\n",
       "      <button class=\"colab-df-convert\" onclick=\"convertToInteractive('df-7ea24fb2-4e66-4cba-a528-5e187b037320')\"\n",
       "              title=\"Convert this dataframe to an interactive table.\"\n",
       "              style=\"display:none;\">\n",
       "        \n",
       "  <svg xmlns=\"http://www.w3.org/2000/svg\" height=\"24px\"viewBox=\"0 0 24 24\"\n",
       "       width=\"24px\">\n",
       "    <path d=\"M0 0h24v24H0V0z\" fill=\"none\"/>\n",
       "    <path d=\"M18.56 5.44l.94 2.06.94-2.06 2.06-.94-2.06-.94-.94-2.06-.94 2.06-2.06.94zm-11 1L8.5 8.5l.94-2.06 2.06-.94-2.06-.94L8.5 2.5l-.94 2.06-2.06.94zm10 10l.94 2.06.94-2.06 2.06-.94-2.06-.94-.94-2.06-.94 2.06-2.06.94z\"/><path d=\"M17.41 7.96l-1.37-1.37c-.4-.4-.92-.59-1.43-.59-.52 0-1.04.2-1.43.59L10.3 9.45l-7.72 7.72c-.78.78-.78 2.05 0 2.83L4 21.41c.39.39.9.59 1.41.59.51 0 1.02-.2 1.41-.59l7.78-7.78 2.81-2.81c.8-.78.8-2.07 0-2.86zM5.41 20L4 18.59l7.72-7.72 1.47 1.35L5.41 20z\"/>\n",
       "  </svg>\n",
       "      </button>\n",
       "      \n",
       "  <style>\n",
       "    .colab-df-container {\n",
       "      display:flex;\n",
       "      flex-wrap:wrap;\n",
       "      gap: 12px;\n",
       "    }\n",
       "\n",
       "    .colab-df-convert {\n",
       "      background-color: #E8F0FE;\n",
       "      border: none;\n",
       "      border-radius: 50%;\n",
       "      cursor: pointer;\n",
       "      display: none;\n",
       "      fill: #1967D2;\n",
       "      height: 32px;\n",
       "      padding: 0 0 0 0;\n",
       "      width: 32px;\n",
       "    }\n",
       "\n",
       "    .colab-df-convert:hover {\n",
       "      background-color: #E2EBFA;\n",
       "      box-shadow: 0px 1px 2px rgba(60, 64, 67, 0.3), 0px 1px 3px 1px rgba(60, 64, 67, 0.15);\n",
       "      fill: #174EA6;\n",
       "    }\n",
       "\n",
       "    [theme=dark] .colab-df-convert {\n",
       "      background-color: #3B4455;\n",
       "      fill: #D2E3FC;\n",
       "    }\n",
       "\n",
       "    [theme=dark] .colab-df-convert:hover {\n",
       "      background-color: #434B5C;\n",
       "      box-shadow: 0px 1px 3px 1px rgba(0, 0, 0, 0.15);\n",
       "      filter: drop-shadow(0px 1px 2px rgba(0, 0, 0, 0.3));\n",
       "      fill: #FFFFFF;\n",
       "    }\n",
       "  </style>\n",
       "\n",
       "      <script>\n",
       "        const buttonEl =\n",
       "          document.querySelector('#df-7ea24fb2-4e66-4cba-a528-5e187b037320 button.colab-df-convert');\n",
       "        buttonEl.style.display =\n",
       "          google.colab.kernel.accessAllowed ? 'block' : 'none';\n",
       "\n",
       "        async function convertToInteractive(key) {\n",
       "          const element = document.querySelector('#df-7ea24fb2-4e66-4cba-a528-5e187b037320');\n",
       "          const dataTable =\n",
       "            await google.colab.kernel.invokeFunction('convertToInteractive',\n",
       "                                                     [key], {});\n",
       "          if (!dataTable) return;\n",
       "\n",
       "          const docLinkHtml = 'Like what you see? Visit the ' +\n",
       "            '<a target=\"_blank\" href=https://colab.research.google.com/notebooks/data_table.ipynb>data table notebook</a>'\n",
       "            + ' to learn more about interactive tables.';\n",
       "          element.innerHTML = '';\n",
       "          dataTable['output_type'] = 'display_data';\n",
       "          await google.colab.output.renderOutput(dataTable, element);\n",
       "          const docLink = document.createElement('div');\n",
       "          docLink.innerHTML = docLinkHtml;\n",
       "          element.appendChild(docLink);\n",
       "        }\n",
       "      </script>\n",
       "    </div>\n",
       "  </div>\n",
       "  "
      ],
      "text/plain": [
       "        date      country  ...  cumulative_total_deaths  daily_new_deaths\n",
       "0  2020-2-15  Afghanistan  ...                      0.0               NaN\n",
       "1  2020-2-16  Afghanistan  ...                      0.0               NaN\n",
       "2  2020-2-17  Afghanistan  ...                      0.0               NaN\n",
       "3  2020-2-18  Afghanistan  ...                      0.0               NaN\n",
       "4  2020-2-19  Afghanistan  ...                      0.0               NaN\n",
       "\n",
       "[5 rows x 7 columns]"
      ]
     },
     "execution_count": 9,
     "metadata": {},
     "output_type": "execute_result"
    }
   ],
   "source": [
    "master_df = pd.read_csv('/content/drive/MyDrive/Colab Notebooks/HealthCare/worldometer_coronavirus_daily_data_latest.csv')\n",
    "master_df.head()"
   ]
  },
  {
   "cell_type": "code",
   "execution_count": 10,
   "id": "e2663bb4",
   "metadata": {
    "colab": {
     "base_uri": "https://localhost:8080/",
     "height": 206
    },
    "id": "e2663bb4",
    "outputId": "ce9b472c-794a-4d69-da05-3ce8484b1b37"
   },
   "outputs": [
    {
     "data": {
      "text/html": [
       "\n",
       "  <div id=\"df-be632f3f-abb4-4edd-9cf5-78ae0fd19b48\">\n",
       "    <div class=\"colab-df-container\">\n",
       "      <div>\n",
       "<style scoped>\n",
       "    .dataframe tbody tr th:only-of-type {\n",
       "        vertical-align: middle;\n",
       "    }\n",
       "\n",
       "    .dataframe tbody tr th {\n",
       "        vertical-align: top;\n",
       "    }\n",
       "\n",
       "    .dataframe thead th {\n",
       "        text-align: right;\n",
       "    }\n",
       "</style>\n",
       "<table border=\"1\" class=\"dataframe\">\n",
       "  <thead>\n",
       "    <tr style=\"text-align: right;\">\n",
       "      <th></th>\n",
       "      <th>date</th>\n",
       "      <th>country</th>\n",
       "      <th>cumulative_total_cases</th>\n",
       "      <th>daily_new_cases</th>\n",
       "      <th>active_cases</th>\n",
       "      <th>cumulative_total_deaths</th>\n",
       "      <th>daily_new_deaths</th>\n",
       "    </tr>\n",
       "  </thead>\n",
       "  <tbody>\n",
       "    <tr>\n",
       "      <th>152730</th>\n",
       "      <td>2022-1-01</td>\n",
       "      <td>Zimbabwe</td>\n",
       "      <td>214214.0</td>\n",
       "      <td>956.0</td>\n",
       "      <td>26786.0</td>\n",
       "      <td>5017.0</td>\n",
       "      <td>13.0</td>\n",
       "    </tr>\n",
       "    <tr>\n",
       "      <th>152731</th>\n",
       "      <td>2022-1-02</td>\n",
       "      <td>Zimbabwe</td>\n",
       "      <td>214878.0</td>\n",
       "      <td>664.0</td>\n",
       "      <td>26585.0</td>\n",
       "      <td>5032.0</td>\n",
       "      <td>15.0</td>\n",
       "    </tr>\n",
       "    <tr>\n",
       "      <th>152732</th>\n",
       "      <td>2022-1-03</td>\n",
       "      <td>Zimbabwe</td>\n",
       "      <td>216087.0</td>\n",
       "      <td>1209.0</td>\n",
       "      <td>25446.0</td>\n",
       "      <td>5047.0</td>\n",
       "      <td>15.0</td>\n",
       "    </tr>\n",
       "    <tr>\n",
       "      <th>152733</th>\n",
       "      <td>2022-1-04</td>\n",
       "      <td>Zimbabwe</td>\n",
       "      <td>217678.0</td>\n",
       "      <td>1591.0</td>\n",
       "      <td>24620.0</td>\n",
       "      <td>5078.0</td>\n",
       "      <td>31.0</td>\n",
       "    </tr>\n",
       "    <tr>\n",
       "      <th>152734</th>\n",
       "      <td>2022-1-05</td>\n",
       "      <td>Zimbabwe</td>\n",
       "      <td>219057.0</td>\n",
       "      <td>1379.0</td>\n",
       "      <td>24252.0</td>\n",
       "      <td>5092.0</td>\n",
       "      <td>14.0</td>\n",
       "    </tr>\n",
       "  </tbody>\n",
       "</table>\n",
       "</div>\n",
       "      <button class=\"colab-df-convert\" onclick=\"convertToInteractive('df-be632f3f-abb4-4edd-9cf5-78ae0fd19b48')\"\n",
       "              title=\"Convert this dataframe to an interactive table.\"\n",
       "              style=\"display:none;\">\n",
       "        \n",
       "  <svg xmlns=\"http://www.w3.org/2000/svg\" height=\"24px\"viewBox=\"0 0 24 24\"\n",
       "       width=\"24px\">\n",
       "    <path d=\"M0 0h24v24H0V0z\" fill=\"none\"/>\n",
       "    <path d=\"M18.56 5.44l.94 2.06.94-2.06 2.06-.94-2.06-.94-.94-2.06-.94 2.06-2.06.94zm-11 1L8.5 8.5l.94-2.06 2.06-.94-2.06-.94L8.5 2.5l-.94 2.06-2.06.94zm10 10l.94 2.06.94-2.06 2.06-.94-2.06-.94-.94-2.06-.94 2.06-2.06.94z\"/><path d=\"M17.41 7.96l-1.37-1.37c-.4-.4-.92-.59-1.43-.59-.52 0-1.04.2-1.43.59L10.3 9.45l-7.72 7.72c-.78.78-.78 2.05 0 2.83L4 21.41c.39.39.9.59 1.41.59.51 0 1.02-.2 1.41-.59l7.78-7.78 2.81-2.81c.8-.78.8-2.07 0-2.86zM5.41 20L4 18.59l7.72-7.72 1.47 1.35L5.41 20z\"/>\n",
       "  </svg>\n",
       "      </button>\n",
       "      \n",
       "  <style>\n",
       "    .colab-df-container {\n",
       "      display:flex;\n",
       "      flex-wrap:wrap;\n",
       "      gap: 12px;\n",
       "    }\n",
       "\n",
       "    .colab-df-convert {\n",
       "      background-color: #E8F0FE;\n",
       "      border: none;\n",
       "      border-radius: 50%;\n",
       "      cursor: pointer;\n",
       "      display: none;\n",
       "      fill: #1967D2;\n",
       "      height: 32px;\n",
       "      padding: 0 0 0 0;\n",
       "      width: 32px;\n",
       "    }\n",
       "\n",
       "    .colab-df-convert:hover {\n",
       "      background-color: #E2EBFA;\n",
       "      box-shadow: 0px 1px 2px rgba(60, 64, 67, 0.3), 0px 1px 3px 1px rgba(60, 64, 67, 0.15);\n",
       "      fill: #174EA6;\n",
       "    }\n",
       "\n",
       "    [theme=dark] .colab-df-convert {\n",
       "      background-color: #3B4455;\n",
       "      fill: #D2E3FC;\n",
       "    }\n",
       "\n",
       "    [theme=dark] .colab-df-convert:hover {\n",
       "      background-color: #434B5C;\n",
       "      box-shadow: 0px 1px 3px 1px rgba(0, 0, 0, 0.15);\n",
       "      filter: drop-shadow(0px 1px 2px rgba(0, 0, 0, 0.3));\n",
       "      fill: #FFFFFF;\n",
       "    }\n",
       "  </style>\n",
       "\n",
       "      <script>\n",
       "        const buttonEl =\n",
       "          document.querySelector('#df-be632f3f-abb4-4edd-9cf5-78ae0fd19b48 button.colab-df-convert');\n",
       "        buttonEl.style.display =\n",
       "          google.colab.kernel.accessAllowed ? 'block' : 'none';\n",
       "\n",
       "        async function convertToInteractive(key) {\n",
       "          const element = document.querySelector('#df-be632f3f-abb4-4edd-9cf5-78ae0fd19b48');\n",
       "          const dataTable =\n",
       "            await google.colab.kernel.invokeFunction('convertToInteractive',\n",
       "                                                     [key], {});\n",
       "          if (!dataTable) return;\n",
       "\n",
       "          const docLinkHtml = 'Like what you see? Visit the ' +\n",
       "            '<a target=\"_blank\" href=https://colab.research.google.com/notebooks/data_table.ipynb>data table notebook</a>'\n",
       "            + ' to learn more about interactive tables.';\n",
       "          element.innerHTML = '';\n",
       "          dataTable['output_type'] = 'display_data';\n",
       "          await google.colab.output.renderOutput(dataTable, element);\n",
       "          const docLink = document.createElement('div');\n",
       "          docLink.innerHTML = docLinkHtml;\n",
       "          element.appendChild(docLink);\n",
       "        }\n",
       "      </script>\n",
       "    </div>\n",
       "  </div>\n",
       "  "
      ],
      "text/plain": [
       "             date   country  ...  cumulative_total_deaths  daily_new_deaths\n",
       "152730  2022-1-01  Zimbabwe  ...                   5017.0              13.0\n",
       "152731  2022-1-02  Zimbabwe  ...                   5032.0              15.0\n",
       "152732  2022-1-03  Zimbabwe  ...                   5047.0              15.0\n",
       "152733  2022-1-04  Zimbabwe  ...                   5078.0              31.0\n",
       "152734  2022-1-05  Zimbabwe  ...                   5092.0              14.0\n",
       "\n",
       "[5 rows x 7 columns]"
      ]
     },
     "execution_count": 10,
     "metadata": {},
     "output_type": "execute_result"
    }
   ],
   "source": [
    "master_df.tail()"
   ]
  },
  {
   "cell_type": "code",
   "execution_count": 11,
   "id": "0482272d",
   "metadata": {
    "colab": {
     "base_uri": "https://localhost:8080/"
    },
    "id": "0482272d",
    "outputId": "597bd5c7-8c51-4694-f2aa-cf8f1df09a59"
   },
   "outputs": [
    {
     "data": {
      "text/plain": [
       "(152735, 7)"
      ]
     },
     "execution_count": 11,
     "metadata": {},
     "output_type": "execute_result"
    }
   ],
   "source": [
    "master_df.shape"
   ]
  },
  {
   "cell_type": "code",
   "execution_count": 12,
   "id": "076f1ad3",
   "metadata": {
    "colab": {
     "base_uri": "https://localhost:8080/"
    },
    "id": "076f1ad3",
    "outputId": "39b49113-36f5-4e14-a3a2-c9c9962db9e3"
   },
   "outputs": [
    {
     "name": "stdout",
     "output_type": "stream",
     "text": [
      "<class 'pandas.core.frame.DataFrame'>\n",
      "RangeIndex: 152735 entries, 0 to 152734\n",
      "Data columns (total 7 columns):\n",
      " #   Column                   Non-Null Count   Dtype  \n",
      "---  ------                   --------------   -----  \n",
      " 0   date                     152735 non-null  object \n",
      " 1   country                  152735 non-null  object \n",
      " 2   cumulative_total_cases   152735 non-null  float64\n",
      " 3   daily_new_cases          145244 non-null  float64\n",
      " 4   active_cases             147898 non-null  float64\n",
      " 5   cumulative_total_deaths  145825 non-null  float64\n",
      " 6   daily_new_deaths         129468 non-null  float64\n",
      "dtypes: float64(5), object(2)\n",
      "memory usage: 8.2+ MB\n"
     ]
    }
   ],
   "source": [
    "master_df.info()"
   ]
  },
  {
   "cell_type": "code",
   "execution_count": 13,
   "id": "P7iafLm-_PCX",
   "metadata": {
    "id": "P7iafLm-_PCX"
   },
   "outputs": [],
   "source": [
    "df = master_df[master_df['country'] == 'India']"
   ]
  },
  {
   "cell_type": "code",
   "execution_count": 14,
   "id": "4GimAUaT_Sgs",
   "metadata": {
    "id": "4GimAUaT_Sgs"
   },
   "outputs": [],
   "source": [
    "df.fillna(0,inplace=True)"
   ]
  },
  {
   "cell_type": "code",
   "execution_count": 15,
   "id": "n3B1ZoN8_Ulg",
   "metadata": {
    "id": "n3B1ZoN8_Ulg"
   },
   "outputs": [],
   "source": [
    "df.reset_index(drop=True,inplace=True)"
   ]
  },
  {
   "cell_type": "code",
   "execution_count": 16,
   "id": "ZXaa0RR6_Uo3",
   "metadata": {
    "id": "ZXaa0RR6_Uo3"
   },
   "outputs": [],
   "source": [
    "time = pd.date_range(start='2/15/2020',periods=691,freq='D')\n",
    "df['time_stamp'] = pd.DataFrame(time)\n",
    "df.drop(['date','country'],axis=1,inplace=True)\n",
    "df = df.set_index('time_stamp')"
   ]
  },
  {
   "cell_type": "code",
   "execution_count": 17,
   "id": "JEYPKNG6_SkI",
   "metadata": {
    "id": "JEYPKNG6_SkI"
   },
   "outputs": [],
   "source": [
    "df = df[['daily_new_cases']]"
   ]
  },
  {
   "cell_type": "code",
   "execution_count": 19,
   "id": "s8v0QApu_eHS",
   "metadata": {
    "id": "s8v0QApu_eHS"
   },
   "outputs": [],
   "source": [
    "df = df + 1"
   ]
  },
  {
   "cell_type": "code",
   "execution_count": 21,
   "id": "oYAsh_OytrPi",
   "metadata": {
    "colab": {
     "base_uri": "https://localhost:8080/",
     "height": 238
    },
    "id": "oYAsh_OytrPi",
    "outputId": "a00e4e43-c960-4d7b-b2bc-f2f08374a1e0"
   },
   "outputs": [
    {
     "data": {
      "text/html": [
       "\n",
       "  <div id=\"df-0fddb30c-19ad-4db7-a6db-b062355fe360\">\n",
       "    <div class=\"colab-df-container\">\n",
       "      <div>\n",
       "<style scoped>\n",
       "    .dataframe tbody tr th:only-of-type {\n",
       "        vertical-align: middle;\n",
       "    }\n",
       "\n",
       "    .dataframe tbody tr th {\n",
       "        vertical-align: top;\n",
       "    }\n",
       "\n",
       "    .dataframe thead th {\n",
       "        text-align: right;\n",
       "    }\n",
       "</style>\n",
       "<table border=\"1\" class=\"dataframe\">\n",
       "  <thead>\n",
       "    <tr style=\"text-align: right;\">\n",
       "      <th></th>\n",
       "      <th>daily_new_cases</th>\n",
       "    </tr>\n",
       "    <tr>\n",
       "      <th>time_stamp</th>\n",
       "      <th></th>\n",
       "    </tr>\n",
       "  </thead>\n",
       "  <tbody>\n",
       "    <tr>\n",
       "      <th>2020-02-15</th>\n",
       "      <td>1.0</td>\n",
       "    </tr>\n",
       "    <tr>\n",
       "      <th>2020-02-16</th>\n",
       "      <td>1.0</td>\n",
       "    </tr>\n",
       "    <tr>\n",
       "      <th>2020-02-17</th>\n",
       "      <td>1.0</td>\n",
       "    </tr>\n",
       "    <tr>\n",
       "      <th>2020-02-18</th>\n",
       "      <td>1.0</td>\n",
       "    </tr>\n",
       "    <tr>\n",
       "      <th>2020-02-19</th>\n",
       "      <td>1.0</td>\n",
       "    </tr>\n",
       "  </tbody>\n",
       "</table>\n",
       "</div>\n",
       "      <button class=\"colab-df-convert\" onclick=\"convertToInteractive('df-0fddb30c-19ad-4db7-a6db-b062355fe360')\"\n",
       "              title=\"Convert this dataframe to an interactive table.\"\n",
       "              style=\"display:none;\">\n",
       "        \n",
       "  <svg xmlns=\"http://www.w3.org/2000/svg\" height=\"24px\"viewBox=\"0 0 24 24\"\n",
       "       width=\"24px\">\n",
       "    <path d=\"M0 0h24v24H0V0z\" fill=\"none\"/>\n",
       "    <path d=\"M18.56 5.44l.94 2.06.94-2.06 2.06-.94-2.06-.94-.94-2.06-.94 2.06-2.06.94zm-11 1L8.5 8.5l.94-2.06 2.06-.94-2.06-.94L8.5 2.5l-.94 2.06-2.06.94zm10 10l.94 2.06.94-2.06 2.06-.94-2.06-.94-.94-2.06-.94 2.06-2.06.94z\"/><path d=\"M17.41 7.96l-1.37-1.37c-.4-.4-.92-.59-1.43-.59-.52 0-1.04.2-1.43.59L10.3 9.45l-7.72 7.72c-.78.78-.78 2.05 0 2.83L4 21.41c.39.39.9.59 1.41.59.51 0 1.02-.2 1.41-.59l7.78-7.78 2.81-2.81c.8-.78.8-2.07 0-2.86zM5.41 20L4 18.59l7.72-7.72 1.47 1.35L5.41 20z\"/>\n",
       "  </svg>\n",
       "      </button>\n",
       "      \n",
       "  <style>\n",
       "    .colab-df-container {\n",
       "      display:flex;\n",
       "      flex-wrap:wrap;\n",
       "      gap: 12px;\n",
       "    }\n",
       "\n",
       "    .colab-df-convert {\n",
       "      background-color: #E8F0FE;\n",
       "      border: none;\n",
       "      border-radius: 50%;\n",
       "      cursor: pointer;\n",
       "      display: none;\n",
       "      fill: #1967D2;\n",
       "      height: 32px;\n",
       "      padding: 0 0 0 0;\n",
       "      width: 32px;\n",
       "    }\n",
       "\n",
       "    .colab-df-convert:hover {\n",
       "      background-color: #E2EBFA;\n",
       "      box-shadow: 0px 1px 2px rgba(60, 64, 67, 0.3), 0px 1px 3px 1px rgba(60, 64, 67, 0.15);\n",
       "      fill: #174EA6;\n",
       "    }\n",
       "\n",
       "    [theme=dark] .colab-df-convert {\n",
       "      background-color: #3B4455;\n",
       "      fill: #D2E3FC;\n",
       "    }\n",
       "\n",
       "    [theme=dark] .colab-df-convert:hover {\n",
       "      background-color: #434B5C;\n",
       "      box-shadow: 0px 1px 3px 1px rgba(0, 0, 0, 0.15);\n",
       "      filter: drop-shadow(0px 1px 2px rgba(0, 0, 0, 0.3));\n",
       "      fill: #FFFFFF;\n",
       "    }\n",
       "  </style>\n",
       "\n",
       "      <script>\n",
       "        const buttonEl =\n",
       "          document.querySelector('#df-0fddb30c-19ad-4db7-a6db-b062355fe360 button.colab-df-convert');\n",
       "        buttonEl.style.display =\n",
       "          google.colab.kernel.accessAllowed ? 'block' : 'none';\n",
       "\n",
       "        async function convertToInteractive(key) {\n",
       "          const element = document.querySelector('#df-0fddb30c-19ad-4db7-a6db-b062355fe360');\n",
       "          const dataTable =\n",
       "            await google.colab.kernel.invokeFunction('convertToInteractive',\n",
       "                                                     [key], {});\n",
       "          if (!dataTable) return;\n",
       "\n",
       "          const docLinkHtml = 'Like what you see? Visit the ' +\n",
       "            '<a target=\"_blank\" href=https://colab.research.google.com/notebooks/data_table.ipynb>data table notebook</a>'\n",
       "            + ' to learn more about interactive tables.';\n",
       "          element.innerHTML = '';\n",
       "          dataTable['output_type'] = 'display_data';\n",
       "          await google.colab.output.renderOutput(dataTable, element);\n",
       "          const docLink = document.createElement('div');\n",
       "          docLink.innerHTML = docLinkHtml;\n",
       "          element.appendChild(docLink);\n",
       "        }\n",
       "      </script>\n",
       "    </div>\n",
       "  </div>\n",
       "  "
      ],
      "text/plain": [
       "            daily_new_cases\n",
       "time_stamp                 \n",
       "2020-02-15              1.0\n",
       "2020-02-16              1.0\n",
       "2020-02-17              1.0\n",
       "2020-02-18              1.0\n",
       "2020-02-19              1.0"
      ]
     },
     "execution_count": 21,
     "metadata": {},
     "output_type": "execute_result"
    }
   ],
   "source": [
    "df.head()"
   ]
  },
  {
   "cell_type": "code",
   "execution_count": 22,
   "id": "PVfreeEkE1aG",
   "metadata": {
    "colab": {
     "base_uri": "https://localhost:8080/",
     "height": 238
    },
    "id": "PVfreeEkE1aG",
    "outputId": "b877c725-b28f-4ea1-d0c7-98546bee0ffc"
   },
   "outputs": [
    {
     "data": {
      "text/html": [
       "\n",
       "  <div id=\"df-5aabc5cd-4c43-4746-8548-c173782a83cf\">\n",
       "    <div class=\"colab-df-container\">\n",
       "      <div>\n",
       "<style scoped>\n",
       "    .dataframe tbody tr th:only-of-type {\n",
       "        vertical-align: middle;\n",
       "    }\n",
       "\n",
       "    .dataframe tbody tr th {\n",
       "        vertical-align: top;\n",
       "    }\n",
       "\n",
       "    .dataframe thead th {\n",
       "        text-align: right;\n",
       "    }\n",
       "</style>\n",
       "<table border=\"1\" class=\"dataframe\">\n",
       "  <thead>\n",
       "    <tr style=\"text-align: right;\">\n",
       "      <th></th>\n",
       "      <th>daily_new_cases</th>\n",
       "    </tr>\n",
       "    <tr>\n",
       "      <th>time_stamp</th>\n",
       "      <th></th>\n",
       "    </tr>\n",
       "  </thead>\n",
       "  <tbody>\n",
       "    <tr>\n",
       "      <th>2022-01-01</th>\n",
       "      <td>27554.0</td>\n",
       "    </tr>\n",
       "    <tr>\n",
       "      <th>2022-01-02</th>\n",
       "      <td>33751.0</td>\n",
       "    </tr>\n",
       "    <tr>\n",
       "      <th>2022-01-03</th>\n",
       "      <td>37380.0</td>\n",
       "    </tr>\n",
       "    <tr>\n",
       "      <th>2022-01-04</th>\n",
       "      <td>58098.0</td>\n",
       "    </tr>\n",
       "    <tr>\n",
       "      <th>2022-01-05</th>\n",
       "      <td>90929.0</td>\n",
       "    </tr>\n",
       "  </tbody>\n",
       "</table>\n",
       "</div>\n",
       "      <button class=\"colab-df-convert\" onclick=\"convertToInteractive('df-5aabc5cd-4c43-4746-8548-c173782a83cf')\"\n",
       "              title=\"Convert this dataframe to an interactive table.\"\n",
       "              style=\"display:none;\">\n",
       "        \n",
       "  <svg xmlns=\"http://www.w3.org/2000/svg\" height=\"24px\"viewBox=\"0 0 24 24\"\n",
       "       width=\"24px\">\n",
       "    <path d=\"M0 0h24v24H0V0z\" fill=\"none\"/>\n",
       "    <path d=\"M18.56 5.44l.94 2.06.94-2.06 2.06-.94-2.06-.94-.94-2.06-.94 2.06-2.06.94zm-11 1L8.5 8.5l.94-2.06 2.06-.94-2.06-.94L8.5 2.5l-.94 2.06-2.06.94zm10 10l.94 2.06.94-2.06 2.06-.94-2.06-.94-.94-2.06-.94 2.06-2.06.94z\"/><path d=\"M17.41 7.96l-1.37-1.37c-.4-.4-.92-.59-1.43-.59-.52 0-1.04.2-1.43.59L10.3 9.45l-7.72 7.72c-.78.78-.78 2.05 0 2.83L4 21.41c.39.39.9.59 1.41.59.51 0 1.02-.2 1.41-.59l7.78-7.78 2.81-2.81c.8-.78.8-2.07 0-2.86zM5.41 20L4 18.59l7.72-7.72 1.47 1.35L5.41 20z\"/>\n",
       "  </svg>\n",
       "      </button>\n",
       "      \n",
       "  <style>\n",
       "    .colab-df-container {\n",
       "      display:flex;\n",
       "      flex-wrap:wrap;\n",
       "      gap: 12px;\n",
       "    }\n",
       "\n",
       "    .colab-df-convert {\n",
       "      background-color: #E8F0FE;\n",
       "      border: none;\n",
       "      border-radius: 50%;\n",
       "      cursor: pointer;\n",
       "      display: none;\n",
       "      fill: #1967D2;\n",
       "      height: 32px;\n",
       "      padding: 0 0 0 0;\n",
       "      width: 32px;\n",
       "    }\n",
       "\n",
       "    .colab-df-convert:hover {\n",
       "      background-color: #E2EBFA;\n",
       "      box-shadow: 0px 1px 2px rgba(60, 64, 67, 0.3), 0px 1px 3px 1px rgba(60, 64, 67, 0.15);\n",
       "      fill: #174EA6;\n",
       "    }\n",
       "\n",
       "    [theme=dark] .colab-df-convert {\n",
       "      background-color: #3B4455;\n",
       "      fill: #D2E3FC;\n",
       "    }\n",
       "\n",
       "    [theme=dark] .colab-df-convert:hover {\n",
       "      background-color: #434B5C;\n",
       "      box-shadow: 0px 1px 3px 1px rgba(0, 0, 0, 0.15);\n",
       "      filter: drop-shadow(0px 1px 2px rgba(0, 0, 0, 0.3));\n",
       "      fill: #FFFFFF;\n",
       "    }\n",
       "  </style>\n",
       "\n",
       "      <script>\n",
       "        const buttonEl =\n",
       "          document.querySelector('#df-5aabc5cd-4c43-4746-8548-c173782a83cf button.colab-df-convert');\n",
       "        buttonEl.style.display =\n",
       "          google.colab.kernel.accessAllowed ? 'block' : 'none';\n",
       "\n",
       "        async function convertToInteractive(key) {\n",
       "          const element = document.querySelector('#df-5aabc5cd-4c43-4746-8548-c173782a83cf');\n",
       "          const dataTable =\n",
       "            await google.colab.kernel.invokeFunction('convertToInteractive',\n",
       "                                                     [key], {});\n",
       "          if (!dataTable) return;\n",
       "\n",
       "          const docLinkHtml = 'Like what you see? Visit the ' +\n",
       "            '<a target=\"_blank\" href=https://colab.research.google.com/notebooks/data_table.ipynb>data table notebook</a>'\n",
       "            + ' to learn more about interactive tables.';\n",
       "          element.innerHTML = '';\n",
       "          dataTable['output_type'] = 'display_data';\n",
       "          await google.colab.output.renderOutput(dataTable, element);\n",
       "          const docLink = document.createElement('div');\n",
       "          docLink.innerHTML = docLinkHtml;\n",
       "          element.appendChild(docLink);\n",
       "        }\n",
       "      </script>\n",
       "    </div>\n",
       "  </div>\n",
       "  "
      ],
      "text/plain": [
       "            daily_new_cases\n",
       "time_stamp                 \n",
       "2022-01-01          27554.0\n",
       "2022-01-02          33751.0\n",
       "2022-01-03          37380.0\n",
       "2022-01-04          58098.0\n",
       "2022-01-05          90929.0"
      ]
     },
     "execution_count": 22,
     "metadata": {},
     "output_type": "execute_result"
    }
   ],
   "source": [
    "df.tail()"
   ]
  },
  {
   "cell_type": "code",
   "execution_count": 23,
   "id": "yBDUaFhPzMMb",
   "metadata": {
    "id": "yBDUaFhPzMMb"
   },
   "outputs": [],
   "source": [
    "plt.rcParams['figure.figsize'] = [15,8]"
   ]
  },
  {
   "cell_type": "code",
   "execution_count": 24,
   "id": "cIgSM89EzBTw",
   "metadata": {
    "colab": {
     "base_uri": "https://localhost:8080/",
     "height": 523
    },
    "id": "cIgSM89EzBTw",
    "outputId": "d8f8df9c-5f99-4d4a-aae2-55176c4ab3b8"
   },
   "outputs": [
    {
     "data": {
      "image/png": "[encoded data removed]",
      "text/plain": [
       "<Figure size 1080x576 with 1 Axes>"
      ]
     },
     "metadata": {
      "needs_background": "light"
     },
     "output_type": "display_data"
    }
   ],
   "source": [
    "plt.plot(df,color='green')\n",
    "plt.title('Ambient Temperature Data - 15 min interval',fontsize=20)\n",
    "plt.xlabel('Date',fontsize=15)\n",
    "plt.ylabel('Celsius',fontsize=15)\n",
    "plt.show()"
   ]
  },
  {
   "cell_type": "code",
   "execution_count": 25,
   "id": "bf59d3e0",
   "metadata": {
    "id": "bf59d3e0"
   },
   "outputs": [],
   "source": [
    "def convert2matrix(data_arr, look_back):\n",
    "    X, Y =[], []\n",
    "    for i in range(len(data_arr)-look_back):\n",
    "        d=i+look_back  \n",
    "        X.append(data_arr[i:d,0])\n",
    "        Y.append(data_arr[d,0])\n",
    "    return np.array(X), np.array(Y)"
   ]
  },
  {
   "cell_type": "code",
   "execution_count": 26,
   "id": "5CBL1GHqurmE",
   "metadata": {
    "id": "5CBL1GHqurmE"
   },
   "outputs": [],
   "source": [
    "from sklearn.preprocessing import MinMaxScaler\n",
    "#create numpy.ndarray \n",
    "df['daily_new_cases'] = df['daily_new_cases'].astype(np.float32)\n",
    "df_arr = df.values\n",
    "df_arr = np.reshape(df_arr, (-1, 1))\n",
    "scaler = MinMaxScaler(feature_range=(0.1, 1))\n",
    "df_arr = scaler.fit_transform(df_arr)"
   ]
  },
  {
   "cell_type": "code",
   "execution_count": 27,
   "id": "1cea6c5f",
   "metadata": {
    "id": "1cea6c5f"
   },
   "outputs": [],
   "source": [
    "#Split data set into testing dataset and train dataset\n",
    "train_size = 621\n",
    "train, test =df_arr[0:train_size,:], df_arr[train_size:len(df_arr),:]\n",
    "# setup look_back window \n",
    "look_back = 10\n",
    "#convert dataset into right shape in order to input into the DNN\n",
    "trainX, trainY = convert2matrix(train, look_back)\n",
    "testX, testY = convert2matrix(test, look_back)"
   ]
  },
  {
   "cell_type": "code",
   "execution_count": 28,
   "id": "c7d46c39",
   "metadata": {
    "colab": {
     "base_uri": "https://localhost:8080/"
    },
    "id": "c7d46c39",
    "outputId": "f93a1393-8f15-4bd5-c0f5-e5c062c2d679"
   },
   "outputs": [
    {
     "name": "stdout",
     "output_type": "stream",
     "text": [
      "(611, 10)\n",
      "(611,)\n",
      "(60, 10)\n",
      "(60,)\n"
     ]
    }
   ],
   "source": [
    "print(trainX.shape)\n",
    "print(trainY.shape)\n",
    "print(testX.shape)\n",
    "print(testY.shape)"
   ]
  },
  {
   "cell_type": "code",
   "execution_count": 29,
   "id": "GIc1nRcCuP3G",
   "metadata": {
    "colab": {
     "base_uri": "https://localhost:8080/"
    },
    "id": "GIc1nRcCuP3G",
    "outputId": "f75d36b1-7942-467b-bf8d-fe8c1290c589"
   },
   "outputs": [
    {
     "name": "stdout",
     "output_type": "stream",
     "text": [
      "\u001b[?25l\r",
      "\u001b[K     |███▍                            | 10 kB 29.5 MB/s eta 0:00:01\r",
      "\u001b[K     |██████▊                         | 20 kB 33.8 MB/s eta 0:00:01\r",
      "\u001b[K     |██████████                      | 30 kB 38.6 MB/s eta 0:00:01\r",
      "\u001b[K     |█████████████▍                  | 40 kB 28.2 MB/s eta 0:00:01\r",
      "\u001b[K     |████████████████▊               | 51 kB 28.6 MB/s eta 0:00:01\r",
      "\u001b[K     |████████████████████            | 61 kB 22.8 MB/s eta 0:00:01\r",
      "\u001b[K     |███████████████████████▍        | 71 kB 20.5 MB/s eta 0:00:01\r",
      "\u001b[K     |██████████████████████████▊     | 81 kB 21.9 MB/s eta 0:00:01\r",
      "\u001b[K     |██████████████████████████████  | 92 kB 23.7 MB/s eta 0:00:01\r",
      "\u001b[K     |████████████████████████████████| 98 kB 7.3 MB/s \n",
      "\u001b[?25h"
     ]
    }
   ],
   "source": [
    "!pip install -q -U keras-tuner"
   ]
  },
  {
   "cell_type": "code",
   "execution_count": 30,
   "id": "M5te5ih0uP6u",
   "metadata": {
    "id": "M5te5ih0uP6u"
   },
   "outputs": [],
   "source": [
    "import pandas as pd\n",
    "from tensorflow import keras\n",
    "from tensorflow.keras import layers\n",
    "from keras_tuner.tuners import RandomSearch\n",
    "from tensorflow.keras.models import Sequential\n",
    "from tensorflow.keras.layers import LSTM\n",
    "from tensorflow.keras.layers import Dense,Dropout\n",
    "from tensorflow.keras.layers import Flatten\n",
    "import matplotlib.pyplot as plt"
   ]
  },
  {
   "cell_type": "code",
   "execution_count": 31,
   "id": "rYiJC5hXuP_e",
   "metadata": {
    "id": "rYiJC5hXuP_e"
   },
   "outputs": [],
   "source": [
    "def build_model(hp):\n",
    "    model = keras.Sequential()\n",
    "    for i in range(hp.Int('num_layers', 1, 6)):\n",
    "        model.add(layers.Dense(units=hp.Int('units_' + str(i),\n",
    "                                            min_value=8,\n",
    "                                            max_value = 128,\n",
    "                                            step=8),\n",
    "                                            activation= \"relu\"))\n",
    "        if hp.Boolean(\"dropout\"):\n",
    "          model.add(Dropout(hp.Float('Dropout_rate',min_value=0,max_value=0.5,step=0.1)))\n",
    "    model.add(layers.Dense(1, activation='linear'))\n",
    "    model.compile(\n",
    "        optimizer=keras.optimizers.Adam(\n",
    "             hp.Float('learning_rate', min_value=1e-4, max_value=1e-1, sampling=\"log\")),\n",
    "        loss='mape',\n",
    "        metrics=['mape'])\n",
    "    return model"
   ]
  },
  {
   "cell_type": "code",
   "execution_count": 32,
   "id": "2h_gRerjuQCT",
   "metadata": {
    "id": "2h_gRerjuQCT"
   },
   "outputs": [],
   "source": [
    "tuner = RandomSearch(\n",
    "    build_model,\n",
    "    objective='val_mape',\n",
    "    max_trials=10,\n",
    "    executions_per_trial=1,\n",
    "    directory='project',\n",
    "    project_name='loa_em_1')"
   ]
  },
  {
   "cell_type": "code",
   "execution_count": 33,
   "id": "Dg5AHN3guQFu",
   "metadata": {
    "colab": {
     "base_uri": "https://localhost:8080/"
    },
    "id": "Dg5AHN3guQFu",
    "outputId": "92a045ff-d0bb-4f21-c0fa-2e537661e2d7"
   },
   "outputs": [
    {
     "name": "stdout",
     "output_type": "stream",
     "text": [
      "Search space summary\n",
      "Default search space size: 4\n",
      "num_layers (Int)\n",
      "{'default': None, 'conditions': [], 'min_value': 1, 'max_value': 6, 'step': 1, 'sampling': None}\n",
      "units_0 (Int)\n",
      "{'default': None, 'conditions': [], 'min_value': 8, 'max_value': 128, 'step': 8, 'sampling': None}\n",
      "dropout (Boolean)\n",
      "{'default': False, 'conditions': []}\n",
      "learning_rate (Float)\n",
      "{'default': 0.0001, 'conditions': [], 'min_value': 0.0001, 'max_value': 0.1, 'step': None, 'sampling': 'log'}\n"
     ]
    }
   ],
   "source": [
    "tuner.search_space_summary()"
   ]
  },
  {
   "cell_type": "code",
   "execution_count": 34,
   "id": "TiBXdF0K8Gpr",
   "metadata": {
    "colab": {
     "base_uri": "https://localhost:8080/"
    },
    "id": "TiBXdF0K8Gpr",
    "outputId": "acb78c46-953a-4532-cc91-1e28eeabe5b6"
   },
   "outputs": [
    {
     "name": "stdout",
     "output_type": "stream",
     "text": [
      "Trial 10 Complete [00h 00m 13s]\n",
      "val_mape: 2.945474147796631\n",
      "\n",
      "Best val_mape So Far: 2.620034694671631\n",
      "Total elapsed time: 00h 02m 30s\n",
      "INFO:tensorflow:Oracle triggered exit\n"
     ]
    }
   ],
   "source": [
    "tuner.search(trainX, trainY,\n",
    "             epochs=200,\n",
    "             batch_size=36,\n",
    "             validation_data=(testX, testY))"
   ]
  },
  {
   "cell_type": "code",
   "execution_count": 35,
   "id": "VXXGH_RK8GsD",
   "metadata": {
    "colab": {
     "base_uri": "https://localhost:8080/"
    },
    "id": "VXXGH_RK8GsD",
    "outputId": "2b4f07d3-eef5-48e8-c23b-916d2d05bd64"
   },
   "outputs": [
    {
     "name": "stdout",
     "output_type": "stream",
     "text": [
      "Results summary\n",
      "Results in project/loa_em_1\n",
      "Showing 10 best trials\n",
      "Objective(name='val_mape', direction='min')\n",
      "Trial summary\n",
      "Hyperparameters:\n",
      "num_layers: 4\n",
      "units_0: 64\n",
      "dropout: False\n",
      "learning_rate: 0.00764309811403132\n",
      "units_1: 48\n",
      "units_2: 88\n",
      "Dropout_rate: 0.30000000000000004\n",
      "units_3: 8\n",
      "Score: 2.620034694671631\n",
      "Trial summary\n",
      "Hyperparameters:\n",
      "num_layers: 5\n",
      "units_0: 96\n",
      "dropout: False\n",
      "learning_rate: 0.0014567430098165058\n",
      "units_1: 96\n",
      "units_2: 16\n",
      "Dropout_rate: 0.1\n",
      "units_3: 64\n",
      "units_4: 96\n",
      "units_5: 120\n",
      "Score: 2.626635789871216\n",
      "Trial summary\n",
      "Hyperparameters:\n",
      "num_layers: 3\n",
      "units_0: 48\n",
      "dropout: True\n",
      "learning_rate: 0.0002711685988732404\n",
      "units_1: 72\n",
      "units_2: 16\n",
      "Dropout_rate: 0.1\n",
      "units_3: 120\n",
      "units_4: 120\n",
      "units_5: 104\n",
      "Score: 2.6935133934020996\n",
      "Trial summary\n",
      "Hyperparameters:\n",
      "num_layers: 5\n",
      "units_0: 112\n",
      "dropout: False\n",
      "learning_rate: 0.0006488047268196734\n",
      "units_1: 88\n",
      "units_2: 40\n",
      "Dropout_rate: 0.30000000000000004\n",
      "units_3: 40\n",
      "units_4: 48\n",
      "units_5: 32\n",
      "Score: 2.8258860111236572\n",
      "Trial summary\n",
      "Hyperparameters:\n",
      "num_layers: 2\n",
      "units_0: 16\n",
      "dropout: False\n",
      "learning_rate: 0.004029829069913382\n",
      "units_1: 24\n",
      "units_2: 40\n",
      "Dropout_rate: 0.1\n",
      "units_3: 40\n",
      "units_4: 64\n",
      "units_5: 16\n",
      "Score: 2.907912015914917\n",
      "Trial summary\n",
      "Hyperparameters:\n",
      "num_layers: 1\n",
      "units_0: 104\n",
      "dropout: True\n",
      "learning_rate: 0.000628616803074217\n",
      "units_1: 72\n",
      "units_2: 104\n",
      "Dropout_rate: 0.0\n",
      "Score: 2.909681558609009\n",
      "Trial summary\n",
      "Hyperparameters:\n",
      "num_layers: 2\n",
      "units_0: 24\n",
      "dropout: False\n",
      "learning_rate: 0.0001179418914897579\n",
      "units_1: 112\n",
      "units_2: 120\n",
      "Dropout_rate: 0.1\n",
      "units_3: 56\n",
      "units_4: 104\n",
      "units_5: 96\n",
      "Score: 2.945474147796631\n",
      "Trial summary\n",
      "Hyperparameters:\n",
      "num_layers: 6\n",
      "units_0: 32\n",
      "dropout: False\n",
      "learning_rate: 0.024321830486222575\n",
      "units_1: 72\n",
      "units_2: 120\n",
      "Dropout_rate: 0.1\n",
      "units_3: 104\n",
      "units_4: 8\n",
      "units_5: 8\n",
      "Score: 2.9573330879211426\n",
      "Trial summary\n",
      "Hyperparameters:\n",
      "num_layers: 3\n",
      "units_0: 40\n",
      "dropout: False\n",
      "learning_rate: 0.0016133312867930632\n",
      "units_1: 8\n",
      "units_2: 8\n",
      "Score: 3.1025331020355225\n",
      "Trial summary\n",
      "Hyperparameters:\n",
      "num_layers: 4\n",
      "units_0: 8\n",
      "dropout: True\n",
      "learning_rate: 0.023149839493014038\n",
      "units_1: 24\n",
      "units_2: 32\n",
      "Dropout_rate: 0.1\n",
      "units_3: 96\n",
      "units_4: 40\n",
      "units_5: 96\n",
      "Score: 4.005661964416504\n"
     ]
    }
   ],
   "source": [
    "tuner.results_summary()"
   ]
  },
  {
   "cell_type": "code",
   "execution_count": 36,
   "id": "FBpLenJ_DZMX",
   "metadata": {
    "id": "FBpLenJ_DZMX"
   },
   "outputs": [],
   "source": [
    "from warnings import filterwarnings\n",
    "filterwarnings('ignore')"
   ]
  },
  {
   "cell_type": "code",
   "execution_count": 38,
   "id": "eL-a8rAv8Gvg",
   "metadata": {
    "colab": {
     "base_uri": "https://localhost:8080/"
    },
    "id": "eL-a8rAv8Gvg",
    "outputId": "7fba43c4-e713-499c-9925-438f76bf1588"
   },
   "outputs": [
    {
     "name": "stdout",
     "output_type": "stream",
     "text": [
      "Model: \"sequential\"\n",
      "_________________________________________________________________\n",
      " Layer (type)                Output Shape              Param #   \n",
      "=================================================================\n",
      " dense (Dense)               (None, 64)                704       \n",
      "                                                                 \n",
      " dense_1 (Dense)             (None, 48)                3120      \n",
      "                                                                 \n",
      " dense_2 (Dense)             (None, 88)                4312      \n",
      "                                                                 \n",
      " dense_3 (Dense)             (None, 8)                 712       \n",
      "                                                                 \n",
      " dense_4 (Dense)             (None, 1)                 9         \n",
      "                                                                 \n",
      "=================================================================\n",
      "Total params: 8,857\n",
      "Trainable params: 8,857\n",
      "Non-trainable params: 0\n",
      "_________________________________________________________________\n",
      "WARNING:tensorflow:Unresolved object in checkpoint: (root).layer_with_weights-0.kernel\n",
      "WARNING:tensorflow:Unresolved object in checkpoint: (root).layer_with_weights-0.bias\n",
      "WARNING:tensorflow:Unresolved object in checkpoint: (root).layer_with_weights-1.kernel\n",
      "WARNING:tensorflow:Unresolved object in checkpoint: (root).layer_with_weights-1.bias\n",
      "WARNING:tensorflow:Unresolved object in checkpoint: (root).layer_with_weights-2.kernel\n",
      "WARNING:tensorflow:Unresolved object in checkpoint: (root).layer_with_weights-2.bias\n",
      "WARNING:tensorflow:Unresolved object in checkpoint: (root).layer_with_weights-3.kernel\n",
      "WARNING:tensorflow:Unresolved object in checkpoint: (root).layer_with_weights-3.bias\n",
      "WARNING:tensorflow:Unresolved object in checkpoint: (root).layer_with_weights-4.kernel\n",
      "WARNING:tensorflow:Unresolved object in checkpoint: (root).layer_with_weights-4.bias\n",
      "WARNING:tensorflow:Unresolved object in checkpoint: (root).layer_with_weights-5.kernel\n",
      "WARNING:tensorflow:Unresolved object in checkpoint: (root).layer_with_weights-5.bias\n",
      "WARNING:tensorflow:Unresolved object in checkpoint: (root).optimizer.iter\n",
      "WARNING:tensorflow:Unresolved object in checkpoint: (root).optimizer.beta_1\n",
      "WARNING:tensorflow:Unresolved object in checkpoint: (root).optimizer.beta_2\n",
      "WARNING:tensorflow:Unresolved object in checkpoint: (root).optimizer.decay\n",
      "WARNING:tensorflow:Unresolved object in checkpoint: (root).optimizer.learning_rate\n",
      "WARNING:tensorflow:Unresolved object in checkpoint: (root).optimizer's state 'm' for (root).layer_with_weights-0.kernel\n",
      "WARNING:tensorflow:Unresolved object in checkpoint: (root).optimizer's state 'm' for (root).layer_with_weights-0.bias\n",
      "WARNING:tensorflow:Unresolved object in checkpoint: (root).optimizer's state 'm' for (root).layer_with_weights-1.kernel\n",
      "WARNING:tensorflow:Unresolved object in checkpoint: (root).optimizer's state 'm' for (root).layer_with_weights-1.bias\n",
      "WARNING:tensorflow:Unresolved object in checkpoint: (root).optimizer's state 'm' for (root).layer_with_weights-2.kernel\n",
      "WARNING:tensorflow:Unresolved object in checkpoint: (root).optimizer's state 'm' for (root).layer_with_weights-2.bias\n",
      "WARNING:tensorflow:Unresolved object in checkpoint: (root).optimizer's state 'm' for (root).layer_with_weights-3.kernel\n",
      "WARNING:tensorflow:Unresolved object in checkpoint: (root).optimizer's state 'm' for (root).layer_with_weights-3.bias\n",
      "WARNING:tensorflow:Unresolved object in checkpoint: (root).optimizer's state 'm' for (root).layer_with_weights-4.kernel\n",
      "WARNING:tensorflow:Unresolved object in checkpoint: (root).optimizer's state 'm' for (root).layer_with_weights-4.bias\n",
      "WARNING:tensorflow:Unresolved object in checkpoint: (root).optimizer's state 'm' for (root).layer_with_weights-5.kernel\n",
      "WARNING:tensorflow:Unresolved object in checkpoint: (root).optimizer's state 'm' for (root).layer_with_weights-5.bias\n",
      "WARNING:tensorflow:Unresolved object in checkpoint: (root).optimizer's state 'v' for (root).layer_with_weights-0.kernel\n",
      "WARNING:tensorflow:Unresolved object in checkpoint: (root).optimizer's state 'v' for (root).layer_with_weights-0.bias\n",
      "WARNING:tensorflow:Unresolved object in checkpoint: (root).optimizer's state 'v' for (root).layer_with_weights-1.kernel\n",
      "WARNING:tensorflow:Unresolved object in checkpoint: (root).optimizer's state 'v' for (root).layer_with_weights-1.bias\n",
      "WARNING:tensorflow:Unresolved object in checkpoint: (root).optimizer's state 'v' for (root).layer_with_weights-2.kernel\n"
     ]
    }
   ],
   "source": [
    "models = tuner.get_best_models(num_models=2)\n",
    "best_model = models[0]\n",
    "# Build the model.\n",
    "# Needed for `Sequential` without specified `input_shape`.\n",
    "best_model.build(input_shape=(None, 10))\n",
    "best_model.summary()"
   ]
  },
  {
   "cell_type": "code",
   "execution_count": 39,
   "id": "ovKDjDHZEmLV",
   "metadata": {
    "id": "ovKDjDHZEmLV"
   },
   "outputs": [],
   "source": [
    "from tensorflow.keras import optimizers\n",
    "from tensorflow.keras.callbacks import EarlyStopping"
   ]
  },
  {
   "cell_type": "code",
   "execution_count": 41,
   "id": "0e187ddc",
   "metadata": {
    "colab": {
     "base_uri": "https://localhost:8080/"
    },
    "id": "0e187ddc",
    "outputId": "4bb83104-dcfd-441a-cbbe-472b80093bb0"
   },
   "outputs": [
    {
     "name": "stdout",
     "output_type": "stream",
     "text": [
      "Epoch 1/200\n",
      "17/17 [==============================] - 1s 20ms/step - loss: 114.2366 - mape: 114.2366 - val_loss: 95.0142 - val_mape: 95.0142\n",
      "Epoch 2/200\n",
      "17/17 [==============================] - 0s 6ms/step - loss: 86.0691 - mape: 86.0691 - val_loss: 64.8354 - val_mape: 64.8354\n",
      "Epoch 3/200\n",
      "17/17 [==============================] - 0s 5ms/step - loss: 59.3684 - mape: 59.3684 - val_loss: 34.5342 - val_mape: 34.5342\n",
      "Epoch 4/200\n",
      "17/17 [==============================] - 0s 5ms/step - loss: 31.2924 - mape: 31.2924 - val_loss: 7.0317 - val_mape: 7.0317\n",
      "Epoch 5/200\n",
      "17/17 [==============================] - 0s 5ms/step - loss: 12.6203 - mape: 12.6203 - val_loss: 12.9327 - val_mape: 12.9327\n",
      "Epoch 6/200\n",
      "17/17 [==============================] - 0s 5ms/step - loss: 10.4249 - mape: 10.4249 - val_loss: 9.4796 - val_mape: 9.4796\n",
      "Epoch 7/200\n",
      "17/17 [==============================] - 0s 5ms/step - loss: 9.3307 - mape: 9.3307 - val_loss: 7.9113 - val_mape: 7.9113\n",
      "Epoch 8/200\n",
      "17/17 [==============================] - 0s 5ms/step - loss: 8.6421 - mape: 8.6421 - val_loss: 7.4114 - val_mape: 7.4114\n",
      "Epoch 9/200\n",
      "17/17 [==============================] - 0s 5ms/step - loss: 8.0304 - mape: 8.0304 - val_loss: 6.9874 - val_mape: 6.9874\n",
      "Epoch 10/200\n",
      "17/17 [==============================] - 0s 6ms/step - loss: 7.5080 - mape: 7.5080 - val_loss: 6.4229 - val_mape: 6.4229\n",
      "Epoch 11/200\n",
      "17/17 [==============================] - 0s 6ms/step - loss: 7.0501 - mape: 7.0501 - val_loss: 5.6174 - val_mape: 5.6174\n",
      "Epoch 12/200\n",
      "17/17 [==============================] - 0s 5ms/step - loss: 6.6894 - mape: 6.6894 - val_loss: 5.3380 - val_mape: 5.3380\n",
      "Epoch 13/200\n",
      "17/17 [==============================] - 0s 6ms/step - loss: 6.3650 - mape: 6.3650 - val_loss: 5.3937 - val_mape: 5.3937\n",
      "Epoch 14/200\n",
      "17/17 [==============================] - 0s 5ms/step - loss: 6.1345 - mape: 6.1345 - val_loss: 4.7951 - val_mape: 4.7951\n",
      "Epoch 15/200\n",
      "17/17 [==============================] - 0s 5ms/step - loss: 5.9697 - mape: 5.9697 - val_loss: 5.0577 - val_mape: 5.0577\n",
      "Epoch 16/200\n",
      "17/17 [==============================] - 0s 5ms/step - loss: 5.7834 - mape: 5.7834 - val_loss: 4.8363 - val_mape: 4.8363\n",
      "Epoch 17/200\n",
      "17/17 [==============================] - 0s 5ms/step - loss: 5.6269 - mape: 5.6269 - val_loss: 4.6750 - val_mape: 4.6750\n",
      "Epoch 18/200\n",
      "17/17 [==============================] - 0s 5ms/step - loss: 5.5471 - mape: 5.5471 - val_loss: 5.1065 - val_mape: 5.1065\n",
      "Epoch 19/200\n",
      "17/17 [==============================] - 0s 5ms/step - loss: 5.4246 - mape: 5.4246 - val_loss: 4.9112 - val_mape: 4.9112\n",
      "Epoch 20/200\n",
      "17/17 [==============================] - 0s 5ms/step - loss: 5.3234 - mape: 5.3234 - val_loss: 4.7650 - val_mape: 4.7650\n",
      "Epoch 21/200\n",
      "17/17 [==============================] - 0s 5ms/step - loss: 5.2373 - mape: 5.2373 - val_loss: 4.5675 - val_mape: 4.5675\n",
      "Epoch 22/200\n",
      "17/17 [==============================] - 0s 5ms/step - loss: 5.2087 - mape: 5.2087 - val_loss: 4.8985 - val_mape: 4.8985\n",
      "Epoch 23/200\n",
      "17/17 [==============================] - 0s 5ms/step - loss: 5.1353 - mape: 5.1353 - val_loss: 4.8952 - val_mape: 4.8952\n",
      "Epoch 24/200\n",
      "17/17 [==============================] - 0s 5ms/step - loss: 5.0926 - mape: 5.0926 - val_loss: 4.9651 - val_mape: 4.9651\n",
      "Epoch 25/200\n",
      "17/17 [==============================] - 0s 5ms/step - loss: 5.0110 - mape: 5.0110 - val_loss: 4.5571 - val_mape: 4.5571\n",
      "Epoch 26/200\n",
      "17/17 [==============================] - 0s 5ms/step - loss: 4.8974 - mape: 4.8974 - val_loss: 4.6615 - val_mape: 4.6615\n",
      "Epoch 27/200\n",
      "17/17 [==============================] - 0s 6ms/step - loss: 4.8710 - mape: 4.8710 - val_loss: 4.2853 - val_mape: 4.2853\n",
      "Epoch 28/200\n",
      "17/17 [==============================] - 0s 5ms/step - loss: 4.7819 - mape: 4.7819 - val_loss: 4.3651 - val_mape: 4.3651\n",
      "Epoch 29/200\n",
      "17/17 [==============================] - 0s 5ms/step - loss: 4.7147 - mape: 4.7147 - val_loss: 4.3374 - val_mape: 4.3374\n",
      "Epoch 30/200\n",
      "17/17 [==============================] - 0s 5ms/step - loss: 4.6940 - mape: 4.6940 - val_loss: 4.2728 - val_mape: 4.2728\n",
      "Epoch 31/200\n",
      "17/17 [==============================] - 0s 5ms/step - loss: 4.5885 - mape: 4.5885 - val_loss: 4.1878 - val_mape: 4.1878\n",
      "Epoch 32/200\n",
      "17/17 [==============================] - 0s 6ms/step - loss: 4.5342 - mape: 4.5342 - val_loss: 4.2215 - val_mape: 4.2215\n",
      "Epoch 33/200\n",
      "17/17 [==============================] - 0s 6ms/step - loss: 4.4916 - mape: 4.4916 - val_loss: 4.1345 - val_mape: 4.1345\n",
      "Epoch 34/200\n",
      "17/17 [==============================] - 0s 5ms/step - loss: 4.4603 - mape: 4.4603 - val_loss: 4.2371 - val_mape: 4.2371\n",
      "Epoch 35/200\n",
      "17/17 [==============================] - 0s 5ms/step - loss: 4.3974 - mape: 4.3974 - val_loss: 4.0775 - val_mape: 4.0775\n",
      "Epoch 36/200\n",
      "17/17 [==============================] - 0s 7ms/step - loss: 4.3667 - mape: 4.3667 - val_loss: 4.0344 - val_mape: 4.0344\n",
      "Epoch 37/200\n",
      "17/17 [==============================] - 0s 5ms/step - loss: 4.3622 - mape: 4.3622 - val_loss: 4.1811 - val_mape: 4.1811\n",
      "Epoch 38/200\n",
      "17/17 [==============================] - 0s 5ms/step - loss: 4.2477 - mape: 4.2477 - val_loss: 4.2070 - val_mape: 4.2070\n",
      "Epoch 39/200\n",
      "17/17 [==============================] - 0s 6ms/step - loss: 4.2081 - mape: 4.2081 - val_loss: 3.9490 - val_mape: 3.9490\n",
      "Epoch 40/200\n",
      "17/17 [==============================] - 0s 6ms/step - loss: 4.1579 - mape: 4.1579 - val_loss: 3.9193 - val_mape: 3.9193\n",
      "Epoch 41/200\n",
      "17/17 [==============================] - 0s 4ms/step - loss: 4.0901 - mape: 4.0901 - val_loss: 3.9879 - val_mape: 3.9879\n",
      "Epoch 42/200\n",
      "17/17 [==============================] - 0s 4ms/step - loss: 4.1138 - mape: 4.1138 - val_loss: 4.0312 - val_mape: 4.0312\n",
      "Epoch 43/200\n",
      "17/17 [==============================] - 0s 5ms/step - loss: 4.0195 - mape: 4.0195 - val_loss: 3.8459 - val_mape: 3.8459\n",
      "Epoch 44/200\n",
      "17/17 [==============================] - 0s 5ms/step - loss: 3.9668 - mape: 3.9668 - val_loss: 4.0035 - val_mape: 4.0035\n",
      "Epoch 45/200\n",
      "17/17 [==============================] - 0s 4ms/step - loss: 3.9163 - mape: 3.9163 - val_loss: 3.8693 - val_mape: 3.8693\n",
      "Epoch 46/200\n",
      "17/17 [==============================] - 0s 4ms/step - loss: 3.8899 - mape: 3.8899 - val_loss: 3.7696 - val_mape: 3.7696\n",
      "Epoch 47/200\n",
      "17/17 [==============================] - 0s 6ms/step - loss: 3.8756 - mape: 3.8756 - val_loss: 3.9355 - val_mape: 3.9355\n",
      "Epoch 48/200\n",
      "17/17 [==============================] - 0s 5ms/step - loss: 3.8858 - mape: 3.8858 - val_loss: 3.7346 - val_mape: 3.7346\n",
      "Epoch 49/200\n",
      "17/17 [==============================] - 0s 3ms/step - loss: 3.8747 - mape: 3.8747 - val_loss: 3.8130 - val_mape: 3.8130\n",
      "Epoch 50/200\n",
      "17/17 [==============================] - 0s 3ms/step - loss: 3.7592 - mape: 3.7592 - val_loss: 3.6999 - val_mape: 3.6999\n",
      "Epoch 51/200\n",
      "17/17 [==============================] - 0s 3ms/step - loss: 3.7231 - mape: 3.7231 - val_loss: 3.8038 - val_mape: 3.8038\n",
      "Epoch 52/200\n",
      "17/17 [==============================] - 0s 3ms/step - loss: 3.7258 - mape: 3.7258 - val_loss: 3.7379 - val_mape: 3.7379\n",
      "Epoch 53/200\n",
      "17/17 [==============================] - 0s 3ms/step - loss: 3.7879 - mape: 3.7879 - val_loss: 3.9440 - val_mape: 3.9440\n",
      "Epoch 54/200\n",
      "17/17 [==============================] - 0s 3ms/step - loss: 3.7297 - mape: 3.7297 - val_loss: 3.8231 - val_mape: 3.8231\n",
      "Epoch 55/200\n",
      "17/17 [==============================] - 0s 3ms/step - loss: 3.6999 - mape: 3.6999 - val_loss: 3.7513 - val_mape: 3.7513\n",
      "Epoch 56/200\n",
      "17/17 [==============================] - 0s 3ms/step - loss: 3.6099 - mape: 3.6099 - val_loss: 3.8090 - val_mape: 3.8090\n",
      "Epoch 57/200\n",
      "17/17 [==============================] - 0s 3ms/step - loss: 3.5736 - mape: 3.5736 - val_loss: 3.7675 - val_mape: 3.7675\n",
      "Epoch 58/200\n",
      "17/17 [==============================] - 0s 4ms/step - loss: 3.5316 - mape: 3.5316 - val_loss: 3.7956 - val_mape: 3.7956\n",
      "Epoch 59/200\n",
      "17/17 [==============================] - 0s 3ms/step - loss: 3.5125 - mape: 3.5125 - val_loss: 3.5625 - val_mape: 3.5625\n",
      "Epoch 60/200\n",
      "17/17 [==============================] - 0s 3ms/step - loss: 3.4733 - mape: 3.4733 - val_loss: 3.7774 - val_mape: 3.7774\n",
      "Epoch 61/200\n",
      "17/17 [==============================] - 0s 4ms/step - loss: 3.5128 - mape: 3.5128 - val_loss: 3.5099 - val_mape: 3.5099\n",
      "Epoch 62/200\n",
      "17/17 [==============================] - 0s 4ms/step - loss: 3.4221 - mape: 3.4221 - val_loss: 3.7036 - val_mape: 3.7036\n",
      "Epoch 63/200\n",
      "17/17 [==============================] - 0s 4ms/step - loss: 3.4028 - mape: 3.4028 - val_loss: 3.4730 - val_mape: 3.4730\n",
      "Epoch 64/200\n",
      "17/17 [==============================] - 0s 4ms/step - loss: 3.3963 - mape: 3.3963 - val_loss: 3.5624 - val_mape: 3.5624\n",
      "Epoch 65/200\n",
      "17/17 [==============================] - 0s 3ms/step - loss: 3.3826 - mape: 3.3826 - val_loss: 3.4591 - val_mape: 3.4591\n",
      "Epoch 66/200\n",
      "17/17 [==============================] - 0s 3ms/step - loss: 3.3892 - mape: 3.3892 - val_loss: 3.5096 - val_mape: 3.5096\n",
      "Epoch 67/200\n",
      "17/17 [==============================] - 0s 4ms/step - loss: 3.3938 - mape: 3.3938 - val_loss: 3.4045 - val_mape: 3.4045\n",
      "Epoch 68/200\n",
      "17/17 [==============================] - 0s 4ms/step - loss: 3.3713 - mape: 3.3713 - val_loss: 3.9507 - val_mape: 3.9507\n",
      "Epoch 69/200\n",
      "17/17 [==============================] - 0s 3ms/step - loss: 3.4821 - mape: 3.4821 - val_loss: 3.4611 - val_mape: 3.4611\n",
      "Epoch 70/200\n",
      "17/17 [==============================] - 0s 3ms/step - loss: 3.3213 - mape: 3.3213 - val_loss: 3.4022 - val_mape: 3.4022\n",
      "Epoch 71/200\n",
      "17/17 [==============================] - 0s 4ms/step - loss: 3.3993 - mape: 3.3993 - val_loss: 3.6685 - val_mape: 3.6685\n",
      "Epoch 72/200\n",
      "17/17 [==============================] - 0s 3ms/step - loss: 3.3902 - mape: 3.3902 - val_loss: 3.3240 - val_mape: 3.3240\n",
      "Epoch 73/200\n",
      "17/17 [==============================] - 0s 3ms/step - loss: 3.3099 - mape: 3.3099 - val_loss: 3.4062 - val_mape: 3.4062\n",
      "Epoch 74/200\n",
      "17/17 [==============================] - 0s 3ms/step - loss: 3.3957 - mape: 3.3957 - val_loss: 3.2858 - val_mape: 3.2858\n",
      "Epoch 75/200\n",
      "17/17 [==============================] - 0s 3ms/step - loss: 3.3425 - mape: 3.3425 - val_loss: 3.3587 - val_mape: 3.3587\n",
      "Epoch 76/200\n",
      "17/17 [==============================] - 0s 3ms/step - loss: 3.2860 - mape: 3.2860 - val_loss: 3.7461 - val_mape: 3.7461\n",
      "Epoch 77/200\n",
      "17/17 [==============================] - 0s 3ms/step - loss: 3.2005 - mape: 3.2005 - val_loss: 3.2897 - val_mape: 3.2897\n",
      "Epoch 78/200\n",
      "17/17 [==============================] - 0s 3ms/step - loss: 3.2540 - mape: 3.2540 - val_loss: 3.3437 - val_mape: 3.3437\n",
      "Epoch 79/200\n",
      "17/17 [==============================] - 0s 3ms/step - loss: 3.2693 - mape: 3.2693 - val_loss: 3.6454 - val_mape: 3.6454\n",
      "Epoch 80/200\n",
      "17/17 [==============================] - 0s 3ms/step - loss: 3.3340 - mape: 3.3340 - val_loss: 3.3620 - val_mape: 3.3620\n",
      "Epoch 81/200\n",
      "17/17 [==============================] - 0s 3ms/step - loss: 3.2160 - mape: 3.2160 - val_loss: 3.3194 - val_mape: 3.3194\n",
      "Epoch 82/200\n",
      "17/17 [==============================] - 0s 3ms/step - loss: 3.2595 - mape: 3.2595 - val_loss: 3.2190 - val_mape: 3.2190\n",
      "Epoch 83/200\n",
      "17/17 [==============================] - 0s 3ms/step - loss: 3.2191 - mape: 3.2191 - val_loss: 3.2170 - val_mape: 3.2170\n",
      "Epoch 84/200\n",
      "17/17 [==============================] - 0s 3ms/step - loss: 3.1959 - mape: 3.1959 - val_loss: 3.1823 - val_mape: 3.1823\n",
      "Epoch 85/200\n",
      "17/17 [==============================] - 0s 3ms/step - loss: 3.1277 - mape: 3.1277 - val_loss: 3.1738 - val_mape: 3.1738\n",
      "Epoch 86/200\n",
      "17/17 [==============================] - 0s 3ms/step - loss: 3.1363 - mape: 3.1363 - val_loss: 3.4996 - val_mape: 3.4996\n",
      "Epoch 87/200\n",
      "17/17 [==============================] - 0s 3ms/step - loss: 3.2238 - mape: 3.2238 - val_loss: 3.2213 - val_mape: 3.2213\n",
      "Epoch 88/200\n",
      "17/17 [==============================] - 0s 3ms/step - loss: 3.1155 - mape: 3.1155 - val_loss: 3.1942 - val_mape: 3.1942\n",
      "Epoch 89/200\n",
      "17/17 [==============================] - 0s 3ms/step - loss: 3.0792 - mape: 3.0792 - val_loss: 3.2006 - val_mape: 3.2006\n",
      "Epoch 90/200\n",
      "17/17 [==============================] - 0s 3ms/step - loss: 3.0839 - mape: 3.0839 - val_loss: 3.1355 - val_mape: 3.1355\n",
      "Epoch 91/200\n",
      "17/17 [==============================] - 0s 3ms/step - loss: 3.0680 - mape: 3.0680 - val_loss: 3.1426 - val_mape: 3.1426\n",
      "Epoch 92/200\n",
      "17/17 [==============================] - 0s 3ms/step - loss: 3.0585 - mape: 3.0585 - val_loss: 3.1249 - val_mape: 3.1249\n",
      "Epoch 93/200\n",
      "17/17 [==============================] - 0s 3ms/step - loss: 3.0573 - mape: 3.0573 - val_loss: 3.1140 - val_mape: 3.1140\n",
      "Epoch 94/200\n",
      "17/17 [==============================] - 0s 3ms/step - loss: 3.0747 - mape: 3.0747 - val_loss: 3.1246 - val_mape: 3.1246\n",
      "Epoch 95/200\n",
      "17/17 [==============================] - 0s 3ms/step - loss: 3.1063 - mape: 3.1063 - val_loss: 3.1283 - val_mape: 3.1283\n",
      "Epoch 96/200\n",
      "17/17 [==============================] - 0s 3ms/step - loss: 3.0794 - mape: 3.0794 - val_loss: 3.1685 - val_mape: 3.1685\n",
      "Epoch 97/200\n",
      "17/17 [==============================] - 0s 4ms/step - loss: 3.0585 - mape: 3.0585 - val_loss: 3.1476 - val_mape: 3.1476\n",
      "Epoch 98/200\n",
      "17/17 [==============================] - 0s 3ms/step - loss: 3.1283 - mape: 3.1283 - val_loss: 3.4170 - val_mape: 3.4170\n",
      "Epoch 99/200\n",
      "17/17 [==============================] - 0s 3ms/step - loss: 3.1685 - mape: 3.1685 - val_loss: 4.0696 - val_mape: 4.0696\n",
      "Epoch 100/200\n",
      "17/17 [==============================] - 0s 3ms/step - loss: 3.1348 - mape: 3.1348 - val_loss: 3.3942 - val_mape: 3.3942\n",
      "Epoch 101/200\n",
      "17/17 [==============================] - 0s 3ms/step - loss: 3.0183 - mape: 3.0183 - val_loss: 3.0714 - val_mape: 3.0714\n",
      "Epoch 102/200\n",
      "17/17 [==============================] - 0s 3ms/step - loss: 3.0197 - mape: 3.0197 - val_loss: 3.1065 - val_mape: 3.1065\n",
      "Epoch 103/200\n",
      "17/17 [==============================] - 0s 3ms/step - loss: 2.9997 - mape: 2.9997 - val_loss: 3.1145 - val_mape: 3.1145\n",
      "Epoch 104/200\n",
      "17/17 [==============================] - 0s 3ms/step - loss: 3.0887 - mape: 3.0887 - val_loss: 3.2474 - val_mape: 3.2474\n",
      "Epoch 105/200\n",
      "17/17 [==============================] - 0s 3ms/step - loss: 3.1541 - mape: 3.1541 - val_loss: 3.0528 - val_mape: 3.0528\n",
      "Epoch 106/200\n",
      "17/17 [==============================] - 0s 3ms/step - loss: 2.9948 - mape: 2.9948 - val_loss: 3.0291 - val_mape: 3.0291\n",
      "Epoch 107/200\n",
      "17/17 [==============================] - 0s 4ms/step - loss: 2.9788 - mape: 2.9788 - val_loss: 3.0142 - val_mape: 3.0142\n",
      "Epoch 108/200\n",
      "17/17 [==============================] - 0s 3ms/step - loss: 2.9995 - mape: 2.9995 - val_loss: 3.1118 - val_mape: 3.1118\n",
      "Epoch 109/200\n",
      "17/17 [==============================] - 0s 3ms/step - loss: 3.0449 - mape: 3.0449 - val_loss: 3.2390 - val_mape: 3.2390\n",
      "Epoch 110/200\n",
      "17/17 [==============================] - 0s 3ms/step - loss: 2.9996 - mape: 2.9996 - val_loss: 3.0682 - val_mape: 3.0682\n",
      "Epoch 111/200\n",
      "17/17 [==============================] - 0s 3ms/step - loss: 2.9973 - mape: 2.9973 - val_loss: 3.0210 - val_mape: 3.0210\n",
      "Epoch 112/200\n",
      "17/17 [==============================] - 0s 3ms/step - loss: 3.0013 - mape: 3.0013 - val_loss: 3.1729 - val_mape: 3.1729\n",
      "Epoch 113/200\n",
      "17/17 [==============================] - 0s 3ms/step - loss: 2.9542 - mape: 2.9542 - val_loss: 3.0436 - val_mape: 3.0436\n",
      "Epoch 114/200\n",
      "17/17 [==============================] - 0s 4ms/step - loss: 2.9868 - mape: 2.9868 - val_loss: 2.9953 - val_mape: 2.9953\n",
      "Epoch 115/200\n",
      "17/17 [==============================] - 0s 3ms/step - loss: 2.9910 - mape: 2.9910 - val_loss: 2.9849 - val_mape: 2.9849\n",
      "Epoch 116/200\n",
      "17/17 [==============================] - 0s 3ms/step - loss: 2.9559 - mape: 2.9559 - val_loss: 2.9683 - val_mape: 2.9683\n",
      "Epoch 117/200\n",
      "17/17 [==============================] - 0s 3ms/step - loss: 2.9684 - mape: 2.9684 - val_loss: 2.9742 - val_mape: 2.9742\n",
      "Epoch 118/200\n",
      "17/17 [==============================] - 0s 3ms/step - loss: 2.9426 - mape: 2.9426 - val_loss: 2.9494 - val_mape: 2.9494\n",
      "Epoch 119/200\n",
      "17/17 [==============================] - 0s 3ms/step - loss: 2.9349 - mape: 2.9349 - val_loss: 3.2022 - val_mape: 3.2022\n",
      "Epoch 120/200\n",
      "17/17 [==============================] - 0s 3ms/step - loss: 2.9882 - mape: 2.9882 - val_loss: 3.0136 - val_mape: 3.0136\n",
      "Epoch 121/200\n",
      "17/17 [==============================] - 0s 3ms/step - loss: 3.0403 - mape: 3.0403 - val_loss: 2.9259 - val_mape: 2.9259\n",
      "Epoch 122/200\n",
      "17/17 [==============================] - 0s 3ms/step - loss: 2.9266 - mape: 2.9266 - val_loss: 2.9530 - val_mape: 2.9530\n",
      "Epoch 123/200\n",
      "17/17 [==============================] - 0s 3ms/step - loss: 2.8824 - mape: 2.8824 - val_loss: 2.9708 - val_mape: 2.9708\n",
      "Epoch 124/200\n",
      "17/17 [==============================] - 0s 3ms/step - loss: 2.8798 - mape: 2.8798 - val_loss: 2.9233 - val_mape: 2.9233\n",
      "Epoch 125/200\n",
      "17/17 [==============================] - 0s 3ms/step - loss: 2.8818 - mape: 2.8818 - val_loss: 2.9231 - val_mape: 2.9231\n",
      "Epoch 126/200\n",
      "17/17 [==============================] - 0s 3ms/step - loss: 2.9526 - mape: 2.9526 - val_loss: 3.0497 - val_mape: 3.0497\n",
      "Epoch 127/200\n",
      "17/17 [==============================] - 0s 3ms/step - loss: 2.8880 - mape: 2.8880 - val_loss: 2.9082 - val_mape: 2.9082\n",
      "Epoch 128/200\n",
      "17/17 [==============================] - 0s 3ms/step - loss: 2.8701 - mape: 2.8701 - val_loss: 2.9283 - val_mape: 2.9283\n",
      "Epoch 129/200\n",
      "17/17 [==============================] - 0s 3ms/step - loss: 2.8645 - mape: 2.8645 - val_loss: 2.8946 - val_mape: 2.8946\n",
      "Epoch 130/200\n",
      "17/17 [==============================] - 0s 3ms/step - loss: 2.9200 - mape: 2.9200 - val_loss: 2.9026 - val_mape: 2.9026\n",
      "Epoch 131/200\n",
      "17/17 [==============================] - 0s 4ms/step - loss: 2.8631 - mape: 2.8631 - val_loss: 2.9744 - val_mape: 2.9744\n",
      "Epoch 132/200\n",
      "17/17 [==============================] - 0s 4ms/step - loss: 2.8775 - mape: 2.8775 - val_loss: 3.0639 - val_mape: 3.0639\n",
      "Epoch 133/200\n",
      "17/17 [==============================] - 0s 3ms/step - loss: 2.8782 - mape: 2.8782 - val_loss: 2.8664 - val_mape: 2.8664\n",
      "Epoch 134/200\n",
      "17/17 [==============================] - 0s 3ms/step - loss: 2.8318 - mape: 2.8318 - val_loss: 2.9162 - val_mape: 2.9162\n",
      "Epoch 135/200\n",
      "17/17 [==============================] - 0s 3ms/step - loss: 2.8201 - mape: 2.8201 - val_loss: 2.9115 - val_mape: 2.9115\n",
      "Epoch 136/200\n",
      "17/17 [==============================] - 0s 3ms/step - loss: 2.8297 - mape: 2.8297 - val_loss: 2.8844 - val_mape: 2.8844\n",
      "Epoch 137/200\n",
      "17/17 [==============================] - 0s 3ms/step - loss: 2.8374 - mape: 2.8374 - val_loss: 2.8465 - val_mape: 2.8465\n",
      "Epoch 138/200\n",
      "17/17 [==============================] - 0s 3ms/step - loss: 2.8407 - mape: 2.8407 - val_loss: 2.8466 - val_mape: 2.8466\n",
      "Epoch 139/200\n",
      "17/17 [==============================] - 0s 3ms/step - loss: 2.8242 - mape: 2.8242 - val_loss: 2.8533 - val_mape: 2.8533\n",
      "Epoch 140/200\n",
      "17/17 [==============================] - 0s 3ms/step - loss: 2.8044 - mape: 2.8044 - val_loss: 2.9237 - val_mape: 2.9237\n",
      "Epoch 141/200\n",
      "17/17 [==============================] - 0s 3ms/step - loss: 2.8007 - mape: 2.8007 - val_loss: 2.8589 - val_mape: 2.8589\n",
      "Epoch 142/200\n",
      "17/17 [==============================] - 0s 3ms/step - loss: 2.8259 - mape: 2.8259 - val_loss: 2.8681 - val_mape: 2.8681\n",
      "Epoch 143/200\n",
      "17/17 [==============================] - 0s 3ms/step - loss: 2.8398 - mape: 2.8398 - val_loss: 2.8816 - val_mape: 2.8816\n",
      "Epoch 144/200\n",
      "17/17 [==============================] - 0s 3ms/step - loss: 2.8014 - mape: 2.8014 - val_loss: 2.8949 - val_mape: 2.8949\n",
      "Epoch 145/200\n",
      "17/17 [==============================] - 0s 3ms/step - loss: 2.7782 - mape: 2.7782 - val_loss: 2.8826 - val_mape: 2.8826\n",
      "Epoch 146/200\n",
      "17/17 [==============================] - 0s 3ms/step - loss: 2.8035 - mape: 2.8035 - val_loss: 2.8285 - val_mape: 2.8285\n",
      "Epoch 147/200\n",
      "17/17 [==============================] - 0s 3ms/step - loss: 2.7898 - mape: 2.7898 - val_loss: 2.8743 - val_mape: 2.8743\n",
      "Epoch 148/200\n",
      "17/17 [==============================] - 0s 5ms/step - loss: 2.7758 - mape: 2.7758 - val_loss: 2.8155 - val_mape: 2.8155\n",
      "Epoch 149/200\n",
      "17/17 [==============================] - 0s 3ms/step - loss: 2.7669 - mape: 2.7669 - val_loss: 2.8249 - val_mape: 2.8249\n",
      "Epoch 150/200\n",
      "17/17 [==============================] - 0s 3ms/step - loss: 2.8079 - mape: 2.8079 - val_loss: 2.7976 - val_mape: 2.7976\n",
      "Epoch 151/200\n",
      "17/17 [==============================] - 0s 3ms/step - loss: 2.7617 - mape: 2.7617 - val_loss: 2.8083 - val_mape: 2.8083\n",
      "Epoch 152/200\n",
      "17/17 [==============================] - 0s 3ms/step - loss: 2.8865 - mape: 2.8865 - val_loss: 2.8637 - val_mape: 2.8637\n",
      "Epoch 153/200\n",
      "17/17 [==============================] - 0s 3ms/step - loss: 2.8051 - mape: 2.8051 - val_loss: 2.8917 - val_mape: 2.8917\n",
      "Epoch 154/200\n",
      "17/17 [==============================] - 0s 3ms/step - loss: 2.7614 - mape: 2.7614 - val_loss: 2.7955 - val_mape: 2.7955\n",
      "Epoch 155/200\n",
      "17/17 [==============================] - 0s 3ms/step - loss: 2.7624 - mape: 2.7624 - val_loss: 2.7968 - val_mape: 2.7968\n",
      "Epoch 156/200\n",
      "17/17 [==============================] - 0s 3ms/step - loss: 2.7628 - mape: 2.7628 - val_loss: 2.8467 - val_mape: 2.8467\n",
      "Epoch 157/200\n",
      "17/17 [==============================] - 0s 3ms/step - loss: 2.7542 - mape: 2.7542 - val_loss: 2.8203 - val_mape: 2.8203\n",
      "Epoch 158/200\n",
      "17/17 [==============================] - 0s 3ms/step - loss: 2.7462 - mape: 2.7462 - val_loss: 2.8440 - val_mape: 2.8440\n",
      "Epoch 159/200\n",
      "17/17 [==============================] - 0s 3ms/step - loss: 2.9009 - mape: 2.9009 - val_loss: 2.9208 - val_mape: 2.9208\n",
      "Epoch 160/200\n",
      "17/17 [==============================] - 0s 3ms/step - loss: 2.9637 - mape: 2.9637 - val_loss: 2.8430 - val_mape: 2.8430\n",
      "Epoch 161/200\n",
      "17/17 [==============================] - 0s 3ms/step - loss: 2.8439 - mape: 2.8439 - val_loss: 2.8212 - val_mape: 2.8212\n",
      "Epoch 162/200\n",
      "17/17 [==============================] - 0s 3ms/step - loss: 2.8063 - mape: 2.8063 - val_loss: 2.9523 - val_mape: 2.9523\n",
      "Epoch 163/200\n",
      "17/17 [==============================] - 0s 3ms/step - loss: 2.7510 - mape: 2.7510 - val_loss: 2.7982 - val_mape: 2.7982\n",
      "Epoch 164/200\n",
      "17/17 [==============================] - 0s 3ms/step - loss: 2.7466 - mape: 2.7466 - val_loss: 2.8727 - val_mape: 2.8727\n",
      "Epoch 165/200\n",
      "17/17 [==============================] - 0s 3ms/step - loss: 2.7678 - mape: 2.7678 - val_loss: 2.7875 - val_mape: 2.7875\n",
      "Epoch 166/200\n",
      "17/17 [==============================] - 0s 3ms/step - loss: 2.7579 - mape: 2.7579 - val_loss: 2.7862 - val_mape: 2.7862\n",
      "Epoch 167/200\n",
      "17/17 [==============================] - 0s 3ms/step - loss: 2.6937 - mape: 2.6937 - val_loss: 2.7716 - val_mape: 2.7716\n",
      "Epoch 168/200\n",
      "17/17 [==============================] - 0s 3ms/step - loss: 2.7947 - mape: 2.7947 - val_loss: 3.1502 - val_mape: 3.1502\n",
      "Epoch 169/200\n",
      "17/17 [==============================] - 0s 3ms/step - loss: 2.7743 - mape: 2.7743 - val_loss: 2.7721 - val_mape: 2.7721\n",
      "Epoch 170/200\n",
      "17/17 [==============================] - 0s 3ms/step - loss: 2.7665 - mape: 2.7665 - val_loss: 2.8039 - val_mape: 2.8039\n",
      "Epoch 171/200\n",
      "17/17 [==============================] - 0s 3ms/step - loss: 2.7751 - mape: 2.7751 - val_loss: 2.7706 - val_mape: 2.7706\n",
      "Epoch 172/200\n",
      "17/17 [==============================] - 0s 3ms/step - loss: 2.6979 - mape: 2.6979 - val_loss: 2.7883 - val_mape: 2.7883\n",
      "Epoch 173/200\n",
      "17/17 [==============================] - 0s 3ms/step - loss: 2.7161 - mape: 2.7161 - val_loss: 2.9000 - val_mape: 2.9000\n",
      "Epoch 174/200\n",
      "17/17 [==============================] - 0s 3ms/step - loss: 2.7919 - mape: 2.7919 - val_loss: 2.7834 - val_mape: 2.7834\n",
      "Epoch 175/200\n",
      "17/17 [==============================] - 0s 3ms/step - loss: 2.8222 - mape: 2.8222 - val_loss: 2.7660 - val_mape: 2.7660\n",
      "Epoch 176/200\n",
      "17/17 [==============================] - 0s 3ms/step - loss: 2.9211 - mape: 2.9211 - val_loss: 2.7705 - val_mape: 2.7705\n",
      "Epoch 177/200\n",
      "17/17 [==============================] - 0s 3ms/step - loss: 2.8476 - mape: 2.8476 - val_loss: 2.8419 - val_mape: 2.8419\n",
      "Epoch 178/200\n",
      "17/17 [==============================] - 0s 3ms/step - loss: 2.8875 - mape: 2.8875 - val_loss: 3.1732 - val_mape: 3.1732\n",
      "Epoch 179/200\n",
      "17/17 [==============================] - 0s 3ms/step - loss: 2.7477 - mape: 2.7477 - val_loss: 2.7823 - val_mape: 2.7823\n",
      "Epoch 180/200\n",
      "17/17 [==============================] - 0s 3ms/step - loss: 2.6954 - mape: 2.6954 - val_loss: 3.1134 - val_mape: 3.1134\n",
      "Epoch 181/200\n",
      "17/17 [==============================] - 0s 3ms/step - loss: 2.7254 - mape: 2.7254 - val_loss: 3.0307 - val_mape: 3.0307\n",
      "Epoch 182/200\n",
      "17/17 [==============================] - 0s 3ms/step - loss: 2.7721 - mape: 2.7721 - val_loss: 2.7791 - val_mape: 2.7791\n",
      "Epoch 183/200\n",
      "17/17 [==============================] - 0s 4ms/step - loss: 2.6630 - mape: 2.6630 - val_loss: 2.8326 - val_mape: 2.8326\n",
      "Epoch 184/200\n",
      "17/17 [==============================] - 0s 3ms/step - loss: 2.8174 - mape: 2.8174 - val_loss: 2.7801 - val_mape: 2.7801\n",
      "Epoch 185/200\n",
      "17/17 [==============================] - 0s 3ms/step - loss: 2.6726 - mape: 2.6726 - val_loss: 2.7780 - val_mape: 2.7780\n",
      "Epoch 186/200\n",
      "17/17 [==============================] - 0s 3ms/step - loss: 2.6577 - mape: 2.6577 - val_loss: 2.8101 - val_mape: 2.8101\n",
      "Epoch 187/200\n",
      "17/17 [==============================] - 0s 3ms/step - loss: 2.6447 - mape: 2.6447 - val_loss: 2.7433 - val_mape: 2.7433\n",
      "Epoch 188/200\n",
      "17/17 [==============================] - 0s 3ms/step - loss: 2.6422 - mape: 2.6422 - val_loss: 2.7464 - val_mape: 2.7464\n",
      "Epoch 189/200\n",
      "17/17 [==============================] - 0s 3ms/step - loss: 2.6502 - mape: 2.6502 - val_loss: 2.9815 - val_mape: 2.9815\n",
      "Epoch 190/200\n",
      "17/17 [==============================] - 0s 3ms/step - loss: 2.8228 - mape: 2.8228 - val_loss: 2.8410 - val_mape: 2.8410\n",
      "Epoch 191/200\n",
      "17/17 [==============================] - 0s 3ms/step - loss: 2.6700 - mape: 2.6700 - val_loss: 2.7544 - val_mape: 2.7544\n",
      "Epoch 192/200\n",
      "17/17 [==============================] - 0s 4ms/step - loss: 2.7423 - mape: 2.7423 - val_loss: 2.7820 - val_mape: 2.7820\n",
      "Epoch 193/200\n",
      "17/17 [==============================] - 0s 4ms/step - loss: 2.6466 - mape: 2.6466 - val_loss: 2.8032 - val_mape: 2.8032\n",
      "Epoch 194/200\n",
      "17/17 [==============================] - 0s 3ms/step - loss: 2.6831 - mape: 2.6831 - val_loss: 2.9560 - val_mape: 2.9560\n",
      "Epoch 195/200\n",
      "17/17 [==============================] - 0s 3ms/step - loss: 2.7176 - mape: 2.7176 - val_loss: 2.7683 - val_mape: 2.7683\n",
      "Epoch 196/200\n",
      "17/17 [==============================] - 0s 4ms/step - loss: 2.6398 - mape: 2.6398 - val_loss: 2.7636 - val_mape: 2.7636\n",
      "Epoch 197/200\n",
      "17/17 [==============================] - 0s 3ms/step - loss: 2.6208 - mape: 2.6208 - val_loss: 2.7400 - val_mape: 2.7400\n",
      "Epoch 198/200\n",
      "17/17 [==============================] - 0s 3ms/step - loss: 2.6262 - mape: 2.6262 - val_loss: 2.7473 - val_mape: 2.7473\n",
      "Epoch 199/200\n",
      "17/17 [==============================] - 0s 4ms/step - loss: 2.6506 - mape: 2.6506 - val_loss: 2.9394 - val_mape: 2.9394\n",
      "Epoch 200/200\n",
      "17/17 [==============================] - 0s 3ms/step - loss: 2.7813 - mape: 2.7813 - val_loss: 3.1953 - val_mape: 3.1953\n"
     ]
    }
   ],
   "source": [
    "model = Sequential()\n",
    "model.add(Dense(64,activation='relu',input_dim = 10))\n",
    "model.add(Dense(48,activation='relu'))\n",
    "model.add(Dense(88,activation='relu'))\n",
    "model.add(Dense(8,activation='relu'))\n",
    "model.add(Dense(1,activation='linear'))\n",
    "ad=optimizers.Adam(learning_rate = 0.0000764309811403132)\n",
    "model.compile(optimizer = ad, loss = 'mape', metrics = ['mape'])\n",
    "model_history=model.fit(trainX, trainY,validation_data=(testX,testY), batch_size = 36, epochs = 200,callbacks=[EarlyStopping(monitor='val_loss', patience=40)])"
   ]
  },
  {
   "cell_type": "code",
   "execution_count": 42,
   "id": "77c05906",
   "metadata": {
    "id": "77c05906"
   },
   "outputs": [],
   "source": [
    "def model_loss(history):\n",
    "    plt.figure(figsize=(8,4))\n",
    "    plt.plot(history.history['loss'], label='Train Loss')\n",
    "    plt.plot(history.history['val_loss'], label='Test Loss')\n",
    "    plt.title('model loss')\n",
    "    plt.ylabel('loss')\n",
    "    plt.xlabel('epochs')\n",
    "    plt.legend(loc='upper right')\n",
    "    plt.show();"
   ]
  },
  {
   "cell_type": "code",
   "execution_count": 43,
   "id": "6vZ-AXOUurmJ",
   "metadata": {
    "id": "6vZ-AXOUurmJ"
   },
   "outputs": [],
   "source": [
    "train_score = model.evaluate(trainX, trainY,verbose=0)\n",
    "test_score = model.evaluate(testX, testY,verbose=0)"
   ]
  },
  {
   "cell_type": "code",
   "execution_count": 44,
   "id": "45a22c27",
   "metadata": {
    "colab": {
     "base_uri": "https://localhost:8080/",
     "height": 329
    },
    "id": "45a22c27",
    "outputId": "669078d0-2def-4187-aa63-25f5a2a7029d"
   },
   "outputs": [
    {
     "name": "stdout",
     "output_type": "stream",
     "text": [
      "Train MAPE : 2.90 \n",
      "Test MAPE : 3.20 \n"
     ]
    },
    {
     "data": {
      "image/png": "[encoded data removed]",
      "text/plain": [
       "<Figure size 576x288 with 1 Axes>"
      ]
     },
     "metadata": {
      "needs_background": "light"
     },
     "output_type": "display_data"
    }
   ],
   "source": [
    "train_predict = model.predict(trainX)\n",
    "test_predict = model.predict(testX)\n",
    "\n",
    "# invert predictions\n",
    "train_predict = scaler.inverse_transform(train_predict)\n",
    "trainY = scaler.inverse_transform([trainY])\n",
    "test_predict = scaler.inverse_transform(test_predict)\n",
    "testY = scaler.inverse_transform([testY])\n",
    "print('Train MAPE : %.2f ' % (train_score[1]))\n",
    "print('Test MAPE : %.2f ' % (test_score[1]))\n",
    "model_loss(model_history)"
   ]
  },
  {
   "cell_type": "code",
   "execution_count": 45,
   "id": "dc942f74",
   "metadata": {
    "id": "dc942f74"
   },
   "outputs": [],
   "source": [
    "import seaborn as sns"
   ]
  },
  {
   "cell_type": "code",
   "execution_count": 46,
   "id": "dee9bab8",
   "metadata": {
    "id": "dee9bab8"
   },
   "outputs": [],
   "source": [
    "def prediction_plot(testY, test_predict,look_back):\n",
    "    len_prediction=[x for x in range(611,671)]\n",
    "    plt.plot(trainY.reshape(-1,))\n",
    "    plt.plot(len_prediction, testY.reshape(-1,), marker='.', label='actual')\n",
    "    plt.plot(len_prediction, test_predict, 'g', label=\"prediction\")\n",
    "    plt.tight_layout()\n",
    "    sns.despine(top=True)\n",
    "    plt.subplots_adjust(left=0.07)\n",
    "    plt.ylabel('Units', size=15)\n",
    "    plt.xlabel('Time step', size=15)\n",
    "    plt.legend(fontsize=15)\n",
    "    plt.show()"
   ]
  },
  {
   "cell_type": "code",
   "execution_count": 47,
   "id": "363040b5",
   "metadata": {
    "colab": {
     "base_uri": "https://localhost:8080/",
     "height": 604
    },
    "id": "363040b5",
    "outputId": "1bfef9e1-9103-4397-87f9-c36c07ce678c"
   },
   "outputs": [
    {
     "data": {
      "image/png": "[encoded data removed]",
      "text/plain": [
       "<Figure size 1080x576 with 1 Axes>"
      ]
     },
     "metadata": {
      "needs_background": "light"
     },
     "output_type": "display_data"
    }
   ],
   "source": [
    "test_predict = model.predict(testX)\n",
    "test_predict = scaler.inverse_transform(test_predict)\n",
    "prediction_plot(testY, test_predict,look_back)"
   ]
  },
  {
   "cell_type": "code",
   "execution_count": null,
   "id": "f8a7708c",
   "metadata": {
    "id": "f8a7708c"
   },
   "outputs": [],
   "source": []
  }
 ],
 "metadata": {
  "colab": {
   "collapsed_sections": [],
   "name": "covid_HPT_ANN.ipynb",
   "provenance": []
  },
  "kernelspec": {
   "display_name": "Python 3",
   "language": "python",
   "name": "python3"
  },
  "language_info": {
   "codemirror_mode": {
    "name": "ipython",
    "version": 3
   },
   "file_extension": ".py",
   "mimetype": "text/x-python",
   "name": "python",
   "nbconvert_exporter": "python",
   "pygments_lexer": "ipython3",
   "version": "3.8.8"
  }
 },
 "nbformat": 4,
 "nbformat_minor": 5
}
