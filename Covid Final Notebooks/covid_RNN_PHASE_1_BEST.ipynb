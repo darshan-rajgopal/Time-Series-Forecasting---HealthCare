{
 "cells": [
  {
   "cell_type": "code",
   "execution_count": 1,
   "id": "c2ef9b47",
   "metadata": {
    "id": "c2ef9b47"
   },
   "outputs": [],
   "source": [
    "import numpy as np\n",
    "import pandas as pd\n",
    "from tensorflow.keras.models import Sequential\n",
    "from tensorflow.keras.layers import LSTM\n",
    "from tensorflow.keras.layers import Dense\n",
    "from tensorflow.keras.layers import Flatten\n",
    "import matplotlib.pyplot as plt\n",
    "import warnings\n",
    "warnings.filterwarnings('ignore')\n",
    "%matplotlib inline"
   ]
  },
  {
   "cell_type": "code",
   "execution_count": 2,
   "id": "iGQk9lcRmucZ",
   "metadata": {
    "colab": {
     "base_uri": "https://localhost:8080/"
    },
    "id": "iGQk9lcRmucZ",
    "outputId": "4c29614f-f6ac-4d08-aa1b-db62aaafa5d6"
   },
   "outputs": [
    {
     "name": "stdout",
     "output_type": "stream",
     "text": [
      "Mounted at /content/drive\n"
     ]
    }
   ],
   "source": [
    "from google.colab import drive\n",
    "drive.mount('/content/drive')"
   ]
  },
  {
   "cell_type": "code",
   "execution_count": null,
   "id": "BxDZtfokj6Da",
   "metadata": {
    "colab": {
     "base_uri": "https://localhost:8080/",
     "height": 35
    },
    "id": "BxDZtfokj6Da",
    "outputId": "b20dcdbd-c02a-48ad-a576-4ba9370acae1"
   },
   "outputs": [
    {
     "data": {
      "application/vnd.google.colaboratory.intrinsic+json": {
       "type": "string"
      },
      "text/plain": [
       "'/device:GPU:0'"
      ]
     },
     "execution_count": 5,
     "metadata": {},
     "output_type": "execute_result"
    }
   ],
   "source": [
    "import tensorflow as tf\n",
    "tf.test.gpu_device_name()"
   ]
  },
  {
   "cell_type": "code",
   "execution_count": null,
   "id": "UDt4KrAxj6JS",
   "metadata": {
    "colab": {
     "base_uri": "https://localhost:8080/"
    },
    "id": "UDt4KrAxj6JS",
    "outputId": "9d528187-3aea-4259-a635-0d1eddbc47d0"
   },
   "outputs": [
    {
     "data": {
      "text/plain": [
       "[name: \"/device:CPU:0\"\n",
       " device_type: \"CPU\"\n",
       " memory_limit: 268435456\n",
       " locality {\n",
       " }\n",
       " incarnation: 14494480343520806349\n",
       " xla_global_id: -1, name: \"/device:GPU:0\"\n",
       " device_type: \"GPU\"\n",
       " memory_limit: 11320098816\n",
       " locality {\n",
       "   bus_id: 1\n",
       "   links {\n",
       "   }\n",
       " }\n",
       " incarnation: 1229225032833911937\n",
       " physical_device_desc: \"device: 0, name: Tesla K80, pci bus id: 0000:00:04.0, compute capability: 3.7\"\n",
       " xla_global_id: 416903419]"
      ]
     },
     "execution_count": 6,
     "metadata": {},
     "output_type": "execute_result"
    }
   ],
   "source": [
    "from tensorflow.python.client import device_lib\n",
    "device_lib.list_local_devices()"
   ]
  },
  {
   "cell_type": "code",
   "execution_count": 3,
   "id": "30d066a0",
   "metadata": {
    "colab": {
     "base_uri": "https://localhost:8080/",
     "height": 206
    },
    "id": "30d066a0",
    "outputId": "7287dcdf-7833-4ff2-8cce-84473c4f67e0"
   },
   "outputs": [
    {
     "data": {
      "text/html": [
       "\n",
       "  <div id=\"df-38f4dad5-6733-4563-8e27-b47b4ba69658\">\n",
       "    <div class=\"colab-df-container\">\n",
       "      <div>\n",
       "<style scoped>\n",
       "    .dataframe tbody tr th:only-of-type {\n",
       "        vertical-align: middle;\n",
       "    }\n",
       "\n",
       "    .dataframe tbody tr th {\n",
       "        vertical-align: top;\n",
       "    }\n",
       "\n",
       "    .dataframe thead th {\n",
       "        text-align: right;\n",
       "    }\n",
       "</style>\n",
       "<table border=\"1\" class=\"dataframe\">\n",
       "  <thead>\n",
       "    <tr style=\"text-align: right;\">\n",
       "      <th></th>\n",
       "      <th>date</th>\n",
       "      <th>country</th>\n",
       "      <th>cumulative_total_cases</th>\n",
       "      <th>daily_new_cases</th>\n",
       "      <th>active_cases</th>\n",
       "      <th>cumulative_total_deaths</th>\n",
       "      <th>daily_new_deaths</th>\n",
       "    </tr>\n",
       "  </thead>\n",
       "  <tbody>\n",
       "    <tr>\n",
       "      <th>0</th>\n",
       "      <td>2020-2-15</td>\n",
       "      <td>Afghanistan</td>\n",
       "      <td>0.0</td>\n",
       "      <td>NaN</td>\n",
       "      <td>0.0</td>\n",
       "      <td>0.0</td>\n",
       "      <td>NaN</td>\n",
       "    </tr>\n",
       "    <tr>\n",
       "      <th>1</th>\n",
       "      <td>2020-2-16</td>\n",
       "      <td>Afghanistan</td>\n",
       "      <td>0.0</td>\n",
       "      <td>NaN</td>\n",
       "      <td>0.0</td>\n",
       "      <td>0.0</td>\n",
       "      <td>NaN</td>\n",
       "    </tr>\n",
       "    <tr>\n",
       "      <th>2</th>\n",
       "      <td>2020-2-17</td>\n",
       "      <td>Afghanistan</td>\n",
       "      <td>0.0</td>\n",
       "      <td>NaN</td>\n",
       "      <td>0.0</td>\n",
       "      <td>0.0</td>\n",
       "      <td>NaN</td>\n",
       "    </tr>\n",
       "    <tr>\n",
       "      <th>3</th>\n",
       "      <td>2020-2-18</td>\n",
       "      <td>Afghanistan</td>\n",
       "      <td>0.0</td>\n",
       "      <td>NaN</td>\n",
       "      <td>0.0</td>\n",
       "      <td>0.0</td>\n",
       "      <td>NaN</td>\n",
       "    </tr>\n",
       "    <tr>\n",
       "      <th>4</th>\n",
       "      <td>2020-2-19</td>\n",
       "      <td>Afghanistan</td>\n",
       "      <td>0.0</td>\n",
       "      <td>NaN</td>\n",
       "      <td>0.0</td>\n",
       "      <td>0.0</td>\n",
       "      <td>NaN</td>\n",
       "    </tr>\n",
       "  </tbody>\n",
       "</table>\n",
       "</div>\n",
       "      <button class=\"colab-df-convert\" onclick=\"convertToInteractive('df-38f4dad5-6733-4563-8e27-b47b4ba69658')\"\n",
       "              title=\"Convert this dataframe to an interactive table.\"\n",
       "              style=\"display:none;\">\n",
       "        \n",
       "  <svg xmlns=\"http://www.w3.org/2000/svg\" height=\"24px\"viewBox=\"0 0 24 24\"\n",
       "       width=\"24px\">\n",
       "    <path d=\"M0 0h24v24H0V0z\" fill=\"none\"/>\n",
       "    <path d=\"M18.56 5.44l.94 2.06.94-2.06 2.06-.94-2.06-.94-.94-2.06-.94 2.06-2.06.94zm-11 1L8.5 8.5l.94-2.06 2.06-.94-2.06-.94L8.5 2.5l-.94 2.06-2.06.94zm10 10l.94 2.06.94-2.06 2.06-.94-2.06-.94-.94-2.06-.94 2.06-2.06.94z\"/><path d=\"M17.41 7.96l-1.37-1.37c-.4-.4-.92-.59-1.43-.59-.52 0-1.04.2-1.43.59L10.3 9.45l-7.72 7.72c-.78.78-.78 2.05 0 2.83L4 21.41c.39.39.9.59 1.41.59.51 0 1.02-.2 1.41-.59l7.78-7.78 2.81-2.81c.8-.78.8-2.07 0-2.86zM5.41 20L4 18.59l7.72-7.72 1.47 1.35L5.41 20z\"/>\n",
       "  </svg>\n",
       "      </button>\n",
       "      \n",
       "  <style>\n",
       "    .colab-df-container {\n",
       "      display:flex;\n",
       "      flex-wrap:wrap;\n",
       "      gap: 12px;\n",
       "    }\n",
       "\n",
       "    .colab-df-convert {\n",
       "      background-color: #E8F0FE;\n",
       "      border: none;\n",
       "      border-radius: 50%;\n",
       "      cursor: pointer;\n",
       "      display: none;\n",
       "      fill: #1967D2;\n",
       "      height: 32px;\n",
       "      padding: 0 0 0 0;\n",
       "      width: 32px;\n",
       "    }\n",
       "\n",
       "    .colab-df-convert:hover {\n",
       "      background-color: #E2EBFA;\n",
       "      box-shadow: 0px 1px 2px rgba(60, 64, 67, 0.3), 0px 1px 3px 1px rgba(60, 64, 67, 0.15);\n",
       "      fill: #174EA6;\n",
       "    }\n",
       "\n",
       "    [theme=dark] .colab-df-convert {\n",
       "      background-color: #3B4455;\n",
       "      fill: #D2E3FC;\n",
       "    }\n",
       "\n",
       "    [theme=dark] .colab-df-convert:hover {\n",
       "      background-color: #434B5C;\n",
       "      box-shadow: 0px 1px 3px 1px rgba(0, 0, 0, 0.15);\n",
       "      filter: drop-shadow(0px 1px 2px rgba(0, 0, 0, 0.3));\n",
       "      fill: #FFFFFF;\n",
       "    }\n",
       "  </style>\n",
       "\n",
       "      <script>\n",
       "        const buttonEl =\n",
       "          document.querySelector('#df-38f4dad5-6733-4563-8e27-b47b4ba69658 button.colab-df-convert');\n",
       "        buttonEl.style.display =\n",
       "          google.colab.kernel.accessAllowed ? 'block' : 'none';\n",
       "\n",
       "        async function convertToInteractive(key) {\n",
       "          const element = document.querySelector('#df-38f4dad5-6733-4563-8e27-b47b4ba69658');\n",
       "          const dataTable =\n",
       "            await google.colab.kernel.invokeFunction('convertToInteractive',\n",
       "                                                     [key], {});\n",
       "          if (!dataTable) return;\n",
       "\n",
       "          const docLinkHtml = 'Like what you see? Visit the ' +\n",
       "            '<a target=\"_blank\" href=https://colab.research.google.com/notebooks/data_table.ipynb>data table notebook</a>'\n",
       "            + ' to learn more about interactive tables.';\n",
       "          element.innerHTML = '';\n",
       "          dataTable['output_type'] = 'display_data';\n",
       "          await google.colab.output.renderOutput(dataTable, element);\n",
       "          const docLink = document.createElement('div');\n",
       "          docLink.innerHTML = docLinkHtml;\n",
       "          element.appendChild(docLink);\n",
       "        }\n",
       "      </script>\n",
       "    </div>\n",
       "  </div>\n",
       "  "
      ],
      "text/plain": [
       "        date      country  ...  cumulative_total_deaths  daily_new_deaths\n",
       "0  2020-2-15  Afghanistan  ...                      0.0               NaN\n",
       "1  2020-2-16  Afghanistan  ...                      0.0               NaN\n",
       "2  2020-2-17  Afghanistan  ...                      0.0               NaN\n",
       "3  2020-2-18  Afghanistan  ...                      0.0               NaN\n",
       "4  2020-2-19  Afghanistan  ...                      0.0               NaN\n",
       "\n",
       "[5 rows x 7 columns]"
      ]
     },
     "execution_count": 3,
     "metadata": {},
     "output_type": "execute_result"
    }
   ],
   "source": [
    "master_df = pd.read_csv('/content/drive/MyDrive/Colab Notebooks/HealthCare/worldometer_coronavirus_daily_data_latest.csv')\n",
    "master_df.head()"
   ]
  },
  {
   "cell_type": "code",
   "execution_count": 4,
   "id": "e2663bb4",
   "metadata": {
    "colab": {
     "base_uri": "https://localhost:8080/",
     "height": 206
    },
    "id": "e2663bb4",
    "outputId": "078c928c-aa32-490c-8945-f1a8ee43aa73"
   },
   "outputs": [
    {
     "data": {
      "text/html": [
       "\n",
       "  <div id=\"df-b0d6681e-3dc4-4060-b841-c4991d28dacf\">\n",
       "    <div class=\"colab-df-container\">\n",
       "      <div>\n",
       "<style scoped>\n",
       "    .dataframe tbody tr th:only-of-type {\n",
       "        vertical-align: middle;\n",
       "    }\n",
       "\n",
       "    .dataframe tbody tr th {\n",
       "        vertical-align: top;\n",
       "    }\n",
       "\n",
       "    .dataframe thead th {\n",
       "        text-align: right;\n",
       "    }\n",
       "</style>\n",
       "<table border=\"1\" class=\"dataframe\">\n",
       "  <thead>\n",
       "    <tr style=\"text-align: right;\">\n",
       "      <th></th>\n",
       "      <th>date</th>\n",
       "      <th>country</th>\n",
       "      <th>cumulative_total_cases</th>\n",
       "      <th>daily_new_cases</th>\n",
       "      <th>active_cases</th>\n",
       "      <th>cumulative_total_deaths</th>\n",
       "      <th>daily_new_deaths</th>\n",
       "    </tr>\n",
       "  </thead>\n",
       "  <tbody>\n",
       "    <tr>\n",
       "      <th>152730</th>\n",
       "      <td>2022-1-01</td>\n",
       "      <td>Zimbabwe</td>\n",
       "      <td>214214.0</td>\n",
       "      <td>956.0</td>\n",
       "      <td>26786.0</td>\n",
       "      <td>5017.0</td>\n",
       "      <td>13.0</td>\n",
       "    </tr>\n",
       "    <tr>\n",
       "      <th>152731</th>\n",
       "      <td>2022-1-02</td>\n",
       "      <td>Zimbabwe</td>\n",
       "      <td>214878.0</td>\n",
       "      <td>664.0</td>\n",
       "      <td>26585.0</td>\n",
       "      <td>5032.0</td>\n",
       "      <td>15.0</td>\n",
       "    </tr>\n",
       "    <tr>\n",
       "      <th>152732</th>\n",
       "      <td>2022-1-03</td>\n",
       "      <td>Zimbabwe</td>\n",
       "      <td>216087.0</td>\n",
       "      <td>1209.0</td>\n",
       "      <td>25446.0</td>\n",
       "      <td>5047.0</td>\n",
       "      <td>15.0</td>\n",
       "    </tr>\n",
       "    <tr>\n",
       "      <th>152733</th>\n",
       "      <td>2022-1-04</td>\n",
       "      <td>Zimbabwe</td>\n",
       "      <td>217678.0</td>\n",
       "      <td>1591.0</td>\n",
       "      <td>24620.0</td>\n",
       "      <td>5078.0</td>\n",
       "      <td>31.0</td>\n",
       "    </tr>\n",
       "    <tr>\n",
       "      <th>152734</th>\n",
       "      <td>2022-1-05</td>\n",
       "      <td>Zimbabwe</td>\n",
       "      <td>219057.0</td>\n",
       "      <td>1379.0</td>\n",
       "      <td>24252.0</td>\n",
       "      <td>5092.0</td>\n",
       "      <td>14.0</td>\n",
       "    </tr>\n",
       "  </tbody>\n",
       "</table>\n",
       "</div>\n",
       "      <button class=\"colab-df-convert\" onclick=\"convertToInteractive('df-b0d6681e-3dc4-4060-b841-c4991d28dacf')\"\n",
       "              title=\"Convert this dataframe to an interactive table.\"\n",
       "              style=\"display:none;\">\n",
       "        \n",
       "  <svg xmlns=\"http://www.w3.org/2000/svg\" height=\"24px\"viewBox=\"0 0 24 24\"\n",
       "       width=\"24px\">\n",
       "    <path d=\"M0 0h24v24H0V0z\" fill=\"none\"/>\n",
       "    <path d=\"M18.56 5.44l.94 2.06.94-2.06 2.06-.94-2.06-.94-.94-2.06-.94 2.06-2.06.94zm-11 1L8.5 8.5l.94-2.06 2.06-.94-2.06-.94L8.5 2.5l-.94 2.06-2.06.94zm10 10l.94 2.06.94-2.06 2.06-.94-2.06-.94-.94-2.06-.94 2.06-2.06.94z\"/><path d=\"M17.41 7.96l-1.37-1.37c-.4-.4-.92-.59-1.43-.59-.52 0-1.04.2-1.43.59L10.3 9.45l-7.72 7.72c-.78.78-.78 2.05 0 2.83L4 21.41c.39.39.9.59 1.41.59.51 0 1.02-.2 1.41-.59l7.78-7.78 2.81-2.81c.8-.78.8-2.07 0-2.86zM5.41 20L4 18.59l7.72-7.72 1.47 1.35L5.41 20z\"/>\n",
       "  </svg>\n",
       "      </button>\n",
       "      \n",
       "  <style>\n",
       "    .colab-df-container {\n",
       "      display:flex;\n",
       "      flex-wrap:wrap;\n",
       "      gap: 12px;\n",
       "    }\n",
       "\n",
       "    .colab-df-convert {\n",
       "      background-color: #E8F0FE;\n",
       "      border: none;\n",
       "      border-radius: 50%;\n",
       "      cursor: pointer;\n",
       "      display: none;\n",
       "      fill: #1967D2;\n",
       "      height: 32px;\n",
       "      padding: 0 0 0 0;\n",
       "      width: 32px;\n",
       "    }\n",
       "\n",
       "    .colab-df-convert:hover {\n",
       "      background-color: #E2EBFA;\n",
       "      box-shadow: 0px 1px 2px rgba(60, 64, 67, 0.3), 0px 1px 3px 1px rgba(60, 64, 67, 0.15);\n",
       "      fill: #174EA6;\n",
       "    }\n",
       "\n",
       "    [theme=dark] .colab-df-convert {\n",
       "      background-color: #3B4455;\n",
       "      fill: #D2E3FC;\n",
       "    }\n",
       "\n",
       "    [theme=dark] .colab-df-convert:hover {\n",
       "      background-color: #434B5C;\n",
       "      box-shadow: 0px 1px 3px 1px rgba(0, 0, 0, 0.15);\n",
       "      filter: drop-shadow(0px 1px 2px rgba(0, 0, 0, 0.3));\n",
       "      fill: #FFFFFF;\n",
       "    }\n",
       "  </style>\n",
       "\n",
       "      <script>\n",
       "        const buttonEl =\n",
       "          document.querySelector('#df-b0d6681e-3dc4-4060-b841-c4991d28dacf button.colab-df-convert');\n",
       "        buttonEl.style.display =\n",
       "          google.colab.kernel.accessAllowed ? 'block' : 'none';\n",
       "\n",
       "        async function convertToInteractive(key) {\n",
       "          const element = document.querySelector('#df-b0d6681e-3dc4-4060-b841-c4991d28dacf');\n",
       "          const dataTable =\n",
       "            await google.colab.kernel.invokeFunction('convertToInteractive',\n",
       "                                                     [key], {});\n",
       "          if (!dataTable) return;\n",
       "\n",
       "          const docLinkHtml = 'Like what you see? Visit the ' +\n",
       "            '<a target=\"_blank\" href=https://colab.research.google.com/notebooks/data_table.ipynb>data table notebook</a>'\n",
       "            + ' to learn more about interactive tables.';\n",
       "          element.innerHTML = '';\n",
       "          dataTable['output_type'] = 'display_data';\n",
       "          await google.colab.output.renderOutput(dataTable, element);\n",
       "          const docLink = document.createElement('div');\n",
       "          docLink.innerHTML = docLinkHtml;\n",
       "          element.appendChild(docLink);\n",
       "        }\n",
       "      </script>\n",
       "    </div>\n",
       "  </div>\n",
       "  "
      ],
      "text/plain": [
       "             date   country  ...  cumulative_total_deaths  daily_new_deaths\n",
       "152730  2022-1-01  Zimbabwe  ...                   5017.0              13.0\n",
       "152731  2022-1-02  Zimbabwe  ...                   5032.0              15.0\n",
       "152732  2022-1-03  Zimbabwe  ...                   5047.0              15.0\n",
       "152733  2022-1-04  Zimbabwe  ...                   5078.0              31.0\n",
       "152734  2022-1-05  Zimbabwe  ...                   5092.0              14.0\n",
       "\n",
       "[5 rows x 7 columns]"
      ]
     },
     "execution_count": 4,
     "metadata": {},
     "output_type": "execute_result"
    }
   ],
   "source": [
    "master_df.tail()"
   ]
  },
  {
   "cell_type": "code",
   "execution_count": 5,
   "id": "0482272d",
   "metadata": {
    "colab": {
     "base_uri": "https://localhost:8080/"
    },
    "id": "0482272d",
    "outputId": "cce8aa02-e110-47d6-ae08-e1b68f5cd70e"
   },
   "outputs": [
    {
     "data": {
      "text/plain": [
       "(152735, 7)"
      ]
     },
     "execution_count": 5,
     "metadata": {},
     "output_type": "execute_result"
    }
   ],
   "source": [
    "master_df.shape"
   ]
  },
  {
   "cell_type": "code",
   "execution_count": 6,
   "id": "076f1ad3",
   "metadata": {
    "colab": {
     "base_uri": "https://localhost:8080/"
    },
    "id": "076f1ad3",
    "outputId": "b633ad78-8a91-42c4-a938-39e2bbfd225a"
   },
   "outputs": [
    {
     "name": "stdout",
     "output_type": "stream",
     "text": [
      "<class 'pandas.core.frame.DataFrame'>\n",
      "RangeIndex: 152735 entries, 0 to 152734\n",
      "Data columns (total 7 columns):\n",
      " #   Column                   Non-Null Count   Dtype  \n",
      "---  ------                   --------------   -----  \n",
      " 0   date                     152735 non-null  object \n",
      " 1   country                  152735 non-null  object \n",
      " 2   cumulative_total_cases   152735 non-null  float64\n",
      " 3   daily_new_cases          145244 non-null  float64\n",
      " 4   active_cases             147898 non-null  float64\n",
      " 5   cumulative_total_deaths  145825 non-null  float64\n",
      " 6   daily_new_deaths         129468 non-null  float64\n",
      "dtypes: float64(5), object(2)\n",
      "memory usage: 8.2+ MB\n"
     ]
    }
   ],
   "source": [
    "master_df.info()"
   ]
  },
  {
   "cell_type": "code",
   "execution_count": 7,
   "id": "P7iafLm-_PCX",
   "metadata": {
    "id": "P7iafLm-_PCX"
   },
   "outputs": [],
   "source": [
    "df = master_df[master_df['country'] == 'India']"
   ]
  },
  {
   "cell_type": "code",
   "execution_count": 8,
   "id": "4GimAUaT_Sgs",
   "metadata": {
    "id": "4GimAUaT_Sgs"
   },
   "outputs": [],
   "source": [
    "df.fillna(0,inplace=True)"
   ]
  },
  {
   "cell_type": "code",
   "execution_count": 9,
   "id": "n3B1ZoN8_Ulg",
   "metadata": {
    "id": "n3B1ZoN8_Ulg"
   },
   "outputs": [],
   "source": [
    "df.reset_index(drop=True,inplace=True)"
   ]
  },
  {
   "cell_type": "code",
   "execution_count": 10,
   "id": "ZXaa0RR6_Uo3",
   "metadata": {
    "id": "ZXaa0RR6_Uo3"
   },
   "outputs": [],
   "source": [
    "time = pd.date_range(start='2/15/2020',periods=691,freq='D')\n",
    "df['time_stamp'] = pd.DataFrame(time)\n",
    "df.drop(['date','country'],axis=1,inplace=True)\n",
    "df = df.set_index('time_stamp')"
   ]
  },
  {
   "cell_type": "code",
   "execution_count": 11,
   "id": "JEYPKNG6_SkI",
   "metadata": {
    "id": "JEYPKNG6_SkI"
   },
   "outputs": [],
   "source": [
    "df = df[['daily_new_cases']]"
   ]
  },
  {
   "cell_type": "code",
   "execution_count": 12,
   "id": "s8v0QApu_eHS",
   "metadata": {
    "id": "s8v0QApu_eHS"
   },
   "outputs": [],
   "source": [
    "df = df + 1"
   ]
  },
  {
   "cell_type": "code",
   "execution_count": 13,
   "id": "oYAsh_OytrPi",
   "metadata": {
    "colab": {
     "base_uri": "https://localhost:8080/",
     "height": 238
    },
    "id": "oYAsh_OytrPi",
    "outputId": "b16b3587-3302-49b8-a885-46bef19aa49b"
   },
   "outputs": [
    {
     "data": {
      "text/html": [
       "\n",
       "  <div id=\"df-de5df0b8-7786-4d79-90b4-77fc2d160449\">\n",
       "    <div class=\"colab-df-container\">\n",
       "      <div>\n",
       "<style scoped>\n",
       "    .dataframe tbody tr th:only-of-type {\n",
       "        vertical-align: middle;\n",
       "    }\n",
       "\n",
       "    .dataframe tbody tr th {\n",
       "        vertical-align: top;\n",
       "    }\n",
       "\n",
       "    .dataframe thead th {\n",
       "        text-align: right;\n",
       "    }\n",
       "</style>\n",
       "<table border=\"1\" class=\"dataframe\">\n",
       "  <thead>\n",
       "    <tr style=\"text-align: right;\">\n",
       "      <th></th>\n",
       "      <th>daily_new_cases</th>\n",
       "    </tr>\n",
       "    <tr>\n",
       "      <th>time_stamp</th>\n",
       "      <th></th>\n",
       "    </tr>\n",
       "  </thead>\n",
       "  <tbody>\n",
       "    <tr>\n",
       "      <th>2020-02-15</th>\n",
       "      <td>1.0</td>\n",
       "    </tr>\n",
       "    <tr>\n",
       "      <th>2020-02-16</th>\n",
       "      <td>1.0</td>\n",
       "    </tr>\n",
       "    <tr>\n",
       "      <th>2020-02-17</th>\n",
       "      <td>1.0</td>\n",
       "    </tr>\n",
       "    <tr>\n",
       "      <th>2020-02-18</th>\n",
       "      <td>1.0</td>\n",
       "    </tr>\n",
       "    <tr>\n",
       "      <th>2020-02-19</th>\n",
       "      <td>1.0</td>\n",
       "    </tr>\n",
       "  </tbody>\n",
       "</table>\n",
       "</div>\n",
       "      <button class=\"colab-df-convert\" onclick=\"convertToInteractive('df-de5df0b8-7786-4d79-90b4-77fc2d160449')\"\n",
       "              title=\"Convert this dataframe to an interactive table.\"\n",
       "              style=\"display:none;\">\n",
       "        \n",
       "  <svg xmlns=\"http://www.w3.org/2000/svg\" height=\"24px\"viewBox=\"0 0 24 24\"\n",
       "       width=\"24px\">\n",
       "    <path d=\"M0 0h24v24H0V0z\" fill=\"none\"/>\n",
       "    <path d=\"M18.56 5.44l.94 2.06.94-2.06 2.06-.94-2.06-.94-.94-2.06-.94 2.06-2.06.94zm-11 1L8.5 8.5l.94-2.06 2.06-.94-2.06-.94L8.5 2.5l-.94 2.06-2.06.94zm10 10l.94 2.06.94-2.06 2.06-.94-2.06-.94-.94-2.06-.94 2.06-2.06.94z\"/><path d=\"M17.41 7.96l-1.37-1.37c-.4-.4-.92-.59-1.43-.59-.52 0-1.04.2-1.43.59L10.3 9.45l-7.72 7.72c-.78.78-.78 2.05 0 2.83L4 21.41c.39.39.9.59 1.41.59.51 0 1.02-.2 1.41-.59l7.78-7.78 2.81-2.81c.8-.78.8-2.07 0-2.86zM5.41 20L4 18.59l7.72-7.72 1.47 1.35L5.41 20z\"/>\n",
       "  </svg>\n",
       "      </button>\n",
       "      \n",
       "  <style>\n",
       "    .colab-df-container {\n",
       "      display:flex;\n",
       "      flex-wrap:wrap;\n",
       "      gap: 12px;\n",
       "    }\n",
       "\n",
       "    .colab-df-convert {\n",
       "      background-color: #E8F0FE;\n",
       "      border: none;\n",
       "      border-radius: 50%;\n",
       "      cursor: pointer;\n",
       "      display: none;\n",
       "      fill: #1967D2;\n",
       "      height: 32px;\n",
       "      padding: 0 0 0 0;\n",
       "      width: 32px;\n",
       "    }\n",
       "\n",
       "    .colab-df-convert:hover {\n",
       "      background-color: #E2EBFA;\n",
       "      box-shadow: 0px 1px 2px rgba(60, 64, 67, 0.3), 0px 1px 3px 1px rgba(60, 64, 67, 0.15);\n",
       "      fill: #174EA6;\n",
       "    }\n",
       "\n",
       "    [theme=dark] .colab-df-convert {\n",
       "      background-color: #3B4455;\n",
       "      fill: #D2E3FC;\n",
       "    }\n",
       "\n",
       "    [theme=dark] .colab-df-convert:hover {\n",
       "      background-color: #434B5C;\n",
       "      box-shadow: 0px 1px 3px 1px rgba(0, 0, 0, 0.15);\n",
       "      filter: drop-shadow(0px 1px 2px rgba(0, 0, 0, 0.3));\n",
       "      fill: #FFFFFF;\n",
       "    }\n",
       "  </style>\n",
       "\n",
       "      <script>\n",
       "        const buttonEl =\n",
       "          document.querySelector('#df-de5df0b8-7786-4d79-90b4-77fc2d160449 button.colab-df-convert');\n",
       "        buttonEl.style.display =\n",
       "          google.colab.kernel.accessAllowed ? 'block' : 'none';\n",
       "\n",
       "        async function convertToInteractive(key) {\n",
       "          const element = document.querySelector('#df-de5df0b8-7786-4d79-90b4-77fc2d160449');\n",
       "          const dataTable =\n",
       "            await google.colab.kernel.invokeFunction('convertToInteractive',\n",
       "                                                     [key], {});\n",
       "          if (!dataTable) return;\n",
       "\n",
       "          const docLinkHtml = 'Like what you see? Visit the ' +\n",
       "            '<a target=\"_blank\" href=https://colab.research.google.com/notebooks/data_table.ipynb>data table notebook</a>'\n",
       "            + ' to learn more about interactive tables.';\n",
       "          element.innerHTML = '';\n",
       "          dataTable['output_type'] = 'display_data';\n",
       "          await google.colab.output.renderOutput(dataTable, element);\n",
       "          const docLink = document.createElement('div');\n",
       "          docLink.innerHTML = docLinkHtml;\n",
       "          element.appendChild(docLink);\n",
       "        }\n",
       "      </script>\n",
       "    </div>\n",
       "  </div>\n",
       "  "
      ],
      "text/plain": [
       "            daily_new_cases\n",
       "time_stamp                 \n",
       "2020-02-15              1.0\n",
       "2020-02-16              1.0\n",
       "2020-02-17              1.0\n",
       "2020-02-18              1.0\n",
       "2020-02-19              1.0"
      ]
     },
     "execution_count": 13,
     "metadata": {},
     "output_type": "execute_result"
    }
   ],
   "source": [
    "df.head()"
   ]
  },
  {
   "cell_type": "code",
   "execution_count": 14,
   "id": "PVfreeEkE1aG",
   "metadata": {
    "colab": {
     "base_uri": "https://localhost:8080/",
     "height": 238
    },
    "id": "PVfreeEkE1aG",
    "outputId": "f3dc14d2-6742-483a-f716-7bc35fb464fb"
   },
   "outputs": [
    {
     "data": {
      "text/html": [
       "\n",
       "  <div id=\"df-b8d4996b-d6be-4908-bbbe-4765018b64b0\">\n",
       "    <div class=\"colab-df-container\">\n",
       "      <div>\n",
       "<style scoped>\n",
       "    .dataframe tbody tr th:only-of-type {\n",
       "        vertical-align: middle;\n",
       "    }\n",
       "\n",
       "    .dataframe tbody tr th {\n",
       "        vertical-align: top;\n",
       "    }\n",
       "\n",
       "    .dataframe thead th {\n",
       "        text-align: right;\n",
       "    }\n",
       "</style>\n",
       "<table border=\"1\" class=\"dataframe\">\n",
       "  <thead>\n",
       "    <tr style=\"text-align: right;\">\n",
       "      <th></th>\n",
       "      <th>daily_new_cases</th>\n",
       "    </tr>\n",
       "    <tr>\n",
       "      <th>time_stamp</th>\n",
       "      <th></th>\n",
       "    </tr>\n",
       "  </thead>\n",
       "  <tbody>\n",
       "    <tr>\n",
       "      <th>2022-01-01</th>\n",
       "      <td>27554.0</td>\n",
       "    </tr>\n",
       "    <tr>\n",
       "      <th>2022-01-02</th>\n",
       "      <td>33751.0</td>\n",
       "    </tr>\n",
       "    <tr>\n",
       "      <th>2022-01-03</th>\n",
       "      <td>37380.0</td>\n",
       "    </tr>\n",
       "    <tr>\n",
       "      <th>2022-01-04</th>\n",
       "      <td>58098.0</td>\n",
       "    </tr>\n",
       "    <tr>\n",
       "      <th>2022-01-05</th>\n",
       "      <td>90929.0</td>\n",
       "    </tr>\n",
       "  </tbody>\n",
       "</table>\n",
       "</div>\n",
       "      <button class=\"colab-df-convert\" onclick=\"convertToInteractive('df-b8d4996b-d6be-4908-bbbe-4765018b64b0')\"\n",
       "              title=\"Convert this dataframe to an interactive table.\"\n",
       "              style=\"display:none;\">\n",
       "        \n",
       "  <svg xmlns=\"http://www.w3.org/2000/svg\" height=\"24px\"viewBox=\"0 0 24 24\"\n",
       "       width=\"24px\">\n",
       "    <path d=\"M0 0h24v24H0V0z\" fill=\"none\"/>\n",
       "    <path d=\"M18.56 5.44l.94 2.06.94-2.06 2.06-.94-2.06-.94-.94-2.06-.94 2.06-2.06.94zm-11 1L8.5 8.5l.94-2.06 2.06-.94-2.06-.94L8.5 2.5l-.94 2.06-2.06.94zm10 10l.94 2.06.94-2.06 2.06-.94-2.06-.94-.94-2.06-.94 2.06-2.06.94z\"/><path d=\"M17.41 7.96l-1.37-1.37c-.4-.4-.92-.59-1.43-.59-.52 0-1.04.2-1.43.59L10.3 9.45l-7.72 7.72c-.78.78-.78 2.05 0 2.83L4 21.41c.39.39.9.59 1.41.59.51 0 1.02-.2 1.41-.59l7.78-7.78 2.81-2.81c.8-.78.8-2.07 0-2.86zM5.41 20L4 18.59l7.72-7.72 1.47 1.35L5.41 20z\"/>\n",
       "  </svg>\n",
       "      </button>\n",
       "      \n",
       "  <style>\n",
       "    .colab-df-container {\n",
       "      display:flex;\n",
       "      flex-wrap:wrap;\n",
       "      gap: 12px;\n",
       "    }\n",
       "\n",
       "    .colab-df-convert {\n",
       "      background-color: #E8F0FE;\n",
       "      border: none;\n",
       "      border-radius: 50%;\n",
       "      cursor: pointer;\n",
       "      display: none;\n",
       "      fill: #1967D2;\n",
       "      height: 32px;\n",
       "      padding: 0 0 0 0;\n",
       "      width: 32px;\n",
       "    }\n",
       "\n",
       "    .colab-df-convert:hover {\n",
       "      background-color: #E2EBFA;\n",
       "      box-shadow: 0px 1px 2px rgba(60, 64, 67, 0.3), 0px 1px 3px 1px rgba(60, 64, 67, 0.15);\n",
       "      fill: #174EA6;\n",
       "    }\n",
       "\n",
       "    [theme=dark] .colab-df-convert {\n",
       "      background-color: #3B4455;\n",
       "      fill: #D2E3FC;\n",
       "    }\n",
       "\n",
       "    [theme=dark] .colab-df-convert:hover {\n",
       "      background-color: #434B5C;\n",
       "      box-shadow: 0px 1px 3px 1px rgba(0, 0, 0, 0.15);\n",
       "      filter: drop-shadow(0px 1px 2px rgba(0, 0, 0, 0.3));\n",
       "      fill: #FFFFFF;\n",
       "    }\n",
       "  </style>\n",
       "\n",
       "      <script>\n",
       "        const buttonEl =\n",
       "          document.querySelector('#df-b8d4996b-d6be-4908-bbbe-4765018b64b0 button.colab-df-convert');\n",
       "        buttonEl.style.display =\n",
       "          google.colab.kernel.accessAllowed ? 'block' : 'none';\n",
       "\n",
       "        async function convertToInteractive(key) {\n",
       "          const element = document.querySelector('#df-b8d4996b-d6be-4908-bbbe-4765018b64b0');\n",
       "          const dataTable =\n",
       "            await google.colab.kernel.invokeFunction('convertToInteractive',\n",
       "                                                     [key], {});\n",
       "          if (!dataTable) return;\n",
       "\n",
       "          const docLinkHtml = 'Like what you see? Visit the ' +\n",
       "            '<a target=\"_blank\" href=https://colab.research.google.com/notebooks/data_table.ipynb>data table notebook</a>'\n",
       "            + ' to learn more about interactive tables.';\n",
       "          element.innerHTML = '';\n",
       "          dataTable['output_type'] = 'display_data';\n",
       "          await google.colab.output.renderOutput(dataTable, element);\n",
       "          const docLink = document.createElement('div');\n",
       "          docLink.innerHTML = docLinkHtml;\n",
       "          element.appendChild(docLink);\n",
       "        }\n",
       "      </script>\n",
       "    </div>\n",
       "  </div>\n",
       "  "
      ],
      "text/plain": [
       "            daily_new_cases\n",
       "time_stamp                 \n",
       "2022-01-01          27554.0\n",
       "2022-01-02          33751.0\n",
       "2022-01-03          37380.0\n",
       "2022-01-04          58098.0\n",
       "2022-01-05          90929.0"
      ]
     },
     "execution_count": 14,
     "metadata": {},
     "output_type": "execute_result"
    }
   ],
   "source": [
    "df.tail()"
   ]
  },
  {
   "cell_type": "code",
   "execution_count": 15,
   "id": "yBDUaFhPzMMb",
   "metadata": {
    "id": "yBDUaFhPzMMb"
   },
   "outputs": [],
   "source": [
    "plt.rcParams['figure.figsize'] = [15,8]"
   ]
  },
  {
   "cell_type": "code",
   "execution_count": 16,
   "id": "cIgSM89EzBTw",
   "metadata": {
    "colab": {
     "base_uri": "https://localhost:8080/",
     "height": 523
    },
    "id": "cIgSM89EzBTw",
    "outputId": "e57be9ab-61fd-464e-bea5-d9345dcab670"
   },
   "outputs": [
    {
     "data": {
      "image/png": "[encoded data removed]",
      "text/plain": [
       "<Figure size 1080x576 with 1 Axes>"
      ]
     },
     "metadata": {
      "needs_background": "light"
     },
     "output_type": "display_data"
    }
   ],
   "source": [
    "plt.plot(df,color='green')\n",
    "plt.title('Ambient Temperature Data - 15 min interval',fontsize=20)\n",
    "plt.xlabel('Date',fontsize=15)\n",
    "plt.ylabel('Celsius',fontsize=15)\n",
    "plt.show()"
   ]
  },
  {
   "cell_type": "code",
   "execution_count": 17,
   "id": "bf59d3e0",
   "metadata": {
    "id": "bf59d3e0"
   },
   "outputs": [],
   "source": [
    "def convert2matrix(data_arr, look_back):\n",
    "    X, Y =[], []\n",
    "    for i in range(len(data_arr)-look_back):\n",
    "        d=i+look_back  \n",
    "        X.append(data_arr[i:d,0])\n",
    "        Y.append(data_arr[d,0])\n",
    "    return np.array(X), np.array(Y)"
   ]
  },
  {
   "cell_type": "code",
   "execution_count": 42,
   "id": "5CBL1GHqurmE",
   "metadata": {
    "id": "5CBL1GHqurmE"
   },
   "outputs": [],
   "source": [
    "from sklearn.preprocessing import MinMaxScaler\n",
    "#create numpy.ndarray \n",
    "df['daily_new_cases'] = df['daily_new_cases'].astype(np.float32)\n",
    "df_arr = df.values\n",
    "df_arr = np.reshape(df_arr, (-1, 1))\n",
    "scaler = MinMaxScaler(feature_range=(0.1, 1))\n",
    "df_arr = scaler.fit_transform(df_arr)"
   ]
  },
  {
   "cell_type": "code",
   "execution_count": 43,
   "id": "1cea6c5f",
   "metadata": {
    "id": "1cea6c5f"
   },
   "outputs": [],
   "source": [
    "#Split data set into testing dataset and train dataset\n",
    "train_size = 621\n",
    "train, test =df_arr[0:train_size,:], df_arr[train_size:len(df_arr),:]\n",
    "# setup look_back window \n",
    "look_back = 10\n",
    "#convert dataset into right shape in order to input into the DNN\n",
    "trainX, trainY = convert2matrix(train, look_back)\n",
    "testX, testY = convert2matrix(test, look_back)\n",
    "trainX = np.reshape(trainX, (trainX.shape[0], 1, trainX.shape[1]))\n",
    "testX = np.reshape(testX, (testX.shape[0], 1, testX.shape[1]))"
   ]
  },
  {
   "cell_type": "code",
   "execution_count": 44,
   "id": "c7d46c39",
   "metadata": {
    "colab": {
     "base_uri": "https://localhost:8080/"
    },
    "id": "c7d46c39",
    "outputId": "a17dc0ac-10ed-4e0b-a516-39abd9be0e36"
   },
   "outputs": [
    {
     "name": "stdout",
     "output_type": "stream",
     "text": [
      "(611, 1, 10)\n",
      "(611,)\n",
      "(60, 1, 10)\n",
      "(60,)\n"
     ]
    }
   ],
   "source": [
    "print(trainX.shape)\n",
    "print(trainY.shape)\n",
    "print(testX.shape)\n",
    "print(testY.shape)"
   ]
  },
  {
   "cell_type": "code",
   "execution_count": 21,
   "id": "GIc1nRcCuP3G",
   "metadata": {
    "colab": {
     "base_uri": "https://localhost:8080/"
    },
    "id": "GIc1nRcCuP3G",
    "outputId": "4af3e99f-8b5a-4cbd-f560-a4b6c069152e"
   },
   "outputs": [
    {
     "name": "stdout",
     "output_type": "stream",
     "text": [
      "\u001b[?25l\r",
      "\u001b[K     |███▍                            | 10 kB 20.9 MB/s eta 0:00:01\r",
      "\u001b[K     |██████▊                         | 20 kB 11.8 MB/s eta 0:00:01\r",
      "\u001b[K     |██████████                      | 30 kB 8.8 MB/s eta 0:00:01\r",
      "\u001b[K     |█████████████▍                  | 40 kB 8.0 MB/s eta 0:00:01\r",
      "\u001b[K     |████████████████▊               | 51 kB 5.7 MB/s eta 0:00:01\r",
      "\u001b[K     |████████████████████            | 61 kB 5.7 MB/s eta 0:00:01\r",
      "\u001b[K     |███████████████████████▍        | 71 kB 5.5 MB/s eta 0:00:01\r",
      "\u001b[K     |██████████████████████████▊     | 81 kB 6.1 MB/s eta 0:00:01\r",
      "\u001b[K     |██████████████████████████████  | 92 kB 6.1 MB/s eta 0:00:01\r",
      "\u001b[K     |████████████████████████████████| 98 kB 3.4 MB/s \n",
      "\u001b[?25h"
     ]
    }
   ],
   "source": [
    "!pip install -q -U keras-tuner"
   ]
  },
  {
   "cell_type": "code",
   "execution_count": 25,
   "id": "M5te5ih0uP6u",
   "metadata": {
    "id": "M5te5ih0uP6u"
   },
   "outputs": [],
   "source": [
    "import pandas as pd\n",
    "from tensorflow import keras\n",
    "from tensorflow.keras import layers\n",
    "from keras_tuner.tuners import RandomSearch\n",
    "from tensorflow.keras.models import Sequential\n",
    "from tensorflow.keras.layers import LSTM\n",
    "from tensorflow.keras.layers import Dense,Dropout,SimpleRNN\n",
    "from tensorflow.keras.layers import Flatten\n",
    "import matplotlib.pyplot as plt"
   ]
  },
  {
   "cell_type": "code",
   "execution_count": 23,
   "id": "rYiJC5hXuP_e",
   "metadata": {
    "id": "rYiJC5hXuP_e"
   },
   "outputs": [],
   "source": [
    "def build_model(hp):\n",
    "    model = keras.Sequential()\n",
    "    model.add(SimpleRNN(hp.Int('rnn_layer',min_value=4,max_value=96,step=4), activation=\"relu\",input_shape=(1,look_back),recurrent_dropout = hp.Choice(\"first_recurrent_dropout\",[0.2,0.4,0.6],default=0.2)))\n",
    "    model.add(Dense(hp.Int('dense_layer',min_value=4,max_value=96,step=4),activation=\"relu\"))\n",
    "    model.add(Dropout(hp.Float('Dropout_rate',min_value=0,max_value=0.5,step=0.1)))\n",
    "    model.add(layers.Dense(1, activation='linear'))\n",
    "    model.compile(\n",
    "        optimizer=keras.optimizers.Adam(\n",
    "             hp.Float('learning_rate', min_value=1e-4, max_value=1e-1, sampling=\"log\")),\n",
    "        loss='mape',\n",
    "        metrics=['mape'])\n",
    "    return model"
   ]
  },
  {
   "cell_type": "code",
   "execution_count": 26,
   "id": "2h_gRerjuQCT",
   "metadata": {
    "id": "2h_gRerjuQCT"
   },
   "outputs": [],
   "source": [
    "tuner = RandomSearch(\n",
    "    build_model,\n",
    "    objective='val_mape',\n",
    "    max_trials=10,\n",
    "    executions_per_trial=1,\n",
    "    directory='project',\n",
    "    project_name='loa_em_1')"
   ]
  },
  {
   "cell_type": "code",
   "execution_count": 27,
   "id": "Dg5AHN3guQFu",
   "metadata": {
    "colab": {
     "base_uri": "https://localhost:8080/"
    },
    "id": "Dg5AHN3guQFu",
    "outputId": "5110a578-731f-4c91-8243-a045afd791cb"
   },
   "outputs": [
    {
     "name": "stdout",
     "output_type": "stream",
     "text": [
      "Search space summary\n",
      "Default search space size: 5\n",
      "rnn_layer (Int)\n",
      "{'default': None, 'conditions': [], 'min_value': 4, 'max_value': 96, 'step': 4, 'sampling': None}\n",
      "first_recurrent_dropout (Choice)\n",
      "{'default': 0.2, 'conditions': [], 'values': [0.2, 0.4, 0.6], 'ordered': True}\n",
      "dense_layer (Int)\n",
      "{'default': None, 'conditions': [], 'min_value': 4, 'max_value': 96, 'step': 4, 'sampling': None}\n",
      "Dropout_rate (Float)\n",
      "{'default': 0.0, 'conditions': [], 'min_value': 0.0, 'max_value': 0.5, 'step': 0.1, 'sampling': None}\n",
      "learning_rate (Float)\n",
      "{'default': 0.0001, 'conditions': [], 'min_value': 0.0001, 'max_value': 0.1, 'step': None, 'sampling': 'log'}\n"
     ]
    }
   ],
   "source": [
    "tuner.search_space_summary()"
   ]
  },
  {
   "cell_type": "code",
   "execution_count": 28,
   "id": "TiBXdF0K8Gpr",
   "metadata": {
    "colab": {
     "base_uri": "https://localhost:8080/"
    },
    "id": "TiBXdF0K8Gpr",
    "outputId": "db6fbdc1-8760-41f6-bded-c4ed0a1d9153"
   },
   "outputs": [
    {
     "name": "stdout",
     "output_type": "stream",
     "text": [
      "Trial 10 Complete [00h 00m 16s]\n",
      "val_mape: 4.207149028778076\n",
      "\n",
      "Best val_mape So Far: 2.684767484664917\n",
      "Total elapsed time: 00h 03m 13s\n",
      "INFO:tensorflow:Oracle triggered exit\n"
     ]
    }
   ],
   "source": [
    "tuner.search(trainX, trainY,\n",
    "             epochs=200,\n",
    "             batch_size=36,\n",
    "             validation_data=(testX, testY))"
   ]
  },
  {
   "cell_type": "code",
   "execution_count": 30,
   "id": "VXXGH_RK8GsD",
   "metadata": {
    "colab": {
     "base_uri": "https://localhost:8080/"
    },
    "id": "VXXGH_RK8GsD",
    "outputId": "b001a9a8-6f02-403b-a1b8-97119f2219ce"
   },
   "outputs": [
    {
     "name": "stdout",
     "output_type": "stream",
     "text": [
      "Results summary\n",
      "Results in project/loa_em_1\n",
      "Showing 10 best trials\n",
      "Objective(name='val_mape', direction='min')\n",
      "Trial summary\n",
      "Hyperparameters:\n",
      "rnn_layer: 24\n",
      "first_recurrent_dropout: 0.6\n",
      "dense_layer: 32\n",
      "Dropout_rate: 0.0\n",
      "learning_rate: 0.034194490712520675\n",
      "Score: 2.684767484664917\n",
      "Trial summary\n",
      "Hyperparameters:\n",
      "rnn_layer: 40\n",
      "first_recurrent_dropout: 0.4\n",
      "dense_layer: 60\n",
      "Dropout_rate: 0.2\n",
      "learning_rate: 0.0004456590398511479\n",
      "Score: 2.709981679916382\n",
      "Trial summary\n",
      "Hyperparameters:\n",
      "rnn_layer: 44\n",
      "first_recurrent_dropout: 0.6\n",
      "dense_layer: 44\n",
      "Dropout_rate: 0.2\n",
      "learning_rate: 0.000520645885266642\n",
      "Score: 2.8050336837768555\n",
      "Trial summary\n",
      "Hyperparameters:\n",
      "rnn_layer: 80\n",
      "first_recurrent_dropout: 0.6\n",
      "dense_layer: 68\n",
      "Dropout_rate: 0.1\n",
      "learning_rate: 0.02300638514215462\n",
      "Score: 2.9541053771972656\n",
      "Trial summary\n",
      "Hyperparameters:\n",
      "rnn_layer: 64\n",
      "first_recurrent_dropout: 0.4\n",
      "dense_layer: 80\n",
      "Dropout_rate: 0.1\n",
      "learning_rate: 0.027177000743455176\n",
      "Score: 2.9700255393981934\n",
      "Trial summary\n",
      "Hyperparameters:\n",
      "rnn_layer: 20\n",
      "first_recurrent_dropout: 0.6\n",
      "dense_layer: 68\n",
      "Dropout_rate: 0.4\n",
      "learning_rate: 0.0005962937438650196\n",
      "Score: 2.985152244567871\n",
      "Trial summary\n",
      "Hyperparameters:\n",
      "rnn_layer: 64\n",
      "first_recurrent_dropout: 0.6\n",
      "dense_layer: 32\n",
      "Dropout_rate: 0.2\n",
      "learning_rate: 0.02790883102566524\n",
      "Score: 2.9976046085357666\n",
      "Trial summary\n",
      "Hyperparameters:\n",
      "rnn_layer: 12\n",
      "first_recurrent_dropout: 0.2\n",
      "dense_layer: 16\n",
      "Dropout_rate: 0.30000000000000004\n",
      "learning_rate: 0.01070974574849999\n",
      "Score: 3.2924346923828125\n",
      "Trial summary\n",
      "Hyperparameters:\n",
      "rnn_layer: 80\n",
      "first_recurrent_dropout: 0.6\n",
      "dense_layer: 12\n",
      "Dropout_rate: 0.2\n",
      "learning_rate: 0.0006462872388376502\n",
      "Score: 3.5588066577911377\n",
      "Trial summary\n",
      "Hyperparameters:\n",
      "rnn_layer: 12\n",
      "first_recurrent_dropout: 0.2\n",
      "dense_layer: 20\n",
      "Dropout_rate: 0.4\n",
      "learning_rate: 0.00048205525289614457\n",
      "Score: 4.207149028778076\n"
     ]
    }
   ],
   "source": [
    "tuner.results_summary()"
   ]
  },
  {
   "cell_type": "code",
   "execution_count": 31,
   "id": "FBpLenJ_DZMX",
   "metadata": {
    "id": "FBpLenJ_DZMX"
   },
   "outputs": [],
   "source": [
    "from warnings import filterwarnings\n",
    "filterwarnings('ignore')"
   ]
  },
  {
   "cell_type": "code",
   "execution_count": 32,
   "id": "eL-a8rAv8Gvg",
   "metadata": {
    "colab": {
     "base_uri": "https://localhost:8080/"
    },
    "id": "eL-a8rAv8Gvg",
    "outputId": "6bae275a-930f-48dd-a037-7d8324c9164c"
   },
   "outputs": [
    {
     "name": "stdout",
     "output_type": "stream",
     "text": [
      "Model: \"sequential\"\n",
      "_________________________________________________________________\n",
      " Layer (type)                Output Shape              Param #   \n",
      "=================================================================\n",
      " simple_rnn (SimpleRNN)      (None, 24)                840       \n",
      "                                                                 \n",
      " dense (Dense)               (None, 32)                800       \n",
      "                                                                 \n",
      " dropout (Dropout)           (None, 32)                0         \n",
      "                                                                 \n",
      " dense_1 (Dense)             (None, 1)                 33        \n",
      "                                                                 \n",
      "=================================================================\n",
      "Total params: 1,673\n",
      "Trainable params: 1,673\n",
      "Non-trainable params: 0\n",
      "_________________________________________________________________\n"
     ]
    }
   ],
   "source": [
    "models = tuner.get_best_models(num_models=2)\n",
    "best_model = models[0]\n",
    "# Build the model.\n",
    "# Needed for `Sequential` without specified `input_shape`.\n",
    "best_model.build(input_shape=(None, 10))\n",
    "best_model.summary()"
   ]
  },
  {
   "cell_type": "code",
   "execution_count": 33,
   "id": "ovKDjDHZEmLV",
   "metadata": {
    "id": "ovKDjDHZEmLV"
   },
   "outputs": [],
   "source": [
    "from tensorflow.keras import optimizers\n",
    "from tensorflow.keras.callbacks import EarlyStopping"
   ]
  },
  {
   "cell_type": "code",
   "execution_count": 47,
   "id": "9NTj0UnjLqZa",
   "metadata": {
    "colab": {
     "base_uri": "https://localhost:8080/"
    },
    "id": "9NTj0UnjLqZa",
    "outputId": "21c66312-5469-439f-c6c1-f92b1f4d15c4"
   },
   "outputs": [
    {
     "name": "stdout",
     "output_type": "stream",
     "text": [
      "Epoch 1/200\n",
      "17/17 [==============================] - 2s 24ms/step - loss: 8.1160 - mape: 8.1160 - val_loss: 5.7080 - val_mape: 5.7080\n",
      "Epoch 2/200\n",
      "17/17 [==============================] - 0s 4ms/step - loss: 7.2416 - mape: 7.2416 - val_loss: 5.1661 - val_mape: 5.1661\n",
      "Epoch 3/200\n",
      "17/17 [==============================] - 0s 5ms/step - loss: 6.6447 - mape: 6.6447 - val_loss: 4.9979 - val_mape: 4.9979\n",
      "Epoch 4/200\n",
      "17/17 [==============================] - 0s 4ms/step - loss: 6.2046 - mape: 6.2046 - val_loss: 5.1294 - val_mape: 5.1294\n",
      "Epoch 5/200\n",
      "17/17 [==============================] - 0s 4ms/step - loss: 6.0358 - mape: 6.0358 - val_loss: 5.1935 - val_mape: 5.1935\n",
      "Epoch 6/200\n",
      "17/17 [==============================] - 0s 6ms/step - loss: 6.0013 - mape: 6.0013 - val_loss: 5.3017 - val_mape: 5.3017\n",
      "Epoch 7/200\n",
      "17/17 [==============================] - 0s 4ms/step - loss: 5.9572 - mape: 5.9572 - val_loss: 5.1913 - val_mape: 5.1913\n",
      "Epoch 8/200\n",
      "17/17 [==============================] - 0s 4ms/step - loss: 5.8499 - mape: 5.8499 - val_loss: 4.6628 - val_mape: 4.6628\n",
      "Epoch 9/200\n",
      "17/17 [==============================] - 0s 4ms/step - loss: 5.8480 - mape: 5.8480 - val_loss: 4.6291 - val_mape: 4.6291\n",
      "Epoch 10/200\n",
      "17/17 [==============================] - 0s 4ms/step - loss: 5.7734 - mape: 5.7734 - val_loss: 5.1367 - val_mape: 5.1367\n",
      "Epoch 11/200\n",
      "17/17 [==============================] - 0s 4ms/step - loss: 5.7955 - mape: 5.7955 - val_loss: 4.6181 - val_mape: 4.6181\n",
      "Epoch 12/200\n",
      "17/17 [==============================] - 0s 4ms/step - loss: 5.6980 - mape: 5.6980 - val_loss: 4.8364 - val_mape: 4.8364\n",
      "Epoch 13/200\n",
      "17/17 [==============================] - 0s 4ms/step - loss: 5.6464 - mape: 5.6464 - val_loss: 4.7111 - val_mape: 4.7111\n",
      "Epoch 14/200\n",
      "17/17 [==============================] - 0s 4ms/step - loss: 5.6096 - mape: 5.6096 - val_loss: 4.6327 - val_mape: 4.6327\n",
      "Epoch 15/200\n",
      "17/17 [==============================] - 0s 4ms/step - loss: 5.5645 - mape: 5.5645 - val_loss: 4.5353 - val_mape: 4.5353\n",
      "Epoch 16/200\n",
      "17/17 [==============================] - 0s 4ms/step - loss: 5.5847 - mape: 5.5847 - val_loss: 4.8889 - val_mape: 4.8889\n",
      "Epoch 17/200\n",
      "17/17 [==============================] - 0s 4ms/step - loss: 5.5322 - mape: 5.5322 - val_loss: 4.4094 - val_mape: 4.4094\n",
      "Epoch 18/200\n",
      "17/17 [==============================] - 0s 5ms/step - loss: 5.5130 - mape: 5.5130 - val_loss: 4.3745 - val_mape: 4.3745\n",
      "Epoch 19/200\n",
      "17/17 [==============================] - 0s 5ms/step - loss: 5.4615 - mape: 5.4615 - val_loss: 4.4417 - val_mape: 4.4417\n",
      "Epoch 20/200\n",
      "17/17 [==============================] - 0s 4ms/step - loss: 5.3820 - mape: 5.3820 - val_loss: 4.4168 - val_mape: 4.4168\n",
      "Epoch 21/200\n",
      "17/17 [==============================] - 0s 5ms/step - loss: 5.3863 - mape: 5.3863 - val_loss: 4.3350 - val_mape: 4.3350\n",
      "Epoch 22/200\n",
      "17/17 [==============================] - 0s 4ms/step - loss: 5.2873 - mape: 5.2873 - val_loss: 4.2891 - val_mape: 4.2891\n",
      "Epoch 23/200\n",
      "17/17 [==============================] - 0s 4ms/step - loss: 5.3133 - mape: 5.3133 - val_loss: 4.2564 - val_mape: 4.2564\n",
      "Epoch 24/200\n",
      "17/17 [==============================] - 0s 4ms/step - loss: 5.4179 - mape: 5.4179 - val_loss: 4.3438 - val_mape: 4.3438\n",
      "Epoch 25/200\n",
      "17/17 [==============================] - 0s 4ms/step - loss: 5.2211 - mape: 5.2211 - val_loss: 4.2133 - val_mape: 4.2133\n",
      "Epoch 26/200\n",
      "17/17 [==============================] - 0s 4ms/step - loss: 5.1588 - mape: 5.1588 - val_loss: 4.4499 - val_mape: 4.4499\n",
      "Epoch 27/200\n",
      "17/17 [==============================] - 0s 4ms/step - loss: 5.1623 - mape: 5.1623 - val_loss: 4.1757 - val_mape: 4.1757\n",
      "Epoch 28/200\n",
      "17/17 [==============================] - 0s 4ms/step - loss: 5.1480 - mape: 5.1480 - val_loss: 4.1876 - val_mape: 4.1876\n",
      "Epoch 29/200\n",
      "17/17 [==============================] - 0s 4ms/step - loss: 5.0902 - mape: 5.0902 - val_loss: 4.2318 - val_mape: 4.2318\n",
      "Epoch 30/200\n",
      "17/17 [==============================] - 0s 4ms/step - loss: 5.1037 - mape: 5.1037 - val_loss: 4.1096 - val_mape: 4.1096\n",
      "Epoch 31/200\n",
      "17/17 [==============================] - 0s 4ms/step - loss: 5.0152 - mape: 5.0152 - val_loss: 4.1111 - val_mape: 4.1111\n",
      "Epoch 32/200\n",
      "17/17 [==============================] - 0s 5ms/step - loss: 5.0268 - mape: 5.0268 - val_loss: 4.0864 - val_mape: 4.0864\n",
      "Epoch 33/200\n",
      "17/17 [==============================] - 0s 4ms/step - loss: 4.9280 - mape: 4.9280 - val_loss: 4.1634 - val_mape: 4.1634\n",
      "Epoch 34/200\n",
      "17/17 [==============================] - 0s 4ms/step - loss: 4.9411 - mape: 4.9411 - val_loss: 4.8580 - val_mape: 4.8580\n",
      "Epoch 35/200\n",
      "17/17 [==============================] - 0s 4ms/step - loss: 4.8783 - mape: 4.8783 - val_loss: 4.1172 - val_mape: 4.1172\n",
      "Epoch 36/200\n",
      "17/17 [==============================] - 0s 5ms/step - loss: 4.8520 - mape: 4.8520 - val_loss: 4.3657 - val_mape: 4.3657\n",
      "Epoch 37/200\n",
      "17/17 [==============================] - 0s 4ms/step - loss: 4.7938 - mape: 4.7938 - val_loss: 4.0518 - val_mape: 4.0518\n",
      "Epoch 38/200\n",
      "17/17 [==============================] - 0s 5ms/step - loss: 4.8056 - mape: 4.8056 - val_loss: 4.6530 - val_mape: 4.6530\n",
      "Epoch 39/200\n",
      "17/17 [==============================] - 0s 4ms/step - loss: 4.8308 - mape: 4.8308 - val_loss: 4.6441 - val_mape: 4.6441\n",
      "Epoch 40/200\n",
      "17/17 [==============================] - 0s 5ms/step - loss: 4.7487 - mape: 4.7487 - val_loss: 4.0200 - val_mape: 4.0200\n",
      "Epoch 41/200\n",
      "17/17 [==============================] - 0s 4ms/step - loss: 4.7343 - mape: 4.7343 - val_loss: 4.1097 - val_mape: 4.1097\n",
      "Epoch 42/200\n",
      "17/17 [==============================] - 0s 4ms/step - loss: 4.6208 - mape: 4.6208 - val_loss: 3.8962 - val_mape: 3.8962\n",
      "Epoch 43/200\n",
      "17/17 [==============================] - 0s 5ms/step - loss: 4.6390 - mape: 4.6390 - val_loss: 3.9835 - val_mape: 3.9835\n",
      "Epoch 44/200\n",
      "17/17 [==============================] - 0s 5ms/step - loss: 4.6873 - mape: 4.6873 - val_loss: 4.7727 - val_mape: 4.7727\n",
      "Epoch 45/200\n",
      "17/17 [==============================] - 0s 4ms/step - loss: 4.8233 - mape: 4.8233 - val_loss: 4.5278 - val_mape: 4.5278\n",
      "Epoch 46/200\n",
      "17/17 [==============================] - 0s 5ms/step - loss: 4.5206 - mape: 4.5206 - val_loss: 3.8807 - val_mape: 3.8807\n",
      "Epoch 47/200\n",
      "17/17 [==============================] - 0s 4ms/step - loss: 4.4527 - mape: 4.4527 - val_loss: 3.7958 - val_mape: 3.7958\n",
      "Epoch 48/200\n",
      "17/17 [==============================] - 0s 4ms/step - loss: 4.4418 - mape: 4.4418 - val_loss: 3.7907 - val_mape: 3.7907\n",
      "Epoch 49/200\n",
      "17/17 [==============================] - 0s 4ms/step - loss: 4.4180 - mape: 4.4180 - val_loss: 3.9166 - val_mape: 3.9166\n",
      "Epoch 50/200\n",
      "17/17 [==============================] - 0s 4ms/step - loss: 4.3995 - mape: 4.3995 - val_loss: 3.8666 - val_mape: 3.8666\n",
      "Epoch 51/200\n",
      "17/17 [==============================] - 0s 5ms/step - loss: 4.4941 - mape: 4.4941 - val_loss: 3.6931 - val_mape: 3.6931\n",
      "Epoch 52/200\n",
      "17/17 [==============================] - 0s 5ms/step - loss: 4.3238 - mape: 4.3238 - val_loss: 3.6747 - val_mape: 3.6747\n",
      "Epoch 53/200\n",
      "17/17 [==============================] - 0s 5ms/step - loss: 4.2588 - mape: 4.2588 - val_loss: 3.7533 - val_mape: 3.7533\n",
      "Epoch 54/200\n",
      "17/17 [==============================] - 0s 4ms/step - loss: 4.3188 - mape: 4.3188 - val_loss: 3.8076 - val_mape: 3.8076\n",
      "Epoch 55/200\n",
      "17/17 [==============================] - 0s 5ms/step - loss: 4.3373 - mape: 4.3373 - val_loss: 3.9006 - val_mape: 3.9006\n",
      "Epoch 56/200\n",
      "17/17 [==============================] - 0s 6ms/step - loss: 4.2528 - mape: 4.2528 - val_loss: 4.5254 - val_mape: 4.5254\n",
      "Epoch 57/200\n",
      "17/17 [==============================] - 0s 4ms/step - loss: 4.3573 - mape: 4.3573 - val_loss: 3.5866 - val_mape: 3.5866\n",
      "Epoch 58/200\n",
      "17/17 [==============================] - 0s 4ms/step - loss: 4.3809 - mape: 4.3809 - val_loss: 4.1542 - val_mape: 4.1542\n",
      "Epoch 59/200\n",
      "17/17 [==============================] - 0s 6ms/step - loss: 4.3246 - mape: 4.3246 - val_loss: 3.6405 - val_mape: 3.6405\n",
      "Epoch 60/200\n",
      "17/17 [==============================] - 0s 4ms/step - loss: 4.1378 - mape: 4.1378 - val_loss: 3.8423 - val_mape: 3.8423\n",
      "Epoch 61/200\n",
      "17/17 [==============================] - 0s 4ms/step - loss: 4.1153 - mape: 4.1153 - val_loss: 3.5279 - val_mape: 3.5279\n",
      "Epoch 62/200\n",
      "17/17 [==============================] - 0s 5ms/step - loss: 4.0415 - mape: 4.0415 - val_loss: 3.5381 - val_mape: 3.5381\n",
      "Epoch 63/200\n",
      "17/17 [==============================] - 0s 5ms/step - loss: 4.0242 - mape: 4.0242 - val_loss: 3.7255 - val_mape: 3.7255\n",
      "Epoch 64/200\n",
      "17/17 [==============================] - 0s 4ms/step - loss: 4.0386 - mape: 4.0386 - val_loss: 3.7747 - val_mape: 3.7747\n",
      "Epoch 65/200\n",
      "17/17 [==============================] - 0s 4ms/step - loss: 3.9583 - mape: 3.9583 - val_loss: 3.6921 - val_mape: 3.6921\n",
      "Epoch 66/200\n",
      "17/17 [==============================] - 0s 5ms/step - loss: 4.0030 - mape: 4.0030 - val_loss: 3.4615 - val_mape: 3.4615\n",
      "Epoch 67/200\n",
      "17/17 [==============================] - 0s 4ms/step - loss: 3.9285 - mape: 3.9285 - val_loss: 3.4705 - val_mape: 3.4705\n",
      "Epoch 68/200\n",
      "17/17 [==============================] - 0s 5ms/step - loss: 3.9987 - mape: 3.9987 - val_loss: 3.4428 - val_mape: 3.4428\n",
      "Epoch 69/200\n",
      "17/17 [==============================] - 0s 5ms/step - loss: 3.9075 - mape: 3.9075 - val_loss: 3.4947 - val_mape: 3.4947\n",
      "Epoch 70/200\n",
      "17/17 [==============================] - 0s 4ms/step - loss: 3.8784 - mape: 3.8784 - val_loss: 3.3700 - val_mape: 3.3700\n",
      "Epoch 71/200\n",
      "17/17 [==============================] - 0s 4ms/step - loss: 3.8454 - mape: 3.8454 - val_loss: 3.3814 - val_mape: 3.3814\n",
      "Epoch 72/200\n",
      "17/17 [==============================] - 0s 5ms/step - loss: 3.7924 - mape: 3.7924 - val_loss: 3.4865 - val_mape: 3.4865\n",
      "Epoch 73/200\n",
      "17/17 [==============================] - 0s 5ms/step - loss: 3.7897 - mape: 3.7897 - val_loss: 3.5561 - val_mape: 3.5561\n",
      "Epoch 74/200\n",
      "17/17 [==============================] - 0s 5ms/step - loss: 3.8366 - mape: 3.8366 - val_loss: 3.3068 - val_mape: 3.3068\n",
      "Epoch 75/200\n",
      "17/17 [==============================] - 0s 4ms/step - loss: 3.8175 - mape: 3.8175 - val_loss: 3.2937 - val_mape: 3.2937\n",
      "Epoch 76/200\n",
      "17/17 [==============================] - 0s 5ms/step - loss: 3.7313 - mape: 3.7313 - val_loss: 3.2825 - val_mape: 3.2825\n",
      "Epoch 77/200\n",
      "17/17 [==============================] - 0s 4ms/step - loss: 3.7894 - mape: 3.7894 - val_loss: 3.3090 - val_mape: 3.3090\n",
      "Epoch 78/200\n",
      "17/17 [==============================] - 0s 5ms/step - loss: 3.7053 - mape: 3.7053 - val_loss: 3.2876 - val_mape: 3.2876\n",
      "Epoch 79/200\n",
      "17/17 [==============================] - 0s 6ms/step - loss: 3.7869 - mape: 3.7869 - val_loss: 3.3498 - val_mape: 3.3498\n",
      "Epoch 80/200\n",
      "17/17 [==============================] - 0s 4ms/step - loss: 3.7311 - mape: 3.7311 - val_loss: 3.4808 - val_mape: 3.4808\n",
      "Epoch 81/200\n",
      "17/17 [==============================] - 0s 4ms/step - loss: 3.6792 - mape: 3.6792 - val_loss: 3.2243 - val_mape: 3.2243\n",
      "Epoch 82/200\n",
      "17/17 [==============================] - 0s 4ms/step - loss: 3.6200 - mape: 3.6200 - val_loss: 3.2919 - val_mape: 3.2919\n",
      "Epoch 83/200\n",
      "17/17 [==============================] - 0s 4ms/step - loss: 3.6498 - mape: 3.6498 - val_loss: 3.1899 - val_mape: 3.1899\n",
      "Epoch 84/200\n",
      "17/17 [==============================] - 0s 4ms/step - loss: 3.6720 - mape: 3.6720 - val_loss: 3.1724 - val_mape: 3.1724\n",
      "Epoch 85/200\n",
      "17/17 [==============================] - 0s 4ms/step - loss: 3.5843 - mape: 3.5843 - val_loss: 3.2136 - val_mape: 3.2136\n",
      "Epoch 86/200\n",
      "17/17 [==============================] - 0s 4ms/step - loss: 3.5757 - mape: 3.5757 - val_loss: 3.1527 - val_mape: 3.1527\n",
      "Epoch 87/200\n",
      "17/17 [==============================] - 0s 4ms/step - loss: 3.5366 - mape: 3.5366 - val_loss: 3.5788 - val_mape: 3.5788\n",
      "Epoch 88/200\n",
      "17/17 [==============================] - 0s 4ms/step - loss: 3.6454 - mape: 3.6454 - val_loss: 3.1251 - val_mape: 3.1251\n",
      "Epoch 89/200\n",
      "17/17 [==============================] - 0s 4ms/step - loss: 3.5354 - mape: 3.5354 - val_loss: 3.1675 - val_mape: 3.1675\n",
      "Epoch 90/200\n",
      "17/17 [==============================] - 0s 4ms/step - loss: 3.4976 - mape: 3.4976 - val_loss: 3.2088 - val_mape: 3.2088\n",
      "Epoch 91/200\n",
      "17/17 [==============================] - 0s 4ms/step - loss: 3.5041 - mape: 3.5041 - val_loss: 3.1764 - val_mape: 3.1764\n",
      "Epoch 92/200\n",
      "17/17 [==============================] - 0s 4ms/step - loss: 3.5290 - mape: 3.5290 - val_loss: 3.2470 - val_mape: 3.2470\n",
      "Epoch 93/200\n",
      "17/17 [==============================] - 0s 5ms/step - loss: 3.5099 - mape: 3.5099 - val_loss: 3.0790 - val_mape: 3.0790\n",
      "Epoch 94/200\n",
      "17/17 [==============================] - 0s 4ms/step - loss: 3.4783 - mape: 3.4783 - val_loss: 3.0627 - val_mape: 3.0627\n",
      "Epoch 95/200\n",
      "17/17 [==============================] - 0s 4ms/step - loss: 3.4844 - mape: 3.4844 - val_loss: 3.2484 - val_mape: 3.2484\n",
      "Epoch 96/200\n",
      "17/17 [==============================] - 0s 4ms/step - loss: 3.5058 - mape: 3.5058 - val_loss: 3.0437 - val_mape: 3.0437\n",
      "Epoch 97/200\n",
      "17/17 [==============================] - 0s 4ms/step - loss: 3.4687 - mape: 3.4687 - val_loss: 3.0699 - val_mape: 3.0699\n",
      "Epoch 98/200\n",
      "17/17 [==============================] - 0s 5ms/step - loss: 3.5164 - mape: 3.5164 - val_loss: 3.3524 - val_mape: 3.3524\n",
      "Epoch 99/200\n",
      "17/17 [==============================] - 0s 4ms/step - loss: 3.5542 - mape: 3.5542 - val_loss: 3.0448 - val_mape: 3.0448\n",
      "Epoch 100/200\n",
      "17/17 [==============================] - 0s 4ms/step - loss: 3.4864 - mape: 3.4864 - val_loss: 3.6095 - val_mape: 3.6095\n",
      "Epoch 101/200\n",
      "17/17 [==============================] - 0s 4ms/step - loss: 3.6459 - mape: 3.6459 - val_loss: 3.0242 - val_mape: 3.0242\n",
      "Epoch 102/200\n",
      "17/17 [==============================] - 0s 4ms/step - loss: 3.3933 - mape: 3.3933 - val_loss: 2.9979 - val_mape: 2.9979\n",
      "Epoch 103/200\n",
      "17/17 [==============================] - 0s 4ms/step - loss: 3.4044 - mape: 3.4044 - val_loss: 2.9896 - val_mape: 2.9896\n",
      "Epoch 104/200\n",
      "17/17 [==============================] - 0s 4ms/step - loss: 3.3782 - mape: 3.3782 - val_loss: 3.0853 - val_mape: 3.0853\n",
      "Epoch 105/200\n",
      "17/17 [==============================] - 0s 4ms/step - loss: 3.3769 - mape: 3.3769 - val_loss: 2.9735 - val_mape: 2.9735\n",
      "Epoch 106/200\n",
      "17/17 [==============================] - 0s 5ms/step - loss: 3.4166 - mape: 3.4166 - val_loss: 2.9656 - val_mape: 2.9656\n",
      "Epoch 107/200\n",
      "17/17 [==============================] - 0s 4ms/step - loss: 3.3666 - mape: 3.3666 - val_loss: 3.0959 - val_mape: 3.0959\n",
      "Epoch 108/200\n",
      "17/17 [==============================] - 0s 4ms/step - loss: 3.4261 - mape: 3.4261 - val_loss: 3.0289 - val_mape: 3.0289\n",
      "Epoch 109/200\n",
      "17/17 [==============================] - 0s 4ms/step - loss: 3.3479 - mape: 3.3479 - val_loss: 3.0921 - val_mape: 3.0921\n",
      "Epoch 110/200\n",
      "17/17 [==============================] - 0s 4ms/step - loss: 3.4664 - mape: 3.4664 - val_loss: 2.9409 - val_mape: 2.9409\n",
      "Epoch 111/200\n",
      "17/17 [==============================] - 0s 4ms/step - loss: 3.3698 - mape: 3.3698 - val_loss: 2.9395 - val_mape: 2.9395\n",
      "Epoch 112/200\n",
      "17/17 [==============================] - 0s 4ms/step - loss: 3.3178 - mape: 3.3178 - val_loss: 2.9349 - val_mape: 2.9349\n",
      "Epoch 113/200\n",
      "17/17 [==============================] - 0s 4ms/step - loss: 3.3286 - mape: 3.3286 - val_loss: 2.9254 - val_mape: 2.9254\n",
      "Epoch 114/200\n",
      "17/17 [==============================] - 0s 4ms/step - loss: 3.3168 - mape: 3.3168 - val_loss: 2.9598 - val_mape: 2.9598\n",
      "Epoch 115/200\n",
      "17/17 [==============================] - 0s 4ms/step - loss: 3.3116 - mape: 3.3116 - val_loss: 2.9189 - val_mape: 2.9189\n",
      "Epoch 116/200\n",
      "17/17 [==============================] - 0s 5ms/step - loss: 3.3112 - mape: 3.3112 - val_loss: 3.0247 - val_mape: 3.0247\n",
      "Epoch 117/200\n",
      "17/17 [==============================] - 0s 4ms/step - loss: 3.3181 - mape: 3.3181 - val_loss: 2.9227 - val_mape: 2.9227\n",
      "Epoch 118/200\n",
      "17/17 [==============================] - 0s 4ms/step - loss: 3.3733 - mape: 3.3733 - val_loss: 3.0014 - val_mape: 3.0014\n",
      "Epoch 119/200\n",
      "17/17 [==============================] - 0s 5ms/step - loss: 3.3749 - mape: 3.3749 - val_loss: 2.9959 - val_mape: 2.9959\n",
      "Epoch 120/200\n",
      "17/17 [==============================] - 0s 4ms/step - loss: 3.3283 - mape: 3.3283 - val_loss: 2.8992 - val_mape: 2.8992\n",
      "Epoch 121/200\n",
      "17/17 [==============================] - 0s 4ms/step - loss: 3.3042 - mape: 3.3042 - val_loss: 2.8962 - val_mape: 2.8962\n",
      "Epoch 122/200\n",
      "17/17 [==============================] - 0s 4ms/step - loss: 3.2699 - mape: 3.2699 - val_loss: 2.9067 - val_mape: 2.9067\n",
      "Epoch 123/200\n",
      "17/17 [==============================] - 0s 4ms/step - loss: 3.2636 - mape: 3.2636 - val_loss: 2.8773 - val_mape: 2.8773\n",
      "Epoch 124/200\n",
      "17/17 [==============================] - 0s 4ms/step - loss: 3.2685 - mape: 3.2685 - val_loss: 2.8726 - val_mape: 2.8726\n",
      "Epoch 125/200\n",
      "17/17 [==============================] - 0s 5ms/step - loss: 3.2659 - mape: 3.2659 - val_loss: 2.8815 - val_mape: 2.8815\n",
      "Epoch 126/200\n",
      "17/17 [==============================] - 0s 4ms/step - loss: 3.2529 - mape: 3.2529 - val_loss: 2.8631 - val_mape: 2.8631\n",
      "Epoch 127/200\n",
      "17/17 [==============================] - 0s 5ms/step - loss: 3.2561 - mape: 3.2561 - val_loss: 2.8688 - val_mape: 2.8688\n",
      "Epoch 128/200\n",
      "17/17 [==============================] - 0s 4ms/step - loss: 3.2861 - mape: 3.2861 - val_loss: 2.8614 - val_mape: 2.8614\n",
      "Epoch 129/200\n",
      "17/17 [==============================] - 0s 4ms/step - loss: 3.2732 - mape: 3.2732 - val_loss: 2.8810 - val_mape: 2.8810\n",
      "Epoch 130/200\n",
      "17/17 [==============================] - 0s 4ms/step - loss: 3.2928 - mape: 3.2928 - val_loss: 2.8502 - val_mape: 2.8502\n",
      "Epoch 131/200\n",
      "17/17 [==============================] - 0s 6ms/step - loss: 3.3035 - mape: 3.3035 - val_loss: 2.8916 - val_mape: 2.8916\n",
      "Epoch 132/200\n",
      "17/17 [==============================] - 0s 4ms/step - loss: 3.2441 - mape: 3.2441 - val_loss: 2.9130 - val_mape: 2.9130\n",
      "Epoch 133/200\n",
      "17/17 [==============================] - 0s 4ms/step - loss: 3.2752 - mape: 3.2752 - val_loss: 2.9118 - val_mape: 2.9118\n",
      "Epoch 134/200\n",
      "17/17 [==============================] - 0s 4ms/step - loss: 3.2852 - mape: 3.2852 - val_loss: 2.8750 - val_mape: 2.8750\n",
      "Epoch 135/200\n",
      "17/17 [==============================] - 0s 4ms/step - loss: 3.2428 - mape: 3.2428 - val_loss: 2.8921 - val_mape: 2.8921\n",
      "Epoch 136/200\n",
      "17/17 [==============================] - 0s 5ms/step - loss: 3.2815 - mape: 3.2815 - val_loss: 2.8403 - val_mape: 2.8403\n",
      "Epoch 137/200\n",
      "17/17 [==============================] - 0s 4ms/step - loss: 3.2339 - mape: 3.2339 - val_loss: 2.8320 - val_mape: 2.8320\n",
      "Epoch 138/200\n",
      "17/17 [==============================] - 0s 4ms/step - loss: 3.2082 - mape: 3.2082 - val_loss: 2.8438 - val_mape: 2.8438\n",
      "Epoch 139/200\n",
      "17/17 [==============================] - 0s 4ms/step - loss: 3.2619 - mape: 3.2619 - val_loss: 2.8307 - val_mape: 2.8307\n",
      "Epoch 140/200\n",
      "17/17 [==============================] - 0s 4ms/step - loss: 3.2037 - mape: 3.2037 - val_loss: 2.9960 - val_mape: 2.9960\n",
      "Epoch 141/200\n",
      "17/17 [==============================] - 0s 5ms/step - loss: 3.2943 - mape: 3.2943 - val_loss: 3.0130 - val_mape: 3.0130\n",
      "Epoch 142/200\n",
      "17/17 [==============================] - 0s 4ms/step - loss: 3.3489 - mape: 3.3489 - val_loss: 2.8732 - val_mape: 2.8732\n",
      "Epoch 143/200\n",
      "17/17 [==============================] - 0s 4ms/step - loss: 3.2886 - mape: 3.2886 - val_loss: 2.9538 - val_mape: 2.9538\n",
      "Epoch 144/200\n",
      "17/17 [==============================] - 0s 5ms/step - loss: 3.1969 - mape: 3.1969 - val_loss: 2.8351 - val_mape: 2.8351\n",
      "Epoch 145/200\n",
      "17/17 [==============================] - 0s 4ms/step - loss: 3.2316 - mape: 3.2316 - val_loss: 2.8937 - val_mape: 2.8937\n",
      "Epoch 146/200\n",
      "17/17 [==============================] - 0s 4ms/step - loss: 3.1922 - mape: 3.1922 - val_loss: 2.8432 - val_mape: 2.8432\n",
      "Epoch 147/200\n",
      "17/17 [==============================] - 0s 4ms/step - loss: 3.2022 - mape: 3.2022 - val_loss: 2.8283 - val_mape: 2.8283\n",
      "Epoch 148/200\n",
      "17/17 [==============================] - 0s 4ms/step - loss: 3.2090 - mape: 3.2090 - val_loss: 2.8329 - val_mape: 2.8329\n",
      "Epoch 149/200\n",
      "17/17 [==============================] - 0s 4ms/step - loss: 3.2054 - mape: 3.2054 - val_loss: 2.8518 - val_mape: 2.8518\n",
      "Epoch 150/200\n",
      "17/17 [==============================] - 0s 4ms/step - loss: 3.2177 - mape: 3.2177 - val_loss: 2.9416 - val_mape: 2.9416\n",
      "Epoch 151/200\n",
      "17/17 [==============================] - 0s 4ms/step - loss: 3.1818 - mape: 3.1818 - val_loss: 2.8316 - val_mape: 2.8316\n",
      "Epoch 152/200\n",
      "17/17 [==============================] - 0s 4ms/step - loss: 3.1856 - mape: 3.1856 - val_loss: 2.8067 - val_mape: 2.8067\n",
      "Epoch 153/200\n",
      "17/17 [==============================] - 0s 4ms/step - loss: 3.2091 - mape: 3.2091 - val_loss: 2.8278 - val_mape: 2.8278\n",
      "Epoch 154/200\n",
      "17/17 [==============================] - 0s 4ms/step - loss: 3.1832 - mape: 3.1832 - val_loss: 2.8018 - val_mape: 2.8018\n",
      "Epoch 155/200\n",
      "17/17 [==============================] - 0s 4ms/step - loss: 3.1563 - mape: 3.1563 - val_loss: 2.9319 - val_mape: 2.9319\n",
      "Epoch 156/200\n",
      "17/17 [==============================] - 0s 4ms/step - loss: 3.3023 - mape: 3.3023 - val_loss: 2.9994 - val_mape: 2.9994\n",
      "Epoch 157/200\n",
      "17/17 [==============================] - 0s 6ms/step - loss: 3.1492 - mape: 3.1492 - val_loss: 2.7968 - val_mape: 2.7968\n",
      "Epoch 158/200\n",
      "17/17 [==============================] - 0s 4ms/step - loss: 3.1982 - mape: 3.1982 - val_loss: 2.8205 - val_mape: 2.8205\n",
      "Epoch 159/200\n",
      "17/17 [==============================] - 0s 4ms/step - loss: 3.1675 - mape: 3.1675 - val_loss: 2.7767 - val_mape: 2.7767\n",
      "Epoch 160/200\n",
      "17/17 [==============================] - 0s 5ms/step - loss: 3.1435 - mape: 3.1435 - val_loss: 2.7701 - val_mape: 2.7701\n",
      "Epoch 161/200\n",
      "17/17 [==============================] - 0s 4ms/step - loss: 3.1447 - mape: 3.1447 - val_loss: 2.7674 - val_mape: 2.7674\n",
      "Epoch 162/200\n",
      "17/17 [==============================] - 0s 5ms/step - loss: 3.1371 - mape: 3.1371 - val_loss: 2.8958 - val_mape: 2.8958\n",
      "Epoch 163/200\n",
      "17/17 [==============================] - 0s 4ms/step - loss: 3.2456 - mape: 3.2456 - val_loss: 2.7800 - val_mape: 2.7800\n",
      "Epoch 164/200\n",
      "17/17 [==============================] - 0s 4ms/step - loss: 3.1573 - mape: 3.1573 - val_loss: 2.9345 - val_mape: 2.9345\n",
      "Epoch 165/200\n",
      "17/17 [==============================] - 0s 5ms/step - loss: 3.1733 - mape: 3.1733 - val_loss: 2.8737 - val_mape: 2.8737\n",
      "Epoch 166/200\n",
      "17/17 [==============================] - 0s 4ms/step - loss: 3.1805 - mape: 3.1805 - val_loss: 3.0720 - val_mape: 3.0720\n",
      "Epoch 167/200\n",
      "17/17 [==============================] - 0s 5ms/step - loss: 3.2177 - mape: 3.2177 - val_loss: 2.8981 - val_mape: 2.8981\n",
      "Epoch 168/200\n",
      "17/17 [==============================] - 0s 4ms/step - loss: 3.1488 - mape: 3.1488 - val_loss: 2.7679 - val_mape: 2.7679\n",
      "Epoch 169/200\n",
      "17/17 [==============================] - 0s 5ms/step - loss: 3.1944 - mape: 3.1944 - val_loss: 2.8674 - val_mape: 2.8674\n",
      "Epoch 170/200\n",
      "17/17 [==============================] - 0s 5ms/step - loss: 3.1392 - mape: 3.1392 - val_loss: 2.8374 - val_mape: 2.8374\n",
      "Epoch 171/200\n",
      "17/17 [==============================] - 0s 6ms/step - loss: 3.1363 - mape: 3.1363 - val_loss: 2.7535 - val_mape: 2.7535\n",
      "Epoch 172/200\n",
      "17/17 [==============================] - 0s 5ms/step - loss: 3.0982 - mape: 3.0982 - val_loss: 2.7787 - val_mape: 2.7787\n",
      "Epoch 173/200\n",
      "17/17 [==============================] - 0s 5ms/step - loss: 3.1207 - mape: 3.1207 - val_loss: 2.7938 - val_mape: 2.7938\n",
      "Epoch 174/200\n",
      "17/17 [==============================] - 0s 5ms/step - loss: 3.1224 - mape: 3.1224 - val_loss: 2.8574 - val_mape: 2.8574\n",
      "Epoch 175/200\n",
      "17/17 [==============================] - 0s 4ms/step - loss: 3.1544 - mape: 3.1544 - val_loss: 2.7533 - val_mape: 2.7533\n",
      "Epoch 176/200\n",
      "17/17 [==============================] - 0s 4ms/step - loss: 3.0905 - mape: 3.0905 - val_loss: 2.8876 - val_mape: 2.8876\n",
      "Epoch 177/200\n",
      "17/17 [==============================] - 0s 5ms/step - loss: 3.1430 - mape: 3.1430 - val_loss: 2.7443 - val_mape: 2.7443\n",
      "Epoch 178/200\n",
      "17/17 [==============================] - 0s 4ms/step - loss: 3.1672 - mape: 3.1672 - val_loss: 2.7802 - val_mape: 2.7802\n",
      "Epoch 179/200\n",
      "17/17 [==============================] - 0s 4ms/step - loss: 3.1449 - mape: 3.1449 - val_loss: 2.8781 - val_mape: 2.8781\n",
      "Epoch 180/200\n",
      "17/17 [==============================] - 0s 4ms/step - loss: 3.0883 - mape: 3.0883 - val_loss: 2.7962 - val_mape: 2.7962\n",
      "Epoch 181/200\n",
      "17/17 [==============================] - 0s 5ms/step - loss: 3.1999 - mape: 3.1999 - val_loss: 3.1666 - val_mape: 3.1666\n",
      "Epoch 182/200\n",
      "17/17 [==============================] - 0s 5ms/step - loss: 3.1777 - mape: 3.1777 - val_loss: 2.7410 - val_mape: 2.7410\n",
      "Epoch 183/200\n",
      "17/17 [==============================] - 0s 4ms/step - loss: 3.1365 - mape: 3.1365 - val_loss: 2.8339 - val_mape: 2.8339\n",
      "Epoch 184/200\n",
      "17/17 [==============================] - 0s 4ms/step - loss: 3.1797 - mape: 3.1797 - val_loss: 2.7371 - val_mape: 2.7371\n",
      "Epoch 185/200\n",
      "17/17 [==============================] - 0s 4ms/step - loss: 3.1428 - mape: 3.1428 - val_loss: 2.8622 - val_mape: 2.8622\n",
      "Epoch 186/200\n",
      "17/17 [==============================] - 0s 4ms/step - loss: 3.1058 - mape: 3.1058 - val_loss: 2.7834 - val_mape: 2.7834\n",
      "Epoch 187/200\n",
      "17/17 [==============================] - 0s 5ms/step - loss: 3.0601 - mape: 3.0601 - val_loss: 2.7341 - val_mape: 2.7341\n",
      "Epoch 188/200\n",
      "17/17 [==============================] - 0s 4ms/step - loss: 3.0823 - mape: 3.0823 - val_loss: 2.7317 - val_mape: 2.7317\n",
      "Epoch 189/200\n",
      "17/17 [==============================] - 0s 4ms/step - loss: 3.0875 - mape: 3.0875 - val_loss: 3.0164 - val_mape: 3.0164\n",
      "Epoch 190/200\n",
      "17/17 [==============================] - 0s 5ms/step - loss: 3.0743 - mape: 3.0743 - val_loss: 2.7295 - val_mape: 2.7295\n",
      "Epoch 191/200\n",
      "17/17 [==============================] - 0s 4ms/step - loss: 3.0642 - mape: 3.0642 - val_loss: 2.7646 - val_mape: 2.7646\n",
      "Epoch 192/200\n",
      "17/17 [==============================] - 0s 4ms/step - loss: 3.1383 - mape: 3.1383 - val_loss: 2.7318 - val_mape: 2.7318\n",
      "Epoch 193/200\n",
      "17/17 [==============================] - 0s 6ms/step - loss: 3.1195 - mape: 3.1195 - val_loss: 2.7269 - val_mape: 2.7269\n",
      "Epoch 194/200\n",
      "17/17 [==============================] - 0s 4ms/step - loss: 3.0860 - mape: 3.0860 - val_loss: 2.8330 - val_mape: 2.8330\n",
      "Epoch 195/200\n",
      "17/17 [==============================] - 0s 4ms/step - loss: 3.0661 - mape: 3.0661 - val_loss: 2.7374 - val_mape: 2.7374\n",
      "Epoch 196/200\n",
      "17/17 [==============================] - 0s 5ms/step - loss: 3.0782 - mape: 3.0782 - val_loss: 2.7322 - val_mape: 2.7322\n",
      "Epoch 197/200\n",
      "17/17 [==============================] - 0s 4ms/step - loss: 3.0483 - mape: 3.0483 - val_loss: 2.7886 - val_mape: 2.7886\n",
      "Epoch 198/200\n",
      "17/17 [==============================] - 0s 5ms/step - loss: 3.0335 - mape: 3.0335 - val_loss: 2.7190 - val_mape: 2.7190\n",
      "Epoch 199/200\n",
      "17/17 [==============================] - 0s 4ms/step - loss: 3.0632 - mape: 3.0632 - val_loss: 2.7164 - val_mape: 2.7164\n",
      "Epoch 200/200\n",
      "17/17 [==============================] - 0s 5ms/step - loss: 3.0401 - mape: 3.0401 - val_loss: 2.7376 - val_mape: 2.7376\n"
     ]
    }
   ],
   "source": [
    "model = Sequential()\n",
    "model.add(SimpleRNN(24,activation='relu',input_dim = 10,return_sequences=True))\n",
    "model.add(SimpleRNN(8,activation='relu'))\n",
    "model.add(Dense(8,activation='relu'))\n",
    "model.add(Dense(1,activation='linear'))\n",
    "ad=optimizers.Adam(learning_rate = 0.00014194490712520675)\n",
    "model.compile(optimizer = ad, loss = 'mape', metrics = ['mape'])\n",
    "model_history=model.fit(trainX, trainY,validation_data=(testX,testY), batch_size = 36, epochs = 200,callbacks=[EarlyStopping(monitor='val_loss', patience=25)])"
   ]
  },
  {
   "cell_type": "code",
   "execution_count": 48,
   "id": "77c05906",
   "metadata": {
    "id": "77c05906"
   },
   "outputs": [],
   "source": [
    "def model_loss(history):\n",
    "    plt.figure(figsize=(8,4))\n",
    "    plt.plot(history.history['loss'], label='Train Loss')\n",
    "    plt.plot(history.history['val_loss'], label='Test Loss')\n",
    "    plt.title('model loss')\n",
    "    plt.ylabel('loss')\n",
    "    plt.xlabel('epochs')\n",
    "    plt.legend(loc='upper right')\n",
    "    plt.show();"
   ]
  },
  {
   "cell_type": "code",
   "execution_count": 49,
   "id": "6vZ-AXOUurmJ",
   "metadata": {
    "id": "6vZ-AXOUurmJ"
   },
   "outputs": [],
   "source": [
    "train_score = model.evaluate(trainX, trainY,verbose=0)\n",
    "test_score = model.evaluate(testX, testY,verbose=0)"
   ]
  },
  {
   "cell_type": "code",
   "execution_count": 50,
   "id": "45a22c27",
   "metadata": {
    "colab": {
     "base_uri": "https://localhost:8080/",
     "height": 329
    },
    "id": "45a22c27",
    "outputId": "9caf8d95-9821-4162-8ee6-64d39cc3c313"
   },
   "outputs": [
    {
     "name": "stdout",
     "output_type": "stream",
     "text": [
      "Train MAPE : 3.04 \n",
      "Test MAPE : 2.74 \n"
     ]
    },
    {
     "data": {
      "image/png": "[encoded data removed]",
      "text/plain": [
       "<Figure size 576x288 with 1 Axes>"
      ]
     },
     "metadata": {
      "needs_background": "light"
     },
     "output_type": "display_data"
    }
   ],
   "source": [
    "train_predict = model.predict(trainX)\n",
    "test_predict = model.predict(testX)\n",
    "\n",
    "# invert predictions\n",
    "train_predict = scaler.inverse_transform(train_predict)\n",
    "trainY = scaler.inverse_transform([trainY])\n",
    "test_predict = scaler.inverse_transform(test_predict)\n",
    "testY = scaler.inverse_transform([testY])\n",
    "print('Train MAPE : %.2f ' % (train_score[1]))\n",
    "print('Test MAPE : %.2f ' % (test_score[1]))\n",
    "model_loss(model_history)"
   ]
  },
  {
   "cell_type": "code",
   "execution_count": 39,
   "id": "dc942f74",
   "metadata": {
    "id": "dc942f74"
   },
   "outputs": [],
   "source": [
    "import seaborn as sns"
   ]
  },
  {
   "cell_type": "code",
   "execution_count": 51,
   "id": "dee9bab8",
   "metadata": {
    "id": "dee9bab8"
   },
   "outputs": [],
   "source": [
    "def prediction_plot(testY, test_predict,look_back):\n",
    "    len_prediction=[x for x in range(611,671)]\n",
    "    plt.plot(trainY.reshape(-1,))\n",
    "    plt.plot(len_prediction, testY.reshape(-1,), marker='.', label='actual')\n",
    "    plt.plot(len_prediction, test_predict, 'g', label=\"prediction\")\n",
    "    plt.tight_layout()\n",
    "    sns.despine(top=True)\n",
    "    plt.subplots_adjust(left=0.07)\n",
    "    plt.ylabel('Units', size=15)\n",
    "    plt.xlabel('Time step', size=15)\n",
    "    plt.legend(fontsize=15)\n",
    "    plt.show()"
   ]
  },
  {
   "cell_type": "code",
   "execution_count": 52,
   "id": "363040b5",
   "metadata": {
    "colab": {
     "base_uri": "https://localhost:8080/",
     "height": 604
    },
    "id": "363040b5",
    "outputId": "975b704a-1efe-40a4-889e-12a5d307784c"
   },
   "outputs": [
    {
     "data": {
      "image/png": "[encoded data removed]",
      "text/plain": [
       "<Figure size 1080x576 with 1 Axes>"
      ]
     },
     "metadata": {
      "needs_background": "light"
     },
     "output_type": "display_data"
    }
   ],
   "source": [
    "test_predict = model.predict(testX)\n",
    "test_predict = scaler.inverse_transform(test_predict)\n",
    "prediction_plot(testY, test_predict,look_back)"
   ]
  },
  {
   "cell_type": "code",
   "execution_count": null,
   "id": "f8a7708c",
   "metadata": {
    "id": "f8a7708c"
   },
   "outputs": [],
   "source": []
  }
 ],
 "metadata": {
  "colab": {
   "collapsed_sections": [],
   "name": "covid_HPT_RNN_version_2.ipynb",
   "provenance": []
  },
  "kernelspec": {
   "display_name": "Python 3",
   "language": "python",
   "name": "python3"
  },
  "language_info": {
   "codemirror_mode": {
    "name": "ipython",
    "version": 3
   },
   "file_extension": ".py",
   "mimetype": "text/x-python",
   "name": "python",
   "nbconvert_exporter": "python",
   "pygments_lexer": "ipython3",
   "version": "3.8.8"
  }
 },
 "nbformat": 4,
 "nbformat_minor": 5
}
